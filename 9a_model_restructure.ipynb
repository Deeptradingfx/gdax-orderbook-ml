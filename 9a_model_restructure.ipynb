{
 "cells": [
  {
   "cell_type": "code",
   "execution_count": 1,
   "metadata": {},
   "outputs": [],
   "source": [
    "# ML model restructure\n",
    "        \n",
    "# Simplified stacked 3-layer model\n",
    "    # Keras sequential model\n",
    "        # Stateful + Return sequence set to True\n",
    "        # Stateful + Return sequence set to False\n",
    "    # Keras functional API\n",
    "        # Stateful + Return sequence set to True\n",
    "        # Stateful + Return sequence set to False\n",
    "    # Raw tensorflow \n",
    "        # Stateful + Return sequence set to True\n",
    "        # Stateful + Return sequence set to False\n",
    "        \n",
    "# Single LSTM with 10 nodes\n",
    "    # Keras sequential model\n",
    "    # Keras functional API\n",
    "    # Raw tensorflow \n",
    "\n",
    "# Implement Bao, Yue, Rao deep learning framework (WT, stacked SAE, Stacked LSTM Model)\n",
    "    # Wavelet transform, python: https://pywavelets.readthedocs.io/en/latest/\n",
    "    # Keras Functional API\n",
    "    # Raw tensorflow"
   ]
  },
  {
   "cell_type": "code",
   "execution_count": 2,
   "metadata": {},
   "outputs": [
    {
     "name": "stderr",
     "output_type": "stream",
     "text": [
      "Using TensorFlow backend.\n"
     ]
    }
   ],
   "source": [
    "# Imports\n",
    "import tensorflow as tf\n",
    "import keras\n",
    "from keras.models import Sequential\n",
    "from keras.layers import Dense, Activation, Dropout\n",
    "from keras.layers import Embedding, Flatten\n",
    "from keras.layers import LSTM, GRU\n",
    "from keras.models import load_model\n",
    "from keras.models import model_from_json\n",
    "from keras import backend as K\n",
    "from keras import optimizers\n",
    "from keras.layers import Bidirectional\n",
    "from keras.layers import TimeDistributed\n",
    "\n",
    "from keras.models import Model"
   ]
  },
  {
   "cell_type": "code",
   "execution_count": null,
   "metadata": {},
   "outputs": [],
   "source": []
  },
  {
   "cell_type": "code",
   "execution_count": 8,
   "metadata": {},
   "outputs": [
    {
     "name": "stdout",
     "output_type": "stream",
     "text": [
      "_________________________________________________________________\n",
      "Layer (type)                 Output Shape              Param #   \n",
      "=================================================================\n",
      "LSTM_1 (Bidirectional)       (10, 10, 64)              10752     \n",
      "_________________________________________________________________\n",
      "LSTM_2 (Bidirectional)       (10, 10, 64)              24576     \n",
      "_________________________________________________________________\n",
      "LSTM_3 (Bidirectional)       (10, 64)                  24576     \n",
      "_________________________________________________________________\n",
      "Dense_2_output (Dense)       (10, 2)                   130       \n",
      "=================================================================\n",
      "Total params: 60,034\n",
      "Trainable params: 60,034\n",
      "Non-trainable params: 0\n",
      "_________________________________________________________________\n"
     ]
    }
   ],
   "source": [
    "# Simplified stacked 3-layer model\n",
    "    # Keras sequential model, Stateful + Return sequence set to True\n",
    "    \n",
    "batch_size = 10\n",
    "    # Batch size must be provided/known if RNN/Stateful = True\n",
    "timesteps = 10 \n",
    "data_dim = 10\n",
    "\n",
    "model = Sequential()\n",
    "model.add(Bidirectional(LSTM(32, return_sequences = True,\n",
    "                            use_bias= False, bias_initializer = 'ones',\n",
    "                            recurrent_dropout = 0.5, dropout = 0.5,\n",
    "                            go_backwards=False,name='main_input'),\n",
    "                            batch_input_shape=(batch_size , timesteps, data_dim ),name=\"LSTM_1\")) \n",
    "                                #input_shape(batch_size, timesteps,features)\n",
    "                                #input_shape(timesteps,features)  \n",
    "        \n",
    "model.add(Bidirectional(LSTM(32, return_sequences=True,stateful=True,\n",
    "                            use_bias= False, bias_initializer = 'ones',\n",
    "                            recurrent_dropout = 0.2, dropout = 0.2),name=\"LSTM_2\"))\n",
    "\n",
    "model.add(Bidirectional(LSTM(32, return_sequences=False,stateful=True, \n",
    "                            use_bias= False, bias_initializer = 'ones',\n",
    "                            recurrent_dropout = 0.2, dropout = 0.2),name=\"LSTM_3\"))\n",
    "\n",
    "\n",
    "model.add(Dense(2, activation='sigmoid',name=\"Dense_2_output\"))\n",
    "\n",
    "sgd = optimizers.SGD(lr=0.03, decay=1e-6, momentum=0.975, nesterov=True)\n",
    "\n",
    "model.compile(loss = \"binary_crossentropy\", optimizer = 'sgd', metrics = ['accuracy'])\n",
    "model.summary()"
   ]
  },
  {
   "cell_type": "code",
   "execution_count": 4,
   "metadata": {},
   "outputs": [
    {
     "name": "stdout",
     "output_type": "stream",
     "text": [
      "_________________________________________________________________\n",
      "Layer (type)                 Output Shape              Param #   \n",
      "=================================================================\n",
      "input_1 (InputLayer)         (None, 10, 10)            0         \n",
      "_________________________________________________________________\n",
      "lstm_3 (LSTM)                (None, 10, 32)            5504      \n",
      "_________________________________________________________________\n",
      "dense_1 (Dense)              (None, 10, 2)             66        \n",
      "=================================================================\n",
      "Total params: 5,570\n",
      "Trainable params: 5,570\n",
      "Non-trainable params: 0\n",
      "_________________________________________________________________\n"
     ]
    }
   ],
   "source": [
    "# Single layer LSTM with Dense output test in Keras Functional API\n",
    "    \n",
    "from keras.layers import Input\n",
    "visible = Input(shape=(10,10))\n",
    "hidden1 = LSTM(32, return_sequences=True)(visible)\n",
    "output = Dense(2, activation='sigmoid')(hidden1)\n",
    "model = Model(inputs=visible, outputs=output)\n",
    "\n",
    "model.summary()"
   ]
  },
  {
   "cell_type": "code",
   "execution_count": 9,
   "metadata": {},
   "outputs": [
    {
     "name": "stdout",
     "output_type": "stream",
     "text": [
      "_________________________________________________________________\n",
      "Layer (type)                 Output Shape              Param #   \n",
      "=================================================================\n",
      "input_4 (InputLayer)         (10, 10, 10)              0         \n",
      "_________________________________________________________________\n",
      "lstm_14 (LSTM)               (10, 10, 32)              5504      \n",
      "_________________________________________________________________\n",
      "lstm_15 (LSTM)               (10, 10, 32)              8320      \n",
      "_________________________________________________________________\n",
      "lstm_16 (LSTM)               (10, 32)                  8320      \n",
      "_________________________________________________________________\n",
      "dense_4 (Dense)              (10, 2)                   66        \n",
      "=================================================================\n",
      "Total params: 22,210\n",
      "Trainable params: 22,210\n",
      "Non-trainable params: 0\n",
      "_________________________________________________________________\n",
      "None\n"
     ]
    }
   ],
   "source": [
    "# Simplified stacked 3-layer model\n",
    "    # Keras Functional model, Stateful + Return sequence set to True\n",
    "    # batch_shape enabled for return sequences and stateful\n",
    "        # Enable stateful after succesful batch test\n",
    "\n",
    "# input layer\n",
    "visible = Input(batch_shape=(10,10,10))\n",
    "\n",
    "# feature extraction\n",
    "extract = LSTM(32, return_sequences=True)(visible)\n",
    "extract2 = LSTM(32, return_sequences=True)(extract)\n",
    "extract3 = LSTM(32,return_sequences=False)(extract2)\n",
    "\n",
    "# classifier from extraction\n",
    "output = Dense(2, activation='sigmoid')(extract3)\n",
    "\n",
    "# output \n",
    "model = Model(inputs=visible, outputs=output)\n",
    "print(model.summary())"
   ]
  },
  {
   "cell_type": "code",
   "execution_count": null,
   "metadata": {},
   "outputs": [],
   "source": []
  },
  {
   "cell_type": "code",
   "execution_count": null,
   "metadata": {},
   "outputs": [],
   "source": []
  },
  {
   "cell_type": "code",
   "execution_count": null,
   "metadata": {},
   "outputs": [],
   "source": []
  }
 ],
 "metadata": {
  "kernelspec": {
   "display_name": "Python 3",
   "language": "python",
   "name": "python3"
  },
  "language_info": {
   "codemirror_mode": {
    "name": "ipython",
    "version": 3
   },
   "file_extension": ".py",
   "mimetype": "text/x-python",
   "name": "python",
   "nbconvert_exporter": "python",
   "pygments_lexer": "ipython3",
   "version": "3.6.6"
  }
 },
 "nbformat": 4,
 "nbformat_minor": 2
}
