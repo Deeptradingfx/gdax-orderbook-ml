{
 "cells": [
  {
   "cell_type": "code",
   "execution_count": 13,
   "metadata": {},
   "outputs": [],
   "source": [
    "# Using test data to build/prototype-out a ML model\n",
    "    # Further restructuring data for ML input layers\n",
    "        # Variable isolation and selection refinement\n",
    "    # Reshaping, encoding, normalization\n",
    "    # Input, layer, and output specification\n",
    "    # Force keras/tensorflow to use GPU backend"
   ]
  },
  {
   "cell_type": "code",
   "execution_count": 14,
   "metadata": {},
   "outputs": [],
   "source": [
    "# Imports\n",
    "import pandas as pd\n",
    "import numpy as np\n",
    "import json\n",
    "import datetime \n",
    "import matplotlib.pyplot as plt\n",
    "%matplotlib inline\n",
    "\n",
    "# Pymongo import for connection to local client DB\n",
    "import pymongo\n",
    "from pymongo import MongoClient\n",
    "\n",
    "# ML Imports \n",
    "import tensorflow as tf\n",
    "import keras\n",
    "from keras.models import Sequential\n",
    "from keras.layers import Dense, Activation\n",
    "from keras.layers import LSTM, GRU\n",
    "from keras.models import load_model\n",
    "from keras import backend as K\n",
    "\n",
    "# Preprocessing Imports\n",
    "from sklearn.model_selection import train_test_split\n",
    "from sklearn.preprocessing import LabelEncoder, StandardScaler, MinMaxScaler\n",
    "from keras.utils import to_categorical \n",
    "\n",
    "# Import to check check for GPU availability for tensorflow backend\n",
    "from tensorflow.python.client import device_lib"
   ]
  },
  {
   "cell_type": "code",
   "execution_count": 15,
   "metadata": {},
   "outputs": [],
   "source": [
    "# Mongodb connection for live feed of data into model\n",
    "    # Implementation after verification of test data -> model prototype input layer working"
   ]
  },
  {
   "cell_type": "code",
   "execution_count": 16,
   "metadata": {},
   "outputs": [
    {
     "name": "stdout",
     "output_type": "stream",
     "text": [
      "[name: \"/device:CPU:0\"\n",
      "device_type: \"CPU\"\n",
      "memory_limit: 268435456\n",
      "locality {\n",
      "}\n",
      "incarnation: 16169846431139365899\n",
      ", name: \"/device:GPU:0\"\n",
      "device_type: \"GPU\"\n",
      "memory_limit: 9222031934\n",
      "locality {\n",
      "  bus_id: 1\n",
      "  links {\n",
      "  }\n",
      "}\n",
      "incarnation: 13036165719127486442\n",
      "physical_device_desc: \"device: 0, name: GeForce GTX 1080 Ti, pci bus id: 0000:01:00.0, compute capability: 6.1\"\n",
      "]\n",
      "==============================================\n",
      "['/job:localhost/replica:0/task:0/device:GPU:0']\n"
     ]
    }
   ],
   "source": [
    "# Verify GPU availability for tensorflow backend\n",
    "print(device_lib.list_local_devices())\n",
    "print(\"==============================================\")\n",
    "print(K.tensorflow_backend._get_available_gpus())"
   ]
  },
  {
   "cell_type": "code",
   "execution_count": null,
   "metadata": {},
   "outputs": [],
   "source": []
  },
  {
   "cell_type": "code",
   "execution_count": 17,
   "metadata": {},
   "outputs": [],
   "source": [
    "# Read in test data for L2 orderbook state (bids + asks)\n",
    "    # Read in test data for subsquent L2 orderbook update states (L2 updates to bid + asks)\n",
    "snapshot_asks_df = pd.read_csv(\"test_data/snapshot_asks.csv\")\n",
    "snapshot_bids_df = pd.read_csv(\"test_data/snapshot_bids.csv\")\n",
    "l2update_df = pd.read_csv(\"test_data/l2update.csv\", dtype ={'changes':object})\n",
    "request_log_df= pd.read_csv(\"test_data/request_log.csv\")"
   ]
  },
  {
   "cell_type": "code",
   "execution_count": 18,
   "metadata": {},
   "outputs": [
    {
     "name": "stdout",
     "output_type": "stream",
     "text": [
      "   side    price      size\n",
      "0  sell  8014.00  0.006469\n",
      "1  sell  8014.34  0.001000\n",
      "2  sell  8015.00  0.021821\n",
      "3  sell  8015.15  0.006000\n",
      "4  sell  8015.19  0.023841\n",
      "  side    price       size\n",
      "0  buy  8013.99  12.482824\n",
      "1  buy  8011.00  23.900000\n",
      "2  buy  8010.99   3.501000\n",
      "3  buy  8010.00   1.000000\n",
      "4  buy  8008.00   0.001000\n"
     ]
    }
   ],
   "source": [
    "print(snapshot_asks_df.head())\n",
    "print(snapshot_bids_df.head())"
   ]
  },
  {
   "cell_type": "code",
   "execution_count": 19,
   "metadata": {
    "scrolled": true
   },
   "outputs": [
    {
     "data": {
      "text/html": [
       "<div>\n",
       "<style scoped>\n",
       "    .dataframe tbody tr th:only-of-type {\n",
       "        vertical-align: middle;\n",
       "    }\n",
       "\n",
       "    .dataframe tbody tr th {\n",
       "        vertical-align: top;\n",
       "    }\n",
       "\n",
       "    .dataframe thead th {\n",
       "        text-align: right;\n",
       "    }\n",
       "</style>\n",
       "<table border=\"1\" class=\"dataframe\">\n",
       "  <thead>\n",
       "    <tr style=\"text-align: right;\">\n",
       "      <th></th>\n",
       "      <th>_id</th>\n",
       "      <th>time</th>\n",
       "      <th>side</th>\n",
       "      <th>price</th>\n",
       "      <th>size</th>\n",
       "    </tr>\n",
       "  </thead>\n",
       "  <tbody>\n",
       "    <tr>\n",
       "      <th>0</th>\n",
       "      <td>5ad526dce3ae7141c0170d1a</td>\n",
       "      <td>2018-04-16T22:42:38.806Z</td>\n",
       "      <td>buy</td>\n",
       "      <td>7887.88</td>\n",
       "      <td>0.0015</td>\n",
       "    </tr>\n",
       "    <tr>\n",
       "      <th>1</th>\n",
       "      <td>5ad526dce3ae7141c0170d1b</td>\n",
       "      <td>2018-04-16T22:42:38.807Z</td>\n",
       "      <td>buy</td>\n",
       "      <td>7887.88</td>\n",
       "      <td>0.0015</td>\n",
       "    </tr>\n",
       "    <tr>\n",
       "      <th>2</th>\n",
       "      <td>5ad526dce3ae7141c0170d1c</td>\n",
       "      <td>2018-04-16T22:42:38.809Z</td>\n",
       "      <td>buy</td>\n",
       "      <td>7887.88</td>\n",
       "      <td>0.0015</td>\n",
       "    </tr>\n",
       "    <tr>\n",
       "      <th>3</th>\n",
       "      <td>5ad526dce3ae7141c0170d1e</td>\n",
       "      <td>2018-04-16T22:42:38.817Z</td>\n",
       "      <td>buy</td>\n",
       "      <td>7887.88</td>\n",
       "      <td>0.0015</td>\n",
       "    </tr>\n",
       "    <tr>\n",
       "      <th>4</th>\n",
       "      <td>5ad526dce3ae7141c0170d1f</td>\n",
       "      <td>2018-04-16T22:42:38.823Z</td>\n",
       "      <td>buy</td>\n",
       "      <td>7887.88</td>\n",
       "      <td>0.0015</td>\n",
       "    </tr>\n",
       "  </tbody>\n",
       "</table>\n",
       "</div>"
      ],
      "text/plain": [
       "                        _id                      time side    price    size\n",
       "0  5ad526dce3ae7141c0170d1a  2018-04-16T22:42:38.806Z  buy  7887.88  0.0015\n",
       "1  5ad526dce3ae7141c0170d1b  2018-04-16T22:42:38.807Z  buy  7887.88  0.0015\n",
       "2  5ad526dce3ae7141c0170d1c  2018-04-16T22:42:38.809Z  buy  7887.88  0.0015\n",
       "3  5ad526dce3ae7141c0170d1e  2018-04-16T22:42:38.817Z  buy  7887.88  0.0015\n",
       "4  5ad526dce3ae7141c0170d1f  2018-04-16T22:42:38.823Z  buy  7887.88  0.0015"
      ]
     },
     "execution_count": 19,
     "metadata": {},
     "output_type": "execute_result"
    }
   ],
   "source": [
    "l2update_df.head()"
   ]
  },
  {
   "cell_type": "code",
   "execution_count": 20,
   "metadata": {},
   "outputs": [
    {
     "data": {
      "text/html": [
       "<div>\n",
       "<style scoped>\n",
       "    .dataframe tbody tr th:only-of-type {\n",
       "        vertical-align: middle;\n",
       "    }\n",
       "\n",
       "    .dataframe tbody tr th {\n",
       "        vertical-align: top;\n",
       "    }\n",
       "\n",
       "    .dataframe thead th {\n",
       "        text-align: right;\n",
       "    }\n",
       "</style>\n",
       "<table border=\"1\" class=\"dataframe\">\n",
       "  <thead>\n",
       "    <tr style=\"text-align: right;\">\n",
       "      <th></th>\n",
       "      <th>Unnamed: 0</th>\n",
       "      <th>iso</th>\n",
       "      <th>epoch</th>\n",
       "    </tr>\n",
       "  </thead>\n",
       "  <tbody>\n",
       "    <tr>\n",
       "      <th>0</th>\n",
       "      <td>request end</td>\n",
       "      <td>2018-04-16T22:44:37.747Z</td>\n",
       "      <td>1.523919e+09</td>\n",
       "    </tr>\n",
       "    <tr>\n",
       "      <th>1</th>\n",
       "      <td>request start</td>\n",
       "      <td>2018-04-16T22:42:37.724Z</td>\n",
       "      <td>1.523919e+09</td>\n",
       "    </tr>\n",
       "  </tbody>\n",
       "</table>\n",
       "</div>"
      ],
      "text/plain": [
       "      Unnamed: 0                       iso         epoch\n",
       "0    request end  2018-04-16T22:44:37.747Z  1.523919e+09\n",
       "1  request start  2018-04-16T22:42:37.724Z  1.523919e+09"
      ]
     },
     "execution_count": 20,
     "metadata": {},
     "output_type": "execute_result"
    }
   ],
   "source": [
    "request_log_df.head()"
   ]
  },
  {
   "cell_type": "code",
   "execution_count": null,
   "metadata": {},
   "outputs": [],
   "source": [
    "# Bid= buy\n",
    "# Ask = sell\n",
    "\n",
    "#L2 snapshot structure\n",
    "    # [price,size]\n",
    "    # 'side' added as part of structure for classification\n",
    "#l2 updates structure\n",
    "    # [side, price, size]\n",
    "\n",
    "# Note on GDAX API about l2update structure:\n",
    "    # size of \"0\" indicates the price level can be removed"
   ]
  },
  {
   "cell_type": "code",
   "execution_count": null,
   "metadata": {
    "scrolled": true
   },
   "outputs": [],
   "source": []
  },
  {
   "cell_type": "code",
   "execution_count": null,
   "metadata": {
    "scrolled": false
   },
   "outputs": [],
   "source": []
  },
  {
   "cell_type": "code",
   "execution_count": null,
   "metadata": {},
   "outputs": [],
   "source": []
  },
  {
   "cell_type": "code",
   "execution_count": null,
   "metadata": {},
   "outputs": [],
   "source": []
  }
 ],
 "metadata": {
  "kernelspec": {
   "display_name": "Python 3",
   "language": "python",
   "name": "python3"
  },
  "language_info": {
   "codemirror_mode": {
    "name": "ipython",
    "version": 3
   },
   "file_extension": ".py",
   "mimetype": "text/x-python",
   "name": "python",
   "nbconvert_exporter": "python",
   "pygments_lexer": "ipython3",
   "version": "3.6.4"
  }
 },
 "nbformat": 4,
 "nbformat_minor": 2
}
