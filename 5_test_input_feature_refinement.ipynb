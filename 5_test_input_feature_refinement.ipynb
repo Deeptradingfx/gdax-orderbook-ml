{
 "cells": [
  {
   "cell_type": "code",
   "execution_count": 1,
   "metadata": {},
   "outputs": [],
   "source": [
    "# Restructure of program into functions \n",
    "    # Data structures for scrape/request log and support/resistance (predicted vs actual)\n",
    "    # L2 update states applied to snapshot over a defined interval (15m, in sync with chart update)\n",
    "        # Timestamp issue for 15m chart  \n",
    "# One hot encoding into function       \n",
    "# Function to reshape data into LSTM/GRU input shape             \n",
    "# Further reshaping of input/test data for LSTM/GRU model "
   ]
  },
  {
   "cell_type": "code",
   "execution_count": 2,
   "metadata": {},
   "outputs": [
    {
     "name": "stderr",
     "output_type": "stream",
     "text": [
      "C:\\ProgramData\\Anaconda3\\lib\\site-packages\\matplotlib\\cbook\\deprecation.py:106: MatplotlibDeprecationWarning: The finance module has been deprecated in mpl 2.0 and will be removed in mpl 2.2. Please use the module mpl_finance instead.\n",
      "  warnings.warn(message, mplDeprecation, stacklevel=1)\n",
      "C:\\ProgramData\\Anaconda3\\lib\\site-packages\\h5py\\__init__.py:36: FutureWarning: Conversion of the second argument of issubdtype from `float` to `np.floating` is deprecated. In future, it will be treated as `np.float64 == np.dtype(float).type`.\n",
      "  from ._conv import register_converters as _register_converters\n",
      "Using TensorFlow backend.\n"
     ]
    }
   ],
   "source": [
    "# Imports\n",
    "import pandas as pd\n",
    "import numpy as np\n",
    "import requests\n",
    "import json\n",
    "from json import loads\n",
    "import datetime \n",
    "import matplotlib.pyplot as plt\n",
    "%matplotlib inline\n",
    "import time\n",
    "\n",
    "# Charting-specific imports\n",
    "import matplotlib.finance\n",
    "import matplotlib.ticker as ticker\n",
    "from matplotlib.finance import candlestick_ohlc,candlestick2_ohlc\n",
    "from matplotlib.finance import volume_overlay,volume_overlay2\n",
    "from matplotlib.dates import  DateFormatter, epoch2num\n",
    "    # https://matplotlib.org/api/finance_api.html#module-matplotlib.finance\n",
    "\n",
    "# API-specific imports (local install)\n",
    "import gdax\n",
    "    # Python setup.py install with environment activaated to install/use\n",
    "    # Do not use default gdax pip install package - that version of the package is currently broken\n",
    "\n",
    "# Pymongo import for connection to local client DB\n",
    "import pymongo\n",
    "from pymongo import MongoClient\n",
    "\n",
    "# Preprocessing Imports\n",
    "from sklearn.model_selection import train_test_split\n",
    "from sklearn.preprocessing import LabelEncoder, StandardScaler, MinMaxScaler, OneHotEncoder\n",
    "from keras.utils import to_categorical \n",
    "\n",
    "# ML Imports \n",
    "import tensorflow as tf\n",
    "import keras\n",
    "from keras.models import Sequential\n",
    "from keras.layers import Dense, Activation, Dropout\n",
    "from keras.layers import Embedding, Flatten\n",
    "from keras.layers import LSTM, GRU\n",
    "from keras.models import load_model\n",
    "from keras import backend as K\n",
    "\n",
    "# autoSR() import requirements\n",
    "from sklearn.cluster import MeanShift, estimate_bandwidth\n",
    "from pandas_datareader import data, wb\n",
    "\n",
    "###########################################################################\n",
    "### Force Keras/TF to use CPU backend when GPU present by setting:\n",
    "    # {'CPU' : 1, 'GPU' : 0}\n",
    "    \n",
    "#num_cores = 4\n",
    "#config = tf.ConfigProto(intra_op_parallelism_threads=num_cores,\\\n",
    "        #inter_op_parallelism_threads=num_cores, allow_soft_placement=True,\\\n",
    "        #device_count = {'CPU' : 1, 'GPU' : 1})\n",
    "#session = tf.Session(config=config)\n",
    "#K.set_session(session)\n",
    "###########################################################################\n",
    "\n",
    "# Import to check check for GPU availability for tensorflow backend\n",
    "from tensorflow.python.client import device_lib"
   ]
  },
  {
   "cell_type": "code",
   "execution_count": 3,
   "metadata": {},
   "outputs": [
    {
     "name": "stdout",
     "output_type": "stream",
     "text": [
      "[name: \"/device:CPU:0\"\n",
      "device_type: \"CPU\"\n",
      "memory_limit: 268435456\n",
      "locality {\n",
      "}\n",
      "incarnation: 5444260094477405120\n",
      ", name: \"/device:GPU:0\"\n",
      "device_type: \"GPU\"\n",
      "memory_limit: 9222031934\n",
      "locality {\n",
      "  bus_id: 1\n",
      "  links {\n",
      "  }\n",
      "}\n",
      "incarnation: 8701549073388607272\n",
      "physical_device_desc: \"device: 0, name: GeForce GTX 1080 Ti, pci bus id: 0000:01:00.0, compute capability: 6.1\"\n",
      "]\n",
      "==============================================\n",
      "['/job:localhost/replica:0/task:0/device:GPU:0']\n"
     ]
    }
   ],
   "source": [
    "# Verify GPU availability for tensorflow backend\n",
    "print(device_lib.list_local_devices())\n",
    "print(\"==============================================\")\n",
    "print(K.tensorflow_backend._get_available_gpus())"
   ]
  },
  {
   "cell_type": "code",
   "execution_count": 4,
   "metadata": {
    "scrolled": true
   },
   "outputs": [
    {
     "name": "stdout",
     "output_type": "stream",
     "text": [
      "2018-04-17T00:55:03.354Z\n",
      "2018-04-17T01:05:03.469Z\n"
     ]
    }
   ],
   "source": [
    "# Request log load\n",
    "request_log_df= pd.read_csv(\"test_data/request_log.csv\",dtype ={'epoch':object})\n",
    "request_start = request_log_df['iso'][1]\n",
    "request_end = request_log_df['iso'][0]\n",
    "print(request_start)\n",
    "print(request_end)"
   ]
  },
  {
   "cell_type": "code",
   "execution_count": 5,
   "metadata": {},
   "outputs": [],
   "source": [
    "# Global variables\n",
    "\n",
    "# Boolean to drop existing mongo collection/scrape upon scrape() init\n",
    "dropFlag = False\n",
    "\n",
    "# Boolean to set size_delta to l2update values for first update to snapshot\n",
    "#firstUpdate = False\n",
    "firstUpdate_bids = False\n",
    "firstUpdate_asks = False\n",
    "\n",
    "# Value to track if feature_creation_inital() was run\n",
    "feature_creation_intital_run = False"
   ]
  },
  {
   "cell_type": "code",
   "execution_count": 6,
   "metadata": {},
   "outputs": [],
   "source": [
    "# Connection establishment\n",
    "\n",
    "# Establish connection to GDAX public endpoint\n",
    "public_client = gdax.PublicClient()\n",
    "\n",
    "# Mongo database and collection specification:\n",
    "mongo_client = MongoClient('mongodb://localhost:27017/')\n",
    "db = mongo_client.btcusd_db\n",
    "btcusd_collection = db.btcusd_collection"
   ]
  },
  {
   "cell_type": "code",
   "execution_count": 7,
   "metadata": {},
   "outputs": [],
   "source": [
    "# Function to start scrape process from websocket to mongodb instance\n",
    "def scrape_start():\n",
    "    \n",
    "    # Drop existing collection from db if dropFlag == True (on new scrape):\n",
    "    if 'btcusd_db' in mongo_client.database_names() and dropFlag is True:\n",
    "        mongo_client['btcusd_db'].drop_collection('btcusd_collection')\n",
    "        #print(mongo_client.database_names())\n",
    "        #print(db.collection_names())\n",
    "        \n",
    "    # Start instance of websocket client for L2 Orderbook + L2 update data request and scrape\n",
    "    wsClient = gdax.WebsocketClient(url=\"wss://ws-feed.gdax.com\", \n",
    "                                products=[\"BTC-USD\"],\\\n",
    "                                message_type=\"subscribe\",\\\n",
    "                                channels =[\"level2\"],\\\n",
    "                                mongo_collection=btcusd_collection,\\\n",
    "                                should_print=False)\n",
    "    \n",
    "    # Save request open time and start websocket\n",
    "    time.sleep(4)\n",
    "    request_time_start=public_client.get_time()\n",
    "    wsClient.start()\n",
    "    \n",
    "    # scrape_time is variable for time between websocket connection start and end\n",
    "        # Defined in seconds\n",
    "        # i.e. 600 seconds = scrape running for 10 minutes\n",
    "    scrape_time = 600\n",
    "\n",
    "    time.sleep(scrape_time)\n",
    "    # Save request close time and close websocket\n",
    "    request_time_end=public_client.get_time()\n",
    "    wsClient.close()\n",
    "    \n",
    "    # Append request times for open/close of websocket stream to dataframe, save to csv\n",
    "    request_log_df = pd.DataFrame.from_dict({'request start':request_time_start,'request end':request_time_end},orient ='index')\n",
    "    request_log_df.to_csv(\"raw_data/request_log.csv\",header=True,encoding='utf-8',index =True)\n",
    "   "
   ]
  },
  {
   "cell_type": "code",
   "execution_count": 8,
   "metadata": {},
   "outputs": [],
   "source": [
    "# Function to load and parse data from Mongo into dataframes\n",
    "def load_parse():\n",
    "    \n",
    "    #Collection specification (in database)\n",
    "    input_data = db.btcusd_collection \n",
    "    \n",
    "    # Create individual dataframes for main response types: snapshot, l2update\n",
    "    snapshot = pd.DataFrame(list(input_data.find({'type':'snapshot'})))\n",
    "    l2update = pd.DataFrame(list(input_data.find({'type':'l2update'})))\n",
    "    \n",
    "    ### snapshot  response load and parse ###\n",
    "    \n",
    "    # Extract asks/bid individual column of array of arrays into lists\n",
    "    snapshot_asks = snapshot[['asks'][0]][0]\n",
    "    snapshot_bids = snapshot[['bids'][0]][0]\n",
    "    \n",
    "    # Convert list (of array of arrays) into dataframe\n",
    "    snapshot_asks_df =pd.DataFrame(snapshot_asks)\n",
    "    snapshot_bids_df =pd.DataFrame(snapshot_bids)\n",
    "    \n",
    "    # Rename columns to snapshot array format:\n",
    "        # snapshot array format: [price, size]\n",
    "            # [side, price, size] format for one-hot encoding\n",
    "        # Ask = sell price, bid = buy price\n",
    "    snapshot_asks_df.rename(columns ={0:'price',1:'size'}, inplace =True)\n",
    "    snapshot_bids_df.rename(columns ={0:'price',1:'size'}, inplace =True)\n",
    "    snapshot_asks_df['side'] = \"sell\"\n",
    "    snapshot_bids_df['side'] = \"buy\"\n",
    "    cols =['side','price','size']\n",
    "    snapshot_asks_df = snapshot_asks_df[cols]\n",
    "    snapshot_bids_df = snapshot_bids_df[cols]\n",
    "    \n",
    "    ### L2 update response load and parse ###\n",
    "    \n",
    "    # Restucture l2update to have [side,price,size] from 'changes' column\n",
    "    l2update_clean = l2update[['changes','time']]\n",
    "          \n",
    "    # Convert changes list of lists -> into array \n",
    "    l2_array = np.ravel(l2update_clean['changes']) \n",
    "    # Flatten the list and remove outer bracket:\n",
    "    flattened = [val for sublist in l2_array for val in sublist]\n",
    "        # Reference: https://stackoverflow.com/questions/11264684/flatten-list-of-lists?\n",
    "    # Convert back to dataframe and combine with timestamps from l2update:\n",
    "    changes_df= pd.DataFrame.from_records(flattened)\n",
    "    # Add time column back to L2 update dataframe\n",
    "    l2update_formatted = pd.concat([changes_df,l2update_clean['time']],1)\n",
    "    # Rename columns for [side, price, size]:\n",
    "    l2update_formatted.rename({0:\"side\",1:\"price\",2:\"size\"}, axis ='columns',inplace=True)\n",
    "    \n",
    "    # Save parsed data to csv (API -> Mongo -> Dataframe -> .csv)\n",
    "    #save_csv()\n",
    "    \n",
    "     # Save data to .csv format in raw_data folder\n",
    "    l2update_formatted.to_csv(\"raw_data/l2update.csv\",header=True,encoding='utf-8',index =False)\n",
    "    snapshot_asks_df.to_csv(\"raw_data/snapshot_asks.csv\",header=True,encoding='utf-8',index =False)\n",
    "    snapshot_bids_df.to_csv(\"raw_data/snapshot_bids.csv\",header=True,encoding='utf-8',index =False)"
   ]
  },
  {
   "cell_type": "code",
   "execution_count": 9,
   "metadata": {},
   "outputs": [],
   "source": [
    "# Function to read in data from csv into dataframes\n",
    "    # Currently not working due to variable scope assignment for dataframes/reading in data from CSV\n",
    "\n",
    "# Test data\n",
    "#def data_read_test():\n",
    "    \n",
    "    # Read in test data for L2 orderbook state (bids + asks)\n",
    "    # Read in test data for subsquent L2 orderbook update states (L2 updates to bid + asks)\n",
    "    #snapshot_asks_df = pd.read_csv(\"test_data/snapshot_asks.csv\",dtype ={'size':float,'size_delta':float})\n",
    "    #snapshot_bids_df = pd.read_csv(\"test_data/snapshot_bids.csv\",dtype ={'size':float,'size_delta':float})\n",
    "    #l2update_df = pd.read_csv(\"test_data/l2update.csv\", dtype ={'size':float})\n",
    "    #request_log_df= pd.read_csv(\"test_data/request_log.csv\")\n",
    "    \n",
    "\n",
    "    \n",
    "    # Convert size column to float type for l2 updates\n",
    "    #l2update_df['size'] = l2update_df['size'].apply(pd.to_numeric)\n",
    "    #snapshot_bids_df['size_delta'] = snapshot_bids_df['size_delta'].apply(pd.to_numeric)\n",
    "\n",
    "# Raw data\n",
    "#def data_read_raw():\n",
    "    \n",
    "    # Read in test data for L2 orderbook state (bids + asks)\n",
    "    # Read in test data for subsquent L2 orderbook update states (L2 updates to bid + asks)\n",
    "    #snapshot_asks_df = pd.read_csv(\"raw_data/snapshot_asks.csv\",dtype ={'size':float,'size_delta':float})\n",
    "    #snapshot_bids_df = pd.read_csv(\"raw_data/snapshot_bids.csv\",dtype ={'size':float,'size_delta':float})\n",
    "    #l2update_df = pd.read_csv(\"raw_data/l2update.csv\", dtype ={'size':float})\n",
    "    #request_log_df= pd.read_csv(\"raw_data/request_log.csv\")\n",
    "    \n",
    "    # Convert size column to float type for l2 updates\n",
    "    #l2update_df['size'] = l2update_df['size'].apply(pd.to_numeric)\n",
    "    #snapshot_bids_df['size_delta'] = snapshot_bids_df['size_delta'].apply(pd.to_numeric)"
   ]
  },
  {
   "cell_type": "code",
   "execution_count": 10,
   "metadata": {},
   "outputs": [],
   "source": [
    "###########################################################################\n",
    "\n",
    "# Section to read in data from csv (definition scope of functions above not working for assignment:)\n",
    "    # Load in test data for development/debugging\n",
    "\n",
    "snapshot_asks_df = pd.read_csv(\"test_data/snapshot_asks.csv\",dtype ={'size':float,'size_delta':float})\n",
    "snapshot_bids_df = pd.read_csv(\"test_data/snapshot_bids.csv\",dtype ={'size':float,'size_delta':float})\n",
    "l2update_df = pd.read_csv(\"test_data/l2update.csv\", dtype ={'size':float})\n",
    "request_log_df= pd.read_csv(\"test_data/request_log.csv\")\n",
    "\n",
    "###########################################################################"
   ]
  },
  {
   "cell_type": "code",
   "execution_count": 11,
   "metadata": {},
   "outputs": [],
   "source": [
    "##### Request 15minute chart data #####\n",
    "\n",
    "#def chart_15m_request(request_log_df):\n",
    "\n",
    "request_start = request_log_df['iso'][1]\n",
    "request_end = request_log_df['iso'][0]\n",
    "\n",
    "# Request 15 minutes of candlestick (open high low close) data from API\n",
    "    # start time must be in ISO 8601 format for get_product_historic_rates()\n",
    "chart_15m = public_client.get_product_historic_rates('BTC-USD', start =request_start, granularity=60)\n",
    "\n",
    "# Convert chart data response into dataframes\n",
    "chart_15m_df =pd.DataFrame.from_records(chart_15m,columns=[\"time\",\"low\", \"high\",\"open\" ,\"close\", \"volume\"])\n",
    "\n",
    "# Reorder columns according to label order required by matplotlib finance package\n",
    "chart_15m_df = chart_15m_df[[\"time\",\"open\",\"high\",\"low\",\"close\",\"volume\"]]\n",
    "\n",
    "# Reverse/sort timestamp order (without reversal chart labels/axis will be out of order)\n",
    "chart_15m_df.sort_values(by='time',axis=0, inplace =True)\n",
    "\n",
    "#Convert/sort time to datetime object (for matplotlib chart format requirement)\n",
    "chart_15m_df['time'] =pd.to_datetime(chart_15m_df['time'],unit='s')\n",
    "    \n",
    "    "
   ]
  },
  {
   "cell_type": "code",
   "execution_count": 12,
   "metadata": {},
   "outputs": [],
   "source": [
    "# Auto support/resistance adapted into function \n",
    "    # Source: Adapted from https://github.com/nakulnayyar/SupResGenerator\n",
    "    # Takes dataframe object with open/high/low/close values \n",
    "        # Returns list of auto-generated support and resistance levels for price action\n",
    "def autoSR(dataframe):\n",
    "    data = chart_15m_df.as_matrix(columns=['close'])\n",
    "    data2 = data[:len(data)*1]\n",
    "    bandwidth = estimate_bandwidth(data2, quantile=0.1, n_samples=100)\n",
    "    ms = MeanShift(bandwidth=bandwidth, bin_seeding=True)\n",
    "    ms.fit(data2)\n",
    "    ml_results = []\n",
    "    for k in range(len(np.unique(ms.labels_))):\n",
    "            my_members = ms.labels_ == k\n",
    "            values = data[my_members, 0]    \n",
    "            ml_results.append(min(values))\n",
    "            ml_results.append(max(values))\n",
    "            # Remove duplicate S/R level values\n",
    "            # Using sets\n",
    "            ml_set =set(ml_results)\n",
    "            ml_results = list(ml_set)\n",
    "            # Sort values before return output \n",
    "            ml_results.sort()\n",
    "            \n",
    "    return ml_results"
   ]
  },
  {
   "cell_type": "code",
   "execution_count": 13,
   "metadata": {},
   "outputs": [],
   "source": [
    "def generate_chart(dataframe):\n",
    "    \n",
    "    dataframe = chart_15m_df \n",
    "    \n",
    "    # Generate chart of past 15 minutes with autogenerated support and resistance levels:\n",
    "    fig, ax = plt.subplots(figsize=(20, 10)\n",
    "                         )\n",
    "    candlestick2_ohlc(ax,chart_15m_df['open'],chart_15m_df['high'],chart_15m_df['low'],chart_15m_df['close'],width=2,\\\n",
    "                      colorup='k',colordown='r',alpha=.5)\n",
    "    ax.set_xticklabels(chart_15m_df['time'] ,rotation=30)\n",
    "    \n",
    "    ax.xaxis.set_major_locator(ticker.MaxNLocator(17))\n",
    "        # n + 2 for proper labe set at 20,18 chart size\n",
    "        # 15 + 2 =17\n",
    "    plt.yticks(np.arange(int(min(chart_15m_df['low'])-5), max(chart_15m_df['high'])+10, 5))\n",
    "    plt.xlabel('Time')\n",
    "    plt.ylabel('Price (USD)')\n",
    "    #ax.minorticks_on()\n",
    "    ax.set_axisbelow(True)\n",
    "    ax.tick_params(axis='y', pad=10)\n",
    "    ax.grid(which='major', linestyle='--', linewidth='0.1', color='b')\n",
    "    matplotlib.pyplot.title(\"15 Min BTC/USD with Support/Resistance Levels\")\n",
    "    \n",
    "    # Add S/R labels to right side of chart\n",
    "    ml_results = autoSR(chart_15m_df)\n",
    "    for k in ml_results:\n",
    "        plt.axhline(y=k)\n",
    "\n",
    "    #plt.tight_layout()\n",
    "    return plt.show()\n",
    "    #return plt.show(), ml_results"
   ]
  },
  {
   "cell_type": "code",
   "execution_count": 14,
   "metadata": {},
   "outputs": [],
   "source": [
    "# create and set inital/placeholder values for size_delta, position, and sr_prox_value/line input features \n",
    "    # run once upon new scrape only\n",
    "def feature_creation_inital():\n",
    "    #global feature_creation_intital_run\n",
    "    \n",
    "    #if feature_creation_inital_run() == False:\n",
    "        #global feature_creation_intital_run\n",
    "        \n",
    "        \n",
    "        \n",
    "    # Set inital size delta l2 snapshot - use decimal point to force as float\n",
    "    snapshot_asks_df['size_delta'] = 0.0\n",
    "    snapshot_bids_df['size_delta'] = 0.0\n",
    "\n",
    "    # Set inital position for l2 snapshot\n",
    "    snapshot_asks_df['position'] = snapshot_asks_df.index +1\n",
    "    snapshot_bids_df['position'] = snapshot_bids_df.index +1\n",
    "\n",
    "    # Reverse index for sell/asks\n",
    "    # snapshot_asks_df =snapshot_asks_df[::-1]\n",
    "    # Reverse inital position indicator for bids/buy side\n",
    "    rev = snapshot_bids_df['position'].values * -1\n",
    "    snapshot_bids_df['position'] = rev\n",
    "\n",
    "    # Set inital proximity value and inital value for nearest prox line\n",
    "    snapshot_asks_df['sr_prox_value'] = 0\n",
    "    snapshot_asks_df['sr_prox_line'] = 0\n",
    "    snapshot_bids_df['sr_prox_value'] = 0\n",
    "    snapshot_bids_df['sr_prox_line'] = 0\n",
    "\n",
    "    # Set feature_creation_inital_run flag to True once run\n",
    "    feature_creation_inital_run = True\n",
    "        \n",
    "        \n",
    "        \n",
    "    #elif feature_creation_inital_run == True:\n",
    "        #global feature_creation_intital_run\n",
    "        # Required syntax for logical operator/ if-else structure, but does nothing as a result\n",
    "        # i.e., a \"pass\"\n",
    "        \n",
    "        #print(\"pass\")\n",
    "        #pass\n",
    "        "
   ]
  },
  {
   "cell_type": "code",
   "execution_count": 15,
   "metadata": {},
   "outputs": [],
   "source": [
    "# L2 update states applied to snapshot over a defined interval (15m, in sync with chart update)\n",
    "    # Applied to both snapshot_bids_df and snapshot_asks_df\n",
    "    # Must be run before sr_update()\n",
    "def l2_state_update():\n",
    "    \n",
    "    global firstUpdate_bids \n",
    "    global firstUpdate_asks\n",
    "    \n",
    "    for i in range(len(snapshot_bids_df)):\n",
    "\n",
    "        # If size in l2update_df is 0, remove that row/price point from the orderbook state\n",
    "        if l2update_df['size'].values[i] == 0:\n",
    "            #print (snapshot_bids_df['price'].values[i])\n",
    "            snapshot_bids_df.drop(snapshot_bids_df.index[i])\n",
    "\n",
    "        #First update to snapshot, set 'size_delta' to l2update values\n",
    "            # Note: Keep here or move to end of feature_creation_inital depending on execution order\n",
    "        elif l2update_df['size'].values[i] != 0 & firstUpdate_bids == False:\n",
    "            snapshot_bids_df['size_delta'].values[i] = l2update_df['size'].values[i]\n",
    "            firstUpdate_bids = True\n",
    "        #Subsequent size delta calc\n",
    "        elif l2update_df['size'].values[i] != 0:\n",
    "            currentsize =snapshot_bids_df['size'].values[i] \n",
    "            updatesize = l2update_df['size'].values[i]\n",
    "            snapshot_bids_df['size_delta'].values[i] = updatesize-currentsize\n",
    "\n",
    "        # Update positional values for bids snapshot\n",
    "        snapshot_bids_df['position'] = snapshot_bids_df.index + 1\n",
    "        rev = snapshot_bids_df['position'].values * -1\n",
    "        snapshot_bids_df['position'] = rev \n",
    "\n",
    "    for i in range(len(snapshot_asks_df)):\n",
    "\n",
    "        # If size in l2update_df is 0, remove that row/price point from the orderbook state\n",
    "        if l2update_df['size'].values[i] == 0:\n",
    "            #print (snapshot_asks_df['price'].values[i])\n",
    "            snapshot_asks_df.drop(snapshot_asks_df.index[i])\n",
    "\n",
    "        #First update to snapshot, set 'size_delta' to l2update values\n",
    "            # Note: Keep here or move to end of feature_creation_inital depending on execution order\n",
    "        elif l2update_df['size'].values[i] != 0 & firstUpdate_asks == False:\n",
    "            snapshot_asks_df['size_delta'].values[i] = l2update_df['size'].values[i]\n",
    "            firstUpdate_asks = True\n",
    "        #Subsequent size delta calc\n",
    "        elif l2update_df['size'].values[i] != 0:\n",
    "            currentsize =snapshot_asks_df['size'].values[i] \n",
    "            updatesize = l2update_df['size'].values[i]\n",
    "            snapshot_asks_df['size_delta'].values[i] = updatesize-currentsize\n",
    "\n",
    "        # Update positional values for_asks snapshot\n",
    "        snapshot_asks_df['position'] = snapshot_asks_df.index + 1\n",
    "        #rev = snapshot_asks_df['position'].values * -1\n",
    "        #snapshot_asks_df['position'] = rev "
   ]
  },
  {
   "cell_type": "code",
   "execution_count": 16,
   "metadata": {},
   "outputs": [],
   "source": [
    "# Function to update sr_prox_line and sr_prox_value between orderbook states\n",
    "    # Note: l2_state_update applied first, then sr_update(); switch order if linear calls or switch execution block cell\n",
    "    # Must be run before model input in sequence\n",
    "def sr_update():\n",
    "    \n",
    "    # Convert to array for loop value traversal        \n",
    "    ml_results_modified_array = np.array(ml_results_modified)\n",
    "\n",
    "    ### snapshot_asks sr_prox_line,sr_prox_value set ###\n",
    "    for i in range(len(snapshot_asks_df['price'])):\n",
    "        #if snapshot_asks_df['price'].values[i] in ml_results_modified: \n",
    "            priceInt = int(snapshot_asks_df['price'].values[i])\n",
    "            diff =abs(ml_results_modified - priceInt)\n",
    "            diff_array = np.array(diff)\n",
    "            lowest_abs =min(diff)\n",
    "            #print(\"=============================\")\n",
    "            #print(\"Price: \")\n",
    "            #print(snapshot_asks_df['price'].values[i])\n",
    "            #print(\"Diff:\")\n",
    "            #print(diff)\n",
    "            #print(\"lowest_abs value: \")\n",
    "            #print(lowest_abs)\n",
    "            minIndex= list(diff_array).index(lowest_abs)\n",
    "            #print(\"Closest S/R line:\")\n",
    "            #print(ml_results_modified[minIndex])\n",
    "            #print(\"=============================\")\n",
    "\n",
    "            #Set sr_prox_value to distance from closest S/R line\n",
    "            snapshot_asks_df['sr_prox_value'].values[i] = lowest_abs\n",
    "            #Set sr_prox_line value\n",
    "            snapshot_asks_df['sr_prox_line'].values[i] = ml_results_modified[minIndex]\n",
    "\n",
    "    ### snapshot_bids sr_prox_line,sr_prox_value set ###\n",
    "    for i in range(len(snapshot_bids_df['price'])):\n",
    "        #if snapshot_bids_df['price'].values[i] in ml_results_modified: \n",
    "            priceInt = int(snapshot_bids_df['price'].values[i])\n",
    "            diff =abs(ml_results_modified - priceInt)\n",
    "            diff_array = np.array(diff)\n",
    "            lowest_abs =min(diff)\n",
    "            #print(\"=============================\")\n",
    "            #print(\"Price: \")\n",
    "            #print(snapshot_bids_df['price'].values[i])\n",
    "            #print(\"Diff:\")\n",
    "            #print(diff)\n",
    "            #print(\"lowest_abs value: \")\n",
    "            #print(lowest_abs)\n",
    "            minIndex= list(diff_array).index(lowest_abs)\n",
    "            #print(\"Closest S/R line:\")\n",
    "            #print(ml_results_modified[minIndex])\n",
    "            #print(\"=============================\")\n",
    "\n",
    "            #Set sr_prox_value to distance from closest S/R line\n",
    "            snapshot_bids_df['sr_prox_value'].values[i] = lowest_abs\n",
    "            #Set sr_prox_line value\n",
    "            snapshot_bids_df['sr_prox_line'].values[i] = ml_results_modified[minIndex]"
   ]
  },
  {
   "cell_type": "code",
   "execution_count": 17,
   "metadata": {},
   "outputs": [],
   "source": [
    "###########################################################################\n",
    "###########################################################################\n",
    "###########################################################################\n",
    "\n",
    "\n",
    "# Debugging:"
   ]
  },
  {
   "cell_type": "code",
   "execution_count": 18,
   "metadata": {
    "scrolled": true
   },
   "outputs": [
    {
     "data": {
      "text/plain": [
       "[8910.01,\n",
       " 8920.02,\n",
       " 8922.51,\n",
       " 8936.91,\n",
       " 8939.99,\n",
       " 8952.99,\n",
       " 8958.86,\n",
       " 8964.64,\n",
       " 8974.2,\n",
       " 8974.21,\n",
       " 8991.0,\n",
       " 9038.97,\n",
       " 9100.0,\n",
       " 9114.97,\n",
       " 9116.83,\n",
       " 9142.8,\n",
       " 9156.57,\n",
       " 9159.99,\n",
       " 9171.0,\n",
       " 9173.06,\n",
       " 9184.41,\n",
       " 9185.15,\n",
       " 9200.0,\n",
       " 9210.0,\n",
       " 9215.0,\n",
       " 9220.99,\n",
       " 9221.4]"
      ]
     },
     "execution_count": 18,
     "metadata": {},
     "output_type": "execute_result"
    }
   ],
   "source": [
    "# Assignment of ml_results from function:\n",
    "ml_results = autoSR(chart_15m_df)\n",
    "autoSR(chart_15m_df)"
   ]
  },
  {
   "cell_type": "code",
   "execution_count": 19,
   "metadata": {
    "scrolled": true
   },
   "outputs": [
    {
     "data": {
      "image/png": "[encoded data removed]",
      "text/plain": [
       "<matplotlib.figure.Figure at 0x116501eef60>"
      ]
     },
     "metadata": {},
     "output_type": "display_data"
    }
   ],
   "source": [
    "generate_chart(chart_15m_df)"
   ]
  },
  {
   "cell_type": "code",
   "execution_count": null,
   "metadata": {},
   "outputs": [],
   "source": []
  },
  {
   "cell_type": "code",
   "execution_count": 20,
   "metadata": {},
   "outputs": [
    {
     "data": {
      "text/plain": [
       "array([8910, 8920, 8922, 8936, 8939, 8952, 8958, 8964, 8974, 8991, 9038,\n",
       "       9100, 9114, 9116, 9142, 9156, 9159, 9171, 9173, 9184, 9185, 9200,\n",
       "       9210, 9215, 9220, 9221])"
      ]
     },
     "execution_count": 20,
     "metadata": {},
     "output_type": "execute_result"
    }
   ],
   "source": [
    "# Data structures for scrape/request log and support/resistance (predicted vs actual)\n",
    "    # request start, request end\n",
    "    # current s/r levels: chart 15m data + ml_results (actual)\n",
    "    # predicted s/r levels: ml_results (predicted)\n",
    "    # current s/r levels vs predicted for current timeframe (training vs testing)\n",
    "\n",
    "# Convert ml_results into sorted int array\n",
    "ml_results_modified =np.asarray(ml_results)\n",
    "ml_results_modified =np.trunc(ml_results_modified).astype(int)\n",
    "ml_results_modified = np.sort(ml_results_modified,kind = 'quicksort') \n",
    "# Remove duplicates from int conversion\n",
    "ml_results_modified_set=set(ml_results_modified)\n",
    "ml_results_modified = list(ml_results_modified_set)\n",
    "ml_results_modified = np.sort(ml_results_modified,kind = 'quicksort')\n",
    "ml_results_modified"
   ]
  },
  {
   "cell_type": "code",
   "execution_count": null,
   "metadata": {},
   "outputs": [],
   "source": []
  },
  {
   "cell_type": "code",
   "execution_count": null,
   "metadata": {},
   "outputs": [],
   "source": []
  },
  {
   "cell_type": "code",
   "execution_count": 21,
   "metadata": {},
   "outputs": [
    {
     "data": {
      "text/html": [
       "<div>\n",
       "<style scoped>\n",
       "    .dataframe tbody tr th:only-of-type {\n",
       "        vertical-align: middle;\n",
       "    }\n",
       "\n",
       "    .dataframe tbody tr th {\n",
       "        vertical-align: top;\n",
       "    }\n",
       "\n",
       "    .dataframe thead th {\n",
       "        text-align: right;\n",
       "    }\n",
       "</style>\n",
       "<table border=\"1\" class=\"dataframe\">\n",
       "  <thead>\n",
       "    <tr style=\"text-align: right;\">\n",
       "      <th></th>\n",
       "      <th>side</th>\n",
       "      <th>price</th>\n",
       "      <th>size</th>\n",
       "    </tr>\n",
       "  </thead>\n",
       "  <tbody>\n",
       "    <tr>\n",
       "      <th>0</th>\n",
       "      <td>sell</td>\n",
       "      <td>8042.91</td>\n",
       "      <td>10.656147</td>\n",
       "    </tr>\n",
       "    <tr>\n",
       "      <th>1</th>\n",
       "      <td>sell</td>\n",
       "      <td>8042.92</td>\n",
       "      <td>0.001181</td>\n",
       "    </tr>\n",
       "    <tr>\n",
       "      <th>2</th>\n",
       "      <td>sell</td>\n",
       "      <td>8042.93</td>\n",
       "      <td>0.001305</td>\n",
       "    </tr>\n",
       "    <tr>\n",
       "      <th>3</th>\n",
       "      <td>sell</td>\n",
       "      <td>8042.94</td>\n",
       "      <td>0.001181</td>\n",
       "    </tr>\n",
       "    <tr>\n",
       "      <th>4</th>\n",
       "      <td>sell</td>\n",
       "      <td>8042.95</td>\n",
       "      <td>1.265966</td>\n",
       "    </tr>\n",
       "  </tbody>\n",
       "</table>\n",
       "</div>"
      ],
      "text/plain": [
       "   side    price       size\n",
       "0  sell  8042.91  10.656147\n",
       "1  sell  8042.92   0.001181\n",
       "2  sell  8042.93   0.001305\n",
       "3  sell  8042.94   0.001181\n",
       "4  sell  8042.95   1.265966"
      ]
     },
     "execution_count": 21,
     "metadata": {},
     "output_type": "execute_result"
    }
   ],
   "source": [
    "snapshot_asks_df.head()"
   ]
  },
  {
   "cell_type": "code",
   "execution_count": 22,
   "metadata": {
    "scrolled": true
   },
   "outputs": [],
   "source": [
    "feature_creation_inital()"
   ]
  },
  {
   "cell_type": "code",
   "execution_count": 23,
   "metadata": {},
   "outputs": [
    {
     "data": {
      "text/html": [
       "<div>\n",
       "<style scoped>\n",
       "    .dataframe tbody tr th:only-of-type {\n",
       "        vertical-align: middle;\n",
       "    }\n",
       "\n",
       "    .dataframe tbody tr th {\n",
       "        vertical-align: top;\n",
       "    }\n",
       "\n",
       "    .dataframe thead th {\n",
       "        text-align: right;\n",
       "    }\n",
       "</style>\n",
       "<table border=\"1\" class=\"dataframe\">\n",
       "  <thead>\n",
       "    <tr style=\"text-align: right;\">\n",
       "      <th></th>\n",
       "      <th>side</th>\n",
       "      <th>price</th>\n",
       "      <th>size</th>\n",
       "      <th>size_delta</th>\n",
       "      <th>position</th>\n",
       "      <th>sr_prox_value</th>\n",
       "      <th>sr_prox_line</th>\n",
       "    </tr>\n",
       "  </thead>\n",
       "  <tbody>\n",
       "    <tr>\n",
       "      <th>0</th>\n",
       "      <td>sell</td>\n",
       "      <td>8042.91</td>\n",
       "      <td>10.656147</td>\n",
       "      <td>0.0</td>\n",
       "      <td>1</td>\n",
       "      <td>0</td>\n",
       "      <td>0</td>\n",
       "    </tr>\n",
       "    <tr>\n",
       "      <th>1</th>\n",
       "      <td>sell</td>\n",
       "      <td>8042.92</td>\n",
       "      <td>0.001181</td>\n",
       "      <td>0.0</td>\n",
       "      <td>2</td>\n",
       "      <td>0</td>\n",
       "      <td>0</td>\n",
       "    </tr>\n",
       "    <tr>\n",
       "      <th>2</th>\n",
       "      <td>sell</td>\n",
       "      <td>8042.93</td>\n",
       "      <td>0.001305</td>\n",
       "      <td>0.0</td>\n",
       "      <td>3</td>\n",
       "      <td>0</td>\n",
       "      <td>0</td>\n",
       "    </tr>\n",
       "    <tr>\n",
       "      <th>3</th>\n",
       "      <td>sell</td>\n",
       "      <td>8042.94</td>\n",
       "      <td>0.001181</td>\n",
       "      <td>0.0</td>\n",
       "      <td>4</td>\n",
       "      <td>0</td>\n",
       "      <td>0</td>\n",
       "    </tr>\n",
       "    <tr>\n",
       "      <th>4</th>\n",
       "      <td>sell</td>\n",
       "      <td>8042.95</td>\n",
       "      <td>1.265966</td>\n",
       "      <td>0.0</td>\n",
       "      <td>5</td>\n",
       "      <td>0</td>\n",
       "      <td>0</td>\n",
       "    </tr>\n",
       "  </tbody>\n",
       "</table>\n",
       "</div>"
      ],
      "text/plain": [
       "   side    price       size  size_delta  position  sr_prox_value  sr_prox_line\n",
       "0  sell  8042.91  10.656147         0.0         1              0             0\n",
       "1  sell  8042.92   0.001181         0.0         2              0             0\n",
       "2  sell  8042.93   0.001305         0.0         3              0             0\n",
       "3  sell  8042.94   0.001181         0.0         4              0             0\n",
       "4  sell  8042.95   1.265966         0.0         5              0             0"
      ]
     },
     "execution_count": 23,
     "metadata": {},
     "output_type": "execute_result"
    }
   ],
   "source": [
    "snapshot_asks_df.head()"
   ]
  },
  {
   "cell_type": "code",
   "execution_count": 24,
   "metadata": {},
   "outputs": [],
   "source": [
    "l2_state_update()"
   ]
  },
  {
   "cell_type": "code",
   "execution_count": 25,
   "metadata": {},
   "outputs": [
    {
     "data": {
      "text/html": [
       "<div>\n",
       "<style scoped>\n",
       "    .dataframe tbody tr th:only-of-type {\n",
       "        vertical-align: middle;\n",
       "    }\n",
       "\n",
       "    .dataframe tbody tr th {\n",
       "        vertical-align: top;\n",
       "    }\n",
       "\n",
       "    .dataframe thead th {\n",
       "        text-align: right;\n",
       "    }\n",
       "</style>\n",
       "<table border=\"1\" class=\"dataframe\">\n",
       "  <thead>\n",
       "    <tr style=\"text-align: right;\">\n",
       "      <th></th>\n",
       "      <th>side</th>\n",
       "      <th>price</th>\n",
       "      <th>size</th>\n",
       "      <th>size_delta</th>\n",
       "      <th>position</th>\n",
       "      <th>sr_prox_value</th>\n",
       "      <th>sr_prox_line</th>\n",
       "    </tr>\n",
       "  </thead>\n",
       "  <tbody>\n",
       "    <tr>\n",
       "      <th>0</th>\n",
       "      <td>sell</td>\n",
       "      <td>8042.91</td>\n",
       "      <td>10.656147</td>\n",
       "      <td>0.000</td>\n",
       "      <td>1</td>\n",
       "      <td>0</td>\n",
       "      <td>0</td>\n",
       "    </tr>\n",
       "    <tr>\n",
       "      <th>1</th>\n",
       "      <td>sell</td>\n",
       "      <td>8042.92</td>\n",
       "      <td>0.001181</td>\n",
       "      <td>0.020</td>\n",
       "      <td>2</td>\n",
       "      <td>0</td>\n",
       "      <td>0</td>\n",
       "    </tr>\n",
       "    <tr>\n",
       "      <th>2</th>\n",
       "      <td>sell</td>\n",
       "      <td>8042.93</td>\n",
       "      <td>0.001305</td>\n",
       "      <td>0.000</td>\n",
       "      <td>3</td>\n",
       "      <td>0</td>\n",
       "      <td>0</td>\n",
       "    </tr>\n",
       "    <tr>\n",
       "      <th>3</th>\n",
       "      <td>sell</td>\n",
       "      <td>8042.94</td>\n",
       "      <td>0.001181</td>\n",
       "      <td>0.001</td>\n",
       "      <td>4</td>\n",
       "      <td>0</td>\n",
       "      <td>0</td>\n",
       "    </tr>\n",
       "    <tr>\n",
       "      <th>4</th>\n",
       "      <td>sell</td>\n",
       "      <td>8042.95</td>\n",
       "      <td>1.265966</td>\n",
       "      <td>0.000</td>\n",
       "      <td>5</td>\n",
       "      <td>0</td>\n",
       "      <td>0</td>\n",
       "    </tr>\n",
       "  </tbody>\n",
       "</table>\n",
       "</div>"
      ],
      "text/plain": [
       "   side    price       size  size_delta  position  sr_prox_value  sr_prox_line\n",
       "0  sell  8042.91  10.656147       0.000         1              0             0\n",
       "1  sell  8042.92   0.001181       0.020         2              0             0\n",
       "2  sell  8042.93   0.001305       0.000         3              0             0\n",
       "3  sell  8042.94   0.001181       0.001         4              0             0\n",
       "4  sell  8042.95   1.265966       0.000         5              0             0"
      ]
     },
     "execution_count": 25,
     "metadata": {},
     "output_type": "execute_result"
    }
   ],
   "source": [
    "snapshot_asks_df.head()"
   ]
  },
  {
   "cell_type": "code",
   "execution_count": 26,
   "metadata": {},
   "outputs": [],
   "source": [
    "sr_update()"
   ]
  },
  {
   "cell_type": "code",
   "execution_count": 27,
   "metadata": {},
   "outputs": [
    {
     "data": {
      "text/html": [
       "<div>\n",
       "<style scoped>\n",
       "    .dataframe tbody tr th:only-of-type {\n",
       "        vertical-align: middle;\n",
       "    }\n",
       "\n",
       "    .dataframe tbody tr th {\n",
       "        vertical-align: top;\n",
       "    }\n",
       "\n",
       "    .dataframe thead th {\n",
       "        text-align: right;\n",
       "    }\n",
       "</style>\n",
       "<table border=\"1\" class=\"dataframe\">\n",
       "  <thead>\n",
       "    <tr style=\"text-align: right;\">\n",
       "      <th></th>\n",
       "      <th>side</th>\n",
       "      <th>price</th>\n",
       "      <th>size</th>\n",
       "      <th>size_delta</th>\n",
       "      <th>position</th>\n",
       "      <th>sr_prox_value</th>\n",
       "      <th>sr_prox_line</th>\n",
       "    </tr>\n",
       "  </thead>\n",
       "  <tbody>\n",
       "    <tr>\n",
       "      <th>0</th>\n",
       "      <td>sell</td>\n",
       "      <td>8042.91</td>\n",
       "      <td>10.656147</td>\n",
       "      <td>0.000</td>\n",
       "      <td>1</td>\n",
       "      <td>868</td>\n",
       "      <td>8910</td>\n",
       "    </tr>\n",
       "    <tr>\n",
       "      <th>1</th>\n",
       "      <td>sell</td>\n",
       "      <td>8042.92</td>\n",
       "      <td>0.001181</td>\n",
       "      <td>0.020</td>\n",
       "      <td>2</td>\n",
       "      <td>868</td>\n",
       "      <td>8910</td>\n",
       "    </tr>\n",
       "    <tr>\n",
       "      <th>2</th>\n",
       "      <td>sell</td>\n",
       "      <td>8042.93</td>\n",
       "      <td>0.001305</td>\n",
       "      <td>0.000</td>\n",
       "      <td>3</td>\n",
       "      <td>868</td>\n",
       "      <td>8910</td>\n",
       "    </tr>\n",
       "    <tr>\n",
       "      <th>3</th>\n",
       "      <td>sell</td>\n",
       "      <td>8042.94</td>\n",
       "      <td>0.001181</td>\n",
       "      <td>0.001</td>\n",
       "      <td>4</td>\n",
       "      <td>868</td>\n",
       "      <td>8910</td>\n",
       "    </tr>\n",
       "    <tr>\n",
       "      <th>4</th>\n",
       "      <td>sell</td>\n",
       "      <td>8042.95</td>\n",
       "      <td>1.265966</td>\n",
       "      <td>0.000</td>\n",
       "      <td>5</td>\n",
       "      <td>868</td>\n",
       "      <td>8910</td>\n",
       "    </tr>\n",
       "  </tbody>\n",
       "</table>\n",
       "</div>"
      ],
      "text/plain": [
       "   side    price       size  size_delta  position  sr_prox_value  sr_prox_line\n",
       "0  sell  8042.91  10.656147       0.000         1            868          8910\n",
       "1  sell  8042.92   0.001181       0.020         2            868          8910\n",
       "2  sell  8042.93   0.001305       0.000         3            868          8910\n",
       "3  sell  8042.94   0.001181       0.001         4            868          8910\n",
       "4  sell  8042.95   1.265966       0.000         5            868          8910"
      ]
     },
     "execution_count": 27,
     "metadata": {},
     "output_type": "execute_result"
    }
   ],
   "source": [
    "snapshot_asks_df.head()"
   ]
  },
  {
   "cell_type": "code",
   "execution_count": null,
   "metadata": {},
   "outputs": [],
   "source": []
  },
  {
   "cell_type": "code",
   "execution_count": null,
   "metadata": {},
   "outputs": [],
   "source": []
  },
  {
   "cell_type": "code",
   "execution_count": 28,
   "metadata": {},
   "outputs": [],
   "source": [
    "###########################################################################\n",
    "\n",
    "# Inital snapshot state ---> First L2 updates + features applied = First complete state to feed into model\n",
    "    # state 0: [price,size,size_delta,position,sr_prox_value,sr_prox_line]\n",
    "        # State 0 = 15 minutes of data as unit\n",
    "    # ml_results_modified is y value"
   ]
  },
  {
   "cell_type": "code",
   "execution_count": 29,
   "metadata": {},
   "outputs": [
    {
     "data": {
      "text/plain": [
       "array([8910, 8920, 8922, 8936, 8939, 8952, 8958, 8964, 8974, 8991, 9038,\n",
       "       9100, 9114, 9116, 9142, 9156, 9159, 9171, 9173, 9184, 9185, 9200,\n",
       "       9210, 9215, 9220, 9221])"
      ]
     },
     "execution_count": 29,
     "metadata": {},
     "output_type": "execute_result"
    }
   ],
   "source": [
    "# Results for predicted S/R levels may vary in total element/array length\n",
    "    # But will still be array similar in shape to the below\n",
    "ml_results_modified"
   ]
  },
  {
   "cell_type": "code",
   "execution_count": 30,
   "metadata": {},
   "outputs": [
    {
     "data": {
      "text/plain": [
       "26"
      ]
     },
     "execution_count": 30,
     "metadata": {},
     "output_type": "execute_result"
    }
   ],
   "source": [
    "np.size(ml_results_modified)"
   ]
  },
  {
   "cell_type": "code",
   "execution_count": 31,
   "metadata": {},
   "outputs": [
    {
     "data": {
      "text/html": [
       "<div>\n",
       "<style scoped>\n",
       "    .dataframe tbody tr th:only-of-type {\n",
       "        vertical-align: middle;\n",
       "    }\n",
       "\n",
       "    .dataframe tbody tr th {\n",
       "        vertical-align: top;\n",
       "    }\n",
       "\n",
       "    .dataframe thead th {\n",
       "        text-align: right;\n",
       "    }\n",
       "</style>\n",
       "<table border=\"1\" class=\"dataframe\">\n",
       "  <thead>\n",
       "    <tr style=\"text-align: right;\">\n",
       "      <th></th>\n",
       "      <th>side</th>\n",
       "      <th>price</th>\n",
       "      <th>size</th>\n",
       "      <th>size_delta</th>\n",
       "      <th>position</th>\n",
       "      <th>sr_prox_value</th>\n",
       "      <th>sr_prox_line</th>\n",
       "    </tr>\n",
       "  </thead>\n",
       "  <tbody>\n",
       "    <tr>\n",
       "      <th>0</th>\n",
       "      <td>sell</td>\n",
       "      <td>8042.91</td>\n",
       "      <td>10.656147</td>\n",
       "      <td>0.000</td>\n",
       "      <td>1</td>\n",
       "      <td>868</td>\n",
       "      <td>8910</td>\n",
       "    </tr>\n",
       "    <tr>\n",
       "      <th>1</th>\n",
       "      <td>sell</td>\n",
       "      <td>8042.92</td>\n",
       "      <td>0.001181</td>\n",
       "      <td>0.020</td>\n",
       "      <td>2</td>\n",
       "      <td>868</td>\n",
       "      <td>8910</td>\n",
       "    </tr>\n",
       "    <tr>\n",
       "      <th>2</th>\n",
       "      <td>sell</td>\n",
       "      <td>8042.93</td>\n",
       "      <td>0.001305</td>\n",
       "      <td>0.000</td>\n",
       "      <td>3</td>\n",
       "      <td>868</td>\n",
       "      <td>8910</td>\n",
       "    </tr>\n",
       "    <tr>\n",
       "      <th>3</th>\n",
       "      <td>sell</td>\n",
       "      <td>8042.94</td>\n",
       "      <td>0.001181</td>\n",
       "      <td>0.001</td>\n",
       "      <td>4</td>\n",
       "      <td>868</td>\n",
       "      <td>8910</td>\n",
       "    </tr>\n",
       "    <tr>\n",
       "      <th>4</th>\n",
       "      <td>sell</td>\n",
       "      <td>8042.95</td>\n",
       "      <td>1.265966</td>\n",
       "      <td>0.000</td>\n",
       "      <td>5</td>\n",
       "      <td>868</td>\n",
       "      <td>8910</td>\n",
       "    </tr>\n",
       "  </tbody>\n",
       "</table>\n",
       "</div>"
      ],
      "text/plain": [
       "   side    price       size  size_delta  position  sr_prox_value  sr_prox_line\n",
       "0  sell  8042.91  10.656147       0.000         1            868          8910\n",
       "1  sell  8042.92   0.001181       0.020         2            868          8910\n",
       "2  sell  8042.93   0.001305       0.000         3            868          8910\n",
       "3  sell  8042.94   0.001181       0.001         4            868          8910\n",
       "4  sell  8042.95   1.265966       0.000         5            868          8910"
      ]
     },
     "execution_count": 31,
     "metadata": {},
     "output_type": "execute_result"
    }
   ],
   "source": [
    "\n",
    "# Information about snapshot_asks_df for input shape information\n",
    "snapshot_asks_df.head()"
   ]
  },
  {
   "cell_type": "code",
   "execution_count": 32,
   "metadata": {},
   "outputs": [],
   "source": [
    "data = snapshot_asks_df.values\n",
    "X = data[:,2:6]\n",
    "y = data[:,6:7]\n",
    "y = np.ravel(y)\n",
    "label_encoder = LabelEncoder()\n",
    "encoded_y = label_encoder.fit_transform(y)\n",
    "onehot_encoder = OneHotEncoder(sparse=False)\n",
    "encoded_y = encoded_y.reshape(len(encoded_y), 1)\n",
    "onehot_y = onehot_encoder.fit_transform(encoded_y)"
   ]
  },
  {
   "cell_type": "code",
   "execution_count": 33,
   "metadata": {
    "scrolled": false
   },
   "outputs": [
    {
     "data": {
      "text/plain": [
       "array([[10.65614728, 0.0, 1, 868],\n",
       "       [0.00118097, 0.02, 2, 868],\n",
       "       [0.00130538, 0.0, 3, 868],\n",
       "       ...,\n",
       "       [0.00104855, 2.0, 16995, 9987645100],\n",
       "       [0.013999999999999999, 1.24231, 16996, 9999990777],\n",
       "       [0.02839242, 0.00375, 16997, 9999990778]], dtype=object)"
      ]
     },
     "execution_count": 33,
     "metadata": {},
     "output_type": "execute_result"
    }
   ],
   "source": [
    "X"
   ]
  },
  {
   "cell_type": "code",
   "execution_count": 34,
   "metadata": {},
   "outputs": [
    {
     "data": {
      "text/plain": [
       "array([8910, 8910, 8910, ..., 9221, 9221, 9221], dtype=object)"
      ]
     },
     "execution_count": 34,
     "metadata": {},
     "output_type": "execute_result"
    }
   ],
   "source": [
    "y"
   ]
  },
  {
   "cell_type": "code",
   "execution_count": 35,
   "metadata": {},
   "outputs": [
    {
     "data": {
      "text/plain": [
       "array([[ 0],\n",
       "       [ 0],\n",
       "       [ 0],\n",
       "       ...,\n",
       "       [25],\n",
       "       [25],\n",
       "       [25]], dtype=int64)"
      ]
     },
     "execution_count": 35,
     "metadata": {},
     "output_type": "execute_result"
    }
   ],
   "source": [
    "encoded_y"
   ]
  },
  {
   "cell_type": "code",
   "execution_count": 36,
   "metadata": {
    "scrolled": true
   },
   "outputs": [
    {
     "data": {
      "text/plain": [
       "array([[1., 0., 0., ..., 0., 0., 0.],\n",
       "       [1., 0., 0., ..., 0., 0., 0.],\n",
       "       [1., 0., 0., ..., 0., 0., 0.],\n",
       "       ...,\n",
       "       [0., 0., 0., ..., 0., 0., 1.],\n",
       "       [0., 0., 0., ..., 0., 0., 1.],\n",
       "       [0., 0., 0., ..., 0., 0., 1.]])"
      ]
     },
     "execution_count": 36,
     "metadata": {},
     "output_type": "execute_result"
    }
   ],
   "source": [
    "onehot_y"
   ]
  },
  {
   "cell_type": "code",
   "execution_count": 37,
   "metadata": {
    "scrolled": true
   },
   "outputs": [
    {
     "name": "stdout",
     "output_type": "stream",
     "text": [
      "(16997, 7)\n",
      "Shape without side column :\n",
      "(16997, 4)\n",
      "(16997,)\n",
      "(16997, 26)\n"
     ]
    }
   ],
   "source": [
    "# Shape information for input shaping\n",
    "print(data.shape)\n",
    "print(\"Shape without side column :\")\n",
    "print(X.shape)\n",
    "print(y.shape)\n",
    "print(onehot_y.shape)"
   ]
  },
  {
   "cell_type": "code",
   "execution_count": 38,
   "metadata": {},
   "outputs": [
    {
     "name": "stdout",
     "output_type": "stream",
     "text": [
      "(16997, 4)\n",
      "(16997, 1, 4)\n"
     ]
    }
   ],
   "source": [
    "# Reshape X into format required for LSTM/GRU input:\n",
    "\n",
    "print(X.shape)\n",
    "Xshapetest = np.reshape(X, (X.shape[0], 1, X.shape[1]))\n",
    "print(Xshapetest.shape)"
   ]
  },
  {
   "cell_type": "code",
   "execution_count": 39,
   "metadata": {},
   "outputs": [
    {
     "data": {
      "text/plain": [
       "16997"
      ]
     },
     "execution_count": 39,
     "metadata": {},
     "output_type": "execute_result"
    }
   ],
   "source": [
    "Xshapetest.shape[0]"
   ]
  },
  {
   "cell_type": "code",
   "execution_count": 40,
   "metadata": {},
   "outputs": [
    {
     "name": "stdout",
     "output_type": "stream",
     "text": [
      "(16997, 26)\n"
     ]
    }
   ],
   "source": [
    "print(onehot_y.shape)"
   ]
  },
  {
   "cell_type": "code",
   "execution_count": 41,
   "metadata": {
    "scrolled": false
   },
   "outputs": [
    {
     "name": "stdout",
     "output_type": "stream",
     "text": [
      "_________________________________________________________________\n",
      "Layer (type)                 Output Shape              Param #   \n",
      "=================================================================\n",
      "lstm_1 (LSTM)                (16997, 1, 1024)          4214784   \n",
      "_________________________________________________________________\n",
      "lstm_2 (LSTM)                (16997, 1, 512)           3147776   \n",
      "_________________________________________________________________\n",
      "lstm_3 (LSTM)                (16997, 256)              787456    \n",
      "_________________________________________________________________\n",
      "dense_1 (Dense)              (16997, 26)               6682      \n",
      "=================================================================\n",
      "Total params: 8,156,698\n",
      "Trainable params: 8,156,698\n",
      "Non-trainable params: 0\n",
      "_________________________________________________________________\n"
     ]
    }
   ],
   "source": [
    "### Model construction ###\n",
    "\n",
    "# Relevant documentation: \n",
    "    #https://keras.io/getting-started/faq/#how-can-i-use-stateful-rnns\n",
    "    #https://keras.io/getting-started/sequential-model-guide/\n",
    "\n",
    "#model.add(Embedding(7, 2500))\n",
    "    #https://keras.io/layers/embeddings/\n",
    "#model.add(LSTM(512, input_shape=(Xshapetest.shape[1], Xshapetest.shape[2]),\\\n",
    "               #dropout=0.1, recurrent_dropout=0.2,return_sequences=True,stateful=True))\n",
    "\n",
    "data_dim = Xshapetest.shape[2]\n",
    "    # Features\n",
    "timesteps = Xshapetest.shape[1]\n",
    "    # Timesteps\n",
    "batch_size = Xshapetest.shape[0]\n",
    "    # required parameter for LSTM if stateful = True\n",
    "    # Size of entire batch or batch sizes\n",
    "\n",
    "model = Sequential()\n",
    "model.add(LSTM(1024, return_sequences=True, stateful=True,\n",
    "               batch_input_shape=(batch_size , timesteps, data_dim )))\n",
    "                                                #input_shape(batch_size, timesteps,features)\n",
    "                                                #input_shape(timesteps,features)\n",
    "model.add(LSTM(512, return_sequences=True,stateful=True ))\n",
    "model.add(LSTM(256, return_sequences=False,stateful=True ))\n",
    "#model.add(LSTM(128, return_sequences=True,stateful=True ))\n",
    "#model.add(LSTM(64, return_sequences=False,stateful=True ))\n",
    "#model.add(LSTM(64, return_sequences=False,stateful=True ))\n",
    "model.add(Dense(onehot_y.shape[1], activation='relu'))\n",
    "model.compile(loss = \"categorical_crossentropy\", optimizer = 'rmsprop', metrics = ['accuracy'])\n",
    "model.summary() "
   ]
  },
  {
   "cell_type": "code",
   "execution_count": 42,
   "metadata": {},
   "outputs": [],
   "source": [
    "# Command to reset state of each LSTM layer\n",
    "#model.reset_states()"
   ]
  },
  {
   "cell_type": "code",
   "execution_count": 43,
   "metadata": {
    "scrolled": true
   },
   "outputs": [
    {
     "name": "stdout",
     "output_type": "stream",
     "text": [
      "Epoch 1/100\n",
      " - 3s - loss: 2.7742 - acc: 0.3246\n",
      "Epoch 2/100\n",
      " - 0s - loss: 1.3233 - acc: 0.7266\n",
      "Epoch 3/100\n",
      " - 0s - loss: 1.2844 - acc: 0.7588\n",
      "Epoch 4/100\n",
      " - 0s - loss: 1.1938 - acc: 0.7753\n",
      "Epoch 5/100\n",
      " - 0s - loss: 1.2123 - acc: 0.7792\n",
      "Epoch 6/100\n",
      " - 0s - loss: 1.1780 - acc: 0.7805\n",
      "Epoch 7/100\n",
      " - 0s - loss: 1.1699 - acc: 0.7839\n",
      "Epoch 8/100\n",
      " - 0s - loss: 1.1640 - acc: 0.7850\n",
      "Epoch 9/100\n",
      " - 0s - loss: 1.1595 - acc: 0.7860\n",
      "Epoch 10/100\n",
      " - 0s - loss: 1.1553 - acc: 0.7906\n",
      "Epoch 11/100\n",
      " - 0s - loss: 1.1511 - acc: 0.7921\n",
      "Epoch 12/100\n",
      " - 0s - loss: 1.1465 - acc: 0.7912\n",
      "Epoch 13/100\n",
      " - 0s - loss: 1.1412 - acc: 0.7924\n",
      "Epoch 14/100\n",
      " - 0s - loss: 1.1358 - acc: 0.7921\n",
      "Epoch 15/100\n",
      " - 0s - loss: 1.1302 - acc: 0.7917\n",
      "Epoch 16/100\n",
      " - 0s - loss: 1.1417 - acc: 0.7937\n",
      "Epoch 17/100\n",
      " - 0s - loss: 1.2344 - acc: 0.7958\n",
      "Epoch 18/100\n",
      " - 0s - loss: 1.2217 - acc: 0.7964\n",
      "Epoch 19/100\n",
      " - 0s - loss: 1.2170 - acc: 0.7962\n",
      "Epoch 20/100\n",
      " - 0s - loss: 1.1935 - acc: 0.7962\n",
      "Epoch 21/100\n",
      " - 0s - loss: 1.1637 - acc: 0.7962\n",
      "Epoch 22/100\n",
      " - 0s - loss: 1.1349 - acc: 0.7962\n",
      "Epoch 23/100\n",
      " - 0s - loss: 1.1149 - acc: 0.7962\n",
      "Epoch 24/100\n",
      " - 0s - loss: 1.1096 - acc: 0.7962\n",
      "Epoch 25/100\n",
      " - 0s - loss: 1.1003 - acc: 0.7962\n",
      "Epoch 26/100\n",
      " - 0s - loss: 1.0786 - acc: 0.7962\n",
      "Epoch 27/100\n",
      " - 0s - loss: 1.0652 - acc: 0.7962\n",
      "Epoch 28/100\n",
      " - 0s - loss: 1.0526 - acc: 0.7962\n",
      "Epoch 29/100\n",
      " - 0s - loss: 1.0416 - acc: 0.8022\n",
      "Epoch 30/100\n",
      " - 0s - loss: 1.0323 - acc: 0.8028\n",
      "Epoch 31/100\n",
      " - 0s - loss: 1.0246 - acc: 0.8021\n",
      "Epoch 32/100\n",
      " - 0s - loss: 1.0180 - acc: 0.7990\n",
      "Epoch 33/100\n",
      " - 0s - loss: 1.0113 - acc: 0.8017\n",
      "Epoch 34/100\n",
      " - 0s - loss: 0.9968 - acc: 0.8077\n",
      "Epoch 35/100\n",
      " - 0s - loss: 1.3311 - acc: 0.7983\n",
      "Epoch 36/100\n",
      " - 0s - loss: 1.4251 - acc: 0.7636\n",
      "Epoch 37/100\n",
      " - 0s - loss: 1.4520 - acc: 0.7436\n",
      "Epoch 38/100\n",
      " - 0s - loss: 1.4319 - acc: 0.8044\n",
      "Epoch 39/100\n",
      " - 0s - loss: 1.3929 - acc: 0.8040\n",
      "Epoch 40/100\n",
      " - 0s - loss: 1.3524 - acc: 0.8051\n",
      "Epoch 41/100\n",
      " - 0s - loss: 1.3087 - acc: 0.8044\n",
      "Epoch 42/100\n",
      " - 0s - loss: 1.2615 - acc: 0.8038\n",
      "Epoch 43/100\n",
      " - 0s - loss: 1.2108 - acc: 0.8034\n",
      "Epoch 44/100\n",
      " - 0s - loss: 1.1560 - acc: 0.8031\n",
      "Epoch 45/100\n",
      " - 0s - loss: 1.0934 - acc: 0.8034\n",
      "Epoch 46/100\n",
      " - 0s - loss: 1.0628 - acc: 0.8036\n",
      "Epoch 47/100\n",
      " - 0s - loss: 1.0498 - acc: 0.8042\n",
      "Epoch 48/100\n",
      " - 0s - loss: 1.0394 - acc: 0.8046\n",
      "Epoch 49/100\n",
      " - 0s - loss: 1.0299 - acc: 0.8052\n",
      "Epoch 50/100\n",
      " - 0s - loss: 1.0205 - acc: 0.8056\n",
      "Epoch 51/100\n",
      " - 0s - loss: 1.0116 - acc: 0.8056\n",
      "Epoch 52/100\n",
      " - 0s - loss: 1.0031 - acc: 0.8061\n",
      "Epoch 53/100\n",
      " - 0s - loss: 0.9951 - acc: 0.8063\n",
      "Epoch 54/100\n",
      " - 0s - loss: 0.9873 - acc: 0.8064\n",
      "Epoch 55/100\n",
      " - 0s - loss: 0.9794 - acc: 0.8189\n",
      "Epoch 56/100\n",
      " - 0s - loss: 0.9713 - acc: 0.8447\n",
      "Epoch 57/100\n",
      " - 0s - loss: 0.9628 - acc: 0.8577\n",
      "Epoch 58/100\n",
      " - 0s - loss: 0.9536 - acc: 0.8665\n",
      "Epoch 59/100\n",
      " - 0s - loss: 0.9447 - acc: 0.8670\n",
      "Epoch 60/100\n",
      " - 0s - loss: 0.9377 - acc: 0.8705\n",
      "Epoch 61/100\n",
      " - 0s - loss: 0.9314 - acc: 0.8787\n",
      "Epoch 62/100\n",
      " - 0s - loss: 0.9251 - acc: 0.8931\n",
      "Epoch 63/100\n",
      " - 0s - loss: 0.9171 - acc: 0.9204\n",
      "Epoch 64/100\n",
      " - 0s - loss: 0.9074 - acc: 0.9298\n",
      "Epoch 65/100\n",
      " - 0s - loss: 0.8958 - acc: 0.9329\n",
      "Epoch 66/100\n",
      " - 0s - loss: 0.8819 - acc: 0.9330\n",
      "Epoch 67/100\n",
      " - 0s - loss: 0.8644 - acc: 0.9332\n",
      "Epoch 68/100\n",
      " - 0s - loss: 0.8431 - acc: 0.9340\n",
      "Epoch 69/100\n",
      " - 0s - loss: 0.8175 - acc: 0.9343\n",
      "Epoch 70/100\n",
      " - 0s - loss: 0.7830 - acc: 0.9359\n",
      "Epoch 71/100\n",
      " - 0s - loss: 0.7939 - acc: 0.9411\n",
      "Epoch 72/100\n",
      " - 0s - loss: 0.7845 - acc: 0.9489\n",
      "Epoch 73/100\n",
      " - 0s - loss: 0.7716 - acc: 0.9509\n",
      "Epoch 74/100\n",
      " - 0s - loss: 0.7642 - acc: 0.9517\n",
      "Epoch 75/100\n",
      " - 0s - loss: 0.7567 - acc: 0.9526\n",
      "Epoch 76/100\n",
      " - 0s - loss: 0.7518 - acc: 0.9526\n",
      "Epoch 77/100\n",
      " - 0s - loss: 0.7494 - acc: 0.9526\n",
      "Epoch 78/100\n",
      " - 0s - loss: 0.7482 - acc: 0.9526\n",
      "Epoch 79/100\n",
      " - 0s - loss: 0.7480 - acc: 0.9526\n",
      "Epoch 80/100\n",
      " - 0s - loss: 0.7479 - acc: 0.9526\n",
      "Epoch 81/100\n",
      " - 0s - loss: 0.7476 - acc: 0.9526\n",
      "Epoch 82/100\n",
      " - 0s - loss: 0.7473 - acc: 0.9526\n",
      "Epoch 83/100\n",
      " - 0s - loss: 0.7471 - acc: 0.9526\n",
      "Epoch 84/100\n",
      " - 0s - loss: 0.7470 - acc: 0.9526\n",
      "Epoch 85/100\n",
      " - 0s - loss: 0.7469 - acc: 0.9526\n",
      "Epoch 86/100\n",
      " - 0s - loss: 0.7467 - acc: 0.9526\n",
      "Epoch 87/100\n",
      " - 0s - loss: 0.7467 - acc: 0.9526\n",
      "Epoch 88/100\n",
      " - 0s - loss: 0.7465 - acc: 0.9526\n",
      "Epoch 89/100\n",
      " - 0s - loss: 0.7464 - acc: 0.9526\n",
      "Epoch 90/100\n",
      " - 0s - loss: 0.7461 - acc: 0.9526\n",
      "Epoch 91/100\n",
      " - 0s - loss: 0.7459 - acc: 0.9536\n",
      "Epoch 92/100\n",
      " - 0s - loss: 0.7468 - acc: 0.9536\n",
      "Epoch 93/100\n",
      " - 0s - loss: 0.7297 - acc: 0.9535\n",
      "Epoch 94/100\n",
      " - 0s - loss: 0.7731 - acc: 0.9519\n",
      "Epoch 95/100\n",
      " - 0s - loss: 0.8815 - acc: 0.9452\n",
      "Epoch 96/100\n",
      " - 0s - loss: 0.7466 - acc: 0.9526\n",
      "Epoch 97/100\n",
      " - 0s - loss: 0.7467 - acc: 0.9526\n",
      "Epoch 98/100\n",
      " - 0s - loss: 0.7469 - acc: 0.9526\n",
      "Epoch 99/100\n",
      " - 0s - loss: 0.7473 - acc: 0.9526\n",
      "Epoch 100/100\n",
      " - 0s - loss: 0.7474 - acc: 0.9526\n"
     ]
    },
    {
     "data": {
      "text/plain": [
       "<keras.callbacks.History at 0x1188a805eb8>"
      ]
     },
     "execution_count": 43,
     "metadata": {},
     "output_type": "execute_result"
    }
   ],
   "source": [
    "model.fit(\n",
    "    Xshapetest,\n",
    "    onehot_y, \n",
    "    epochs=100,\n",
    "    shuffle=False, #Set shuffle to false when stateful = True in model definition above\n",
    "    verbose=2,\n",
    "    batch_size=batch_size  #validation_data=(X, onehot_y)\n",
    ")"
   ]
  },
  {
   "cell_type": "code",
   "execution_count": 44,
   "metadata": {},
   "outputs": [
    {
     "name": "stdout",
     "output_type": "stream",
     "text": [
      "16997/16997 [==============================] - 0s 12us/step\n",
      " Model - Loss: 0.7473645210266113, Accuracy: 0.9525798559188843\n"
     ]
    }
   ],
   "source": [
    "model_loss, model_accuracy=model.evaluate(Xshapetest, onehot_y, batch_size=batch_size)\n",
    "print(f\" Model - Loss: {model_loss}, Accuracy: {model_accuracy}\")"
   ]
  },
  {
   "cell_type": "code",
   "execution_count": 45,
   "metadata": {},
   "outputs": [
    {
     "data": {
      "text/plain": [
       "array([[2.8259468, 0.       , 0.       , ..., 0.       , 0.       ,\n",
       "        0.       ],\n",
       "       [2.7111654, 0.       , 0.       , ..., 0.       , 0.       ,\n",
       "        0.       ],\n",
       "       [2.7392206, 0.       , 0.       , ..., 0.       , 0.       ,\n",
       "        0.       ],\n",
       "       ...,\n",
       "       [0.       , 0.       , 0.       , ..., 0.       , 0.       ,\n",
       "        4.42584  ],\n",
       "       [0.       , 0.       , 0.       , ..., 0.       , 0.       ,\n",
       "        4.42584  ],\n",
       "       [0.       , 0.       , 0.       , ..., 0.       , 0.       ,\n",
       "        4.42584  ]], dtype=float32)"
      ]
     },
     "execution_count": 45,
     "metadata": {},
     "output_type": "execute_result"
    }
   ],
   "source": [
    "model.predict(Xshapetest,batch_size=batch_size)\n"
   ]
  },
  {
   "cell_type": "code",
   "execution_count": 61,
   "metadata": {},
   "outputs": [
    {
     "data": {
      "text/plain": [
       "array([ 0,  0,  0, ..., 25, 25, 25], dtype=int64)"
      ]
     },
     "execution_count": 61,
     "metadata": {},
     "output_type": "execute_result"
    }
   ],
   "source": [
    "model.predict_classes(Xshapetest,batch_size=batch_size)\n",
    "#model.predict_classes(Xshapetest)"
   ]
  },
  {
   "cell_type": "code",
   "execution_count": 60,
   "metadata": {
    "scrolled": true
   },
   "outputs": [
    {
     "data": {
      "text/html": [
       "<div>\n",
       "<style scoped>\n",
       "    .dataframe tbody tr th:only-of-type {\n",
       "        vertical-align: middle;\n",
       "    }\n",
       "\n",
       "    .dataframe tbody tr th {\n",
       "        vertical-align: top;\n",
       "    }\n",
       "\n",
       "    .dataframe thead th {\n",
       "        text-align: right;\n",
       "    }\n",
       "</style>\n",
       "<table border=\"1\" class=\"dataframe\">\n",
       "  <thead>\n",
       "    <tr style=\"text-align: right;\">\n",
       "      <th></th>\n",
       "      <th>0</th>\n",
       "      <th>1</th>\n",
       "      <th>2</th>\n",
       "      <th>3</th>\n",
       "      <th>4</th>\n",
       "      <th>5</th>\n",
       "      <th>6</th>\n",
       "      <th>7</th>\n",
       "      <th>8</th>\n",
       "      <th>9</th>\n",
       "      <th>...</th>\n",
       "      <th>16</th>\n",
       "      <th>17</th>\n",
       "      <th>18</th>\n",
       "      <th>19</th>\n",
       "      <th>20</th>\n",
       "      <th>21</th>\n",
       "      <th>22</th>\n",
       "      <th>23</th>\n",
       "      <th>24</th>\n",
       "      <th>25</th>\n",
       "    </tr>\n",
       "  </thead>\n",
       "  <tbody>\n",
       "    <tr>\n",
       "      <th>0</th>\n",
       "      <td>2.880875</td>\n",
       "      <td>0.0</td>\n",
       "      <td>0.0</td>\n",
       "      <td>0.0</td>\n",
       "      <td>0.0</td>\n",
       "      <td>0.0</td>\n",
       "      <td>0.0</td>\n",
       "      <td>0.0</td>\n",
       "      <td>0.0</td>\n",
       "      <td>0.0</td>\n",
       "      <td>...</td>\n",
       "      <td>0.0</td>\n",
       "      <td>0.0</td>\n",
       "      <td>0.0</td>\n",
       "      <td>0.0</td>\n",
       "      <td>0.0</td>\n",
       "      <td>0.0</td>\n",
       "      <td>0.0</td>\n",
       "      <td>0.0</td>\n",
       "      <td>0.0</td>\n",
       "      <td>0.0</td>\n",
       "    </tr>\n",
       "    <tr>\n",
       "      <th>1</th>\n",
       "      <td>2.683133</td>\n",
       "      <td>0.0</td>\n",
       "      <td>0.0</td>\n",
       "      <td>0.0</td>\n",
       "      <td>0.0</td>\n",
       "      <td>0.0</td>\n",
       "      <td>0.0</td>\n",
       "      <td>0.0</td>\n",
       "      <td>0.0</td>\n",
       "      <td>0.0</td>\n",
       "      <td>...</td>\n",
       "      <td>0.0</td>\n",
       "      <td>0.0</td>\n",
       "      <td>0.0</td>\n",
       "      <td>0.0</td>\n",
       "      <td>0.0</td>\n",
       "      <td>0.0</td>\n",
       "      <td>0.0</td>\n",
       "      <td>0.0</td>\n",
       "      <td>0.0</td>\n",
       "      <td>0.0</td>\n",
       "    </tr>\n",
       "    <tr>\n",
       "      <th>2</th>\n",
       "      <td>2.706205</td>\n",
       "      <td>0.0</td>\n",
       "      <td>0.0</td>\n",
       "      <td>0.0</td>\n",
       "      <td>0.0</td>\n",
       "      <td>0.0</td>\n",
       "      <td>0.0</td>\n",
       "      <td>0.0</td>\n",
       "      <td>0.0</td>\n",
       "      <td>0.0</td>\n",
       "      <td>...</td>\n",
       "      <td>0.0</td>\n",
       "      <td>0.0</td>\n",
       "      <td>0.0</td>\n",
       "      <td>0.0</td>\n",
       "      <td>0.0</td>\n",
       "      <td>0.0</td>\n",
       "      <td>0.0</td>\n",
       "      <td>0.0</td>\n",
       "      <td>0.0</td>\n",
       "      <td>0.0</td>\n",
       "    </tr>\n",
       "    <tr>\n",
       "      <th>3</th>\n",
       "      <td>2.746384</td>\n",
       "      <td>0.0</td>\n",
       "      <td>0.0</td>\n",
       "      <td>0.0</td>\n",
       "      <td>0.0</td>\n",
       "      <td>0.0</td>\n",
       "      <td>0.0</td>\n",
       "      <td>0.0</td>\n",
       "      <td>0.0</td>\n",
       "      <td>0.0</td>\n",
       "      <td>...</td>\n",
       "      <td>0.0</td>\n",
       "      <td>0.0</td>\n",
       "      <td>0.0</td>\n",
       "      <td>0.0</td>\n",
       "      <td>0.0</td>\n",
       "      <td>0.0</td>\n",
       "      <td>0.0</td>\n",
       "      <td>0.0</td>\n",
       "      <td>0.0</td>\n",
       "      <td>0.0</td>\n",
       "    </tr>\n",
       "    <tr>\n",
       "      <th>4</th>\n",
       "      <td>2.890755</td>\n",
       "      <td>0.0</td>\n",
       "      <td>0.0</td>\n",
       "      <td>0.0</td>\n",
       "      <td>0.0</td>\n",
       "      <td>0.0</td>\n",
       "      <td>0.0</td>\n",
       "      <td>0.0</td>\n",
       "      <td>0.0</td>\n",
       "      <td>0.0</td>\n",
       "      <td>...</td>\n",
       "      <td>0.0</td>\n",
       "      <td>0.0</td>\n",
       "      <td>0.0</td>\n",
       "      <td>0.0</td>\n",
       "      <td>0.0</td>\n",
       "      <td>0.0</td>\n",
       "      <td>0.0</td>\n",
       "      <td>0.0</td>\n",
       "      <td>0.0</td>\n",
       "      <td>0.0</td>\n",
       "    </tr>\n",
       "  </tbody>\n",
       "</table>\n",
       "<p>5 rows × 26 columns</p>\n",
       "</div>"
      ],
      "text/plain": [
       "         0    1    2    3    4    5    6    7    8    9  ...    16   17   18  \\\n",
       "0  2.880875  0.0  0.0  0.0  0.0  0.0  0.0  0.0  0.0  0.0 ...   0.0  0.0  0.0   \n",
       "1  2.683133  0.0  0.0  0.0  0.0  0.0  0.0  0.0  0.0  0.0 ...   0.0  0.0  0.0   \n",
       "2  2.706205  0.0  0.0  0.0  0.0  0.0  0.0  0.0  0.0  0.0 ...   0.0  0.0  0.0   \n",
       "3  2.746384  0.0  0.0  0.0  0.0  0.0  0.0  0.0  0.0  0.0 ...   0.0  0.0  0.0   \n",
       "4  2.890755  0.0  0.0  0.0  0.0  0.0  0.0  0.0  0.0  0.0 ...   0.0  0.0  0.0   \n",
       "\n",
       "    19   20   21   22   23   24   25  \n",
       "0  0.0  0.0  0.0  0.0  0.0  0.0  0.0  \n",
       "1  0.0  0.0  0.0  0.0  0.0  0.0  0.0  \n",
       "2  0.0  0.0  0.0  0.0  0.0  0.0  0.0  \n",
       "3  0.0  0.0  0.0  0.0  0.0  0.0  0.0  \n",
       "4  0.0  0.0  0.0  0.0  0.0  0.0  0.0  \n",
       "\n",
       "[5 rows x 26 columns]"
      ]
     },
     "execution_count": 60,
     "metadata": {},
     "output_type": "execute_result"
    }
   ],
   "source": [
    "# Breakout of model.predict results into dataframe for examination:\n",
    "\n",
    "a =model.predict(Xshapetest,batch_size=batch_size)\n",
    "a_df = pd.DataFrame(a)\n",
    "a_df.head()\n"
   ]
  },
  {
   "cell_type": "code",
   "execution_count": 48,
   "metadata": {},
   "outputs": [
    {
     "name": "stderr",
     "output_type": "stream",
     "text": [
      "C:\\ProgramData\\Anaconda3\\lib\\site-packages\\sklearn\\preprocessing\\label.py:151: DeprecationWarning: The truth value of an empty array is ambiguous. Returning False, but in future this will result in an error. Use `array.size > 0` to check that an array is not empty.\n",
      "  if diff:\n"
     ]
    },
    {
     "data": {
      "text/plain": [
       "array([8910, 8910, 8910, ..., 9221, 9221, 9221], dtype=object)"
      ]
     },
     "execution_count": 48,
     "metadata": {},
     "output_type": "execute_result"
    }
   ],
   "source": [
    "# Reversal of categoricial and onehot encoding:\n",
    "\n",
    "decoded = onehot_y.dot(onehot_encoder.active_features_).astype(int)\n",
    "#print(decoded)\n",
    "inverted = label_encoder.inverse_transform(decoded)\n",
    "inverted"
   ]
  },
  {
   "cell_type": "code",
   "execution_count": 63,
   "metadata": {},
   "outputs": [],
   "source": [
    "# Save compiled model and model layer weights to disk\n",
    "from keras.models import model_from_json\n",
    "model_json = model.to_json()\n",
    "with open(\"model.json\", \"w\") as json_file:\n",
    "    json_file.write(model_json)\n",
    "model.save_weights(\"model.h5\")\n"
   ]
  },
  {
   "cell_type": "code",
   "execution_count": null,
   "metadata": {},
   "outputs": [],
   "source": [
    "# Load model from disk and model layer weights\n",
    "json_file = open('model/model.json', 'r')\n",
    "loaded_model_json = json_file.read()\n",
    "json_file.close()\n",
    "loaded_model = model_from_json(loaded_model_json)\n",
    "# load weights into new model\n",
    "loaded_model.load_weights(\"model/model.h5\")\n",
    "print(\"Loaded model from disk\")"
   ]
  },
  {
   "cell_type": "code",
   "execution_count": null,
   "metadata": {},
   "outputs": [],
   "source": []
  },
  {
   "cell_type": "code",
   "execution_count": null,
   "metadata": {},
   "outputs": [],
   "source": []
  },
  {
   "cell_type": "code",
   "execution_count": null,
   "metadata": {},
   "outputs": [],
   "source": []
  },
  {
   "cell_type": "code",
   "execution_count": null,
   "metadata": {
    "scrolled": true
   },
   "outputs": [],
   "source": []
  },
  {
   "cell_type": "code",
   "execution_count": 49,
   "metadata": {},
   "outputs": [],
   "source": [
    "#from numpy import argmax\n",
    "#inverted = label_encoder.inverse_transform([argmax(onehot_y[0, :])])\n",
    "#inverted = label_encoder.inverse_transform([argmax(onehot_y)])\n",
    "#print(inverted)"
   ]
  },
  {
   "cell_type": "code",
   "execution_count": null,
   "metadata": {},
   "outputs": [],
   "source": []
  },
  {
   "cell_type": "code",
   "execution_count": null,
   "metadata": {},
   "outputs": [],
   "source": []
  },
  {
   "cell_type": "code",
   "execution_count": null,
   "metadata": {},
   "outputs": [],
   "source": []
  },
  {
   "cell_type": "code",
   "execution_count": 50,
   "metadata": {},
   "outputs": [],
   "source": [
    "# One hot encoding into function \n"
   ]
  },
  {
   "cell_type": "code",
   "execution_count": 51,
   "metadata": {},
   "outputs": [],
   "source": [
    "# Function to reshape data into LSTM/GRU input shape \n"
   ]
  }
 ],
 "metadata": {
  "kernelspec": {
   "display_name": "Python 3",
   "language": "python",
   "name": "python3"
  },
  "language_info": {
   "codemirror_mode": {
    "name": "ipython",
    "version": 3
   },
   "file_extension": ".py",
   "mimetype": "text/x-python",
   "name": "python",
   "nbconvert_exporter": "python",
   "pygments_lexer": "ipython3",
   "version": "3.6.4"
  }
 },
 "nbformat": 4,
 "nbformat_minor": 2
}
