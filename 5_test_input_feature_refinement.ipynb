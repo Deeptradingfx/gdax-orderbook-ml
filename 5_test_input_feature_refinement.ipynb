{
 "cells": [
  {
   "cell_type": "code",
   "execution_count": 1,
   "metadata": {},
   "outputs": [],
   "source": [
    "# Restructure of program into functions \n",
    "    # Data structures for scrape/request log and support/resistance (predicted vs actual)\n",
    "    # L2 update states applied to snapshot over a defined interval (15m, in sync with chart update)\n",
    "        # Timestamp issue for 15m chart  \n",
    "# One hot encoding into function       \n",
    "# Function to reshape data into LSTM/GRU input shape             \n",
    "# Further reshaping of input/test data for LSTM/GRU model "
   ]
  },
  {
   "cell_type": "code",
   "execution_count": 1,
   "metadata": {},
   "outputs": [
    {
     "name": "stderr",
     "output_type": "stream",
     "text": [
      "C:\\ProgramData\\Anaconda3\\lib\\site-packages\\matplotlib\\cbook\\deprecation.py:106: MatplotlibDeprecationWarning: The finance module has been deprecated in mpl 2.0 and will be removed in mpl 2.2. Please use the module mpl_finance instead.\n",
      "  warnings.warn(message, mplDeprecation, stacklevel=1)\n",
      "C:\\ProgramData\\Anaconda3\\lib\\site-packages\\h5py\\__init__.py:36: FutureWarning: Conversion of the second argument of issubdtype from `float` to `np.floating` is deprecated. In future, it will be treated as `np.float64 == np.dtype(float).type`.\n",
      "  from ._conv import register_converters as _register_converters\n",
      "Using TensorFlow backend.\n"
     ]
    }
   ],
   "source": [
    "# Imports\n",
    "import pandas as pd\n",
    "import numpy as np\n",
    "import requests\n",
    "import json\n",
    "from json import loads\n",
    "import datetime \n",
    "import matplotlib.pyplot as plt\n",
    "%matplotlib inline\n",
    "import time\n",
    "\n",
    "# Charting-specific imports\n",
    "import matplotlib.finance\n",
    "import matplotlib.ticker as ticker\n",
    "from matplotlib.finance import candlestick_ohlc,candlestick2_ohlc\n",
    "from matplotlib.finance import volume_overlay,volume_overlay2\n",
    "from matplotlib.dates import  DateFormatter, epoch2num\n",
    "    # https://matplotlib.org/api/finance_api.html#module-matplotlib.finance\n",
    "\n",
    "# API-specific imports (local install)\n",
    "import gdax\n",
    "    # Python setup.py install with environment activaated to install/use\n",
    "    # Do not use default gdax pip install package - that version of the package is currently broken\n",
    "\n",
    "# Pymongo import for connection to local client DB\n",
    "import pymongo\n",
    "from pymongo import MongoClient\n",
    "\n",
    "# Preprocessing Imports\n",
    "from sklearn.model_selection import train_test_split\n",
    "from sklearn.preprocessing import LabelEncoder, StandardScaler, MinMaxScaler, OneHotEncoder\n",
    "from keras.utils import to_categorical \n",
    "\n",
    "# ML Imports \n",
    "import tensorflow as tf\n",
    "import keras\n",
    "from keras.models import Sequential\n",
    "from keras.layers import Dense, Activation, Dropout\n",
    "from keras.layers import LSTM, GRU\n",
    "from keras.models import load_model\n",
    "from keras import backend as K\n",
    "\n",
    "# autoSR() import requirements\n",
    "from sklearn.cluster import MeanShift, estimate_bandwidth\n",
    "from pandas_datareader import data, wb\n",
    "\n",
    "###########################################################################\n",
    "### Force Keras/TF to use CPU backend when GPU present by setting:\n",
    "    # {'CPU' : 1, 'GPU' : 0}\n",
    "    \n",
    "#num_cores = 4\n",
    "#config = tf.ConfigProto(intra_op_parallelism_threads=num_cores,\\\n",
    "        #inter_op_parallelism_threads=num_cores, allow_soft_placement=True,\\\n",
    "        #device_count = {'CPU' : 1, 'GPU' : 1})\n",
    "#session = tf.Session(config=config)\n",
    "#K.set_session(session)\n",
    "###########################################################################\n",
    "\n",
    "# Import to check check for GPU availability for tensorflow backend\n",
    "from tensorflow.python.client import device_lib"
   ]
  },
  {
   "cell_type": "code",
   "execution_count": 2,
   "metadata": {},
   "outputs": [
    {
     "name": "stdout",
     "output_type": "stream",
     "text": [
      "[name: \"/device:CPU:0\"\n",
      "device_type: \"CPU\"\n",
      "memory_limit: 268435456\n",
      "locality {\n",
      "}\n",
      "incarnation: 16288049865659812329\n",
      ", name: \"/device:GPU:0\"\n",
      "device_type: \"GPU\"\n",
      "memory_limit: 9222031934\n",
      "locality {\n",
      "  bus_id: 1\n",
      "  links {\n",
      "  }\n",
      "}\n",
      "incarnation: 13336782172314486406\n",
      "physical_device_desc: \"device: 0, name: GeForce GTX 1080 Ti, pci bus id: 0000:01:00.0, compute capability: 6.1\"\n",
      "]\n",
      "==============================================\n",
      "['/job:localhost/replica:0/task:0/device:GPU:0']\n"
     ]
    }
   ],
   "source": [
    "# Verify GPU availability for tensorflow backend\n",
    "print(device_lib.list_local_devices())\n",
    "print(\"==============================================\")\n",
    "print(K.tensorflow_backend._get_available_gpus())"
   ]
  },
  {
   "cell_type": "code",
   "execution_count": 4,
   "metadata": {
    "scrolled": true
   },
   "outputs": [
    {
     "name": "stdout",
     "output_type": "stream",
     "text": [
      "2018-04-17T00:55:03.354Z\n",
      "2018-04-17T01:05:03.469Z\n"
     ]
    }
   ],
   "source": [
    "# Request log load\n",
    "request_log_df= pd.read_csv(\"test_data/request_log.csv\",dtype ={'epoch':object})\n",
    "request_start = request_log_df['iso'][1]\n",
    "request_end = request_log_df['iso'][0]\n",
    "print(request_start)\n",
    "print(request_end)"
   ]
  },
  {
   "cell_type": "code",
   "execution_count": 3,
   "metadata": {},
   "outputs": [],
   "source": [
    "# Global variables\n",
    "\n",
    "# Boolean to drop existing mongo collection/scrape upon scrape() init\n",
    "dropFlag = False\n",
    "\n",
    "# Boolean to set size_delta to l2update values for first update to snapshot\n",
    "#firstUpdate = False\n",
    "firstUpdate_bids = False\n",
    "firstUpdate_asks = False\n",
    "\n",
    "# Value to track if feature_creation_inital() was run\n",
    "feature_creation_intital_run = False"
   ]
  },
  {
   "cell_type": "code",
   "execution_count": 4,
   "metadata": {},
   "outputs": [],
   "source": [
    "# Connection establishment\n",
    "\n",
    "# Establish connection to GDAX public endpoint\n",
    "public_client = gdax.PublicClient()\n",
    "\n",
    "# Mongo database and collection specification:\n",
    "mongo_client = MongoClient('mongodb://localhost:27017/')\n",
    "db = mongo_client.btcusd_db\n",
    "btcusd_collection = db.btcusd_collection"
   ]
  },
  {
   "cell_type": "code",
   "execution_count": 5,
   "metadata": {},
   "outputs": [],
   "source": [
    "# Function to start scrape process from websocket to mongodb instance\n",
    "def scrape_start():\n",
    "    \n",
    "    # Drop existing collection from db if dropFlag == True (on new scrape):\n",
    "    if 'btcusd_db' in mongo_client.database_names() and dropFlag is True:\n",
    "        db['btcusd_db'].drop_collection('btcusd_collection')\n",
    "        #print(mongo_client.database_names())\n",
    "        #print(db.collection_names())\n",
    "        \n",
    "    # Start instance of websocket client for L2 Orderbook + L2 update data request and scrape\n",
    "    wsClient = gdax.WebsocketClient(url=\"wss://ws-feed.gdax.com\", \n",
    "                                products=[\"BTC-USD\"],\\\n",
    "                                message_type=\"subscribe\",\\\n",
    "                                channels =[\"level2\"],\\\n",
    "                                mongo_collection=btcusd_collection,\\\n",
    "                                should_print=False)\n",
    "    \n",
    "    # Save request open time and start websocket\n",
    "    time.sleep(4)\n",
    "    request_time_start=public_client.get_time()\n",
    "    wsClient.start()\n",
    "    \n",
    "    # scrape_time is variable for time between websocket connection start and end\n",
    "        # Defined in seconds\n",
    "        # i.e. 600 seconds = scrape running for 10 minutes\n",
    "    scrape_time = 600\n",
    "\n",
    "    time.sleep(scrape_time)\n",
    "    # Save request close time and close websocket\n",
    "    request_time_end=public_client.get_time()\n",
    "    wsClient.close()\n",
    "    \n",
    "    # Append request times for open/close of websocket stream to dataframe, save to csv\n",
    "    request_log_df = pd.DataFrame.from_dict({'request start':request_time_start,'request end':request_time_end},orient ='index')\n",
    "    request_log_df.to_csv(\"raw_data/request_log.csv\",header=True,encoding='utf-8',index =True)\n",
    "   "
   ]
  },
  {
   "cell_type": "code",
   "execution_count": 6,
   "metadata": {},
   "outputs": [],
   "source": [
    "# Function to load and parse data from Mongo into dataframes\n",
    "def load_parse():\n",
    "    \n",
    "    #Collection specification (in database)\n",
    "    input_data = db.btcusd_collection \n",
    "    \n",
    "    # Create individual dataframes for main response types: snapshot, l2update\n",
    "    snapshot = pd.DataFrame(list(input_data.find({'type':'snapshot'})))\n",
    "    l2update = pd.DataFrame(list(input_data.find({'type':'l2update'})))\n",
    "    \n",
    "    ### snapshot  response load and parse ###\n",
    "    \n",
    "    # Extract asks/bid individual column of array of arrays into lists\n",
    "    snapshot_asks = snapshot[['asks'][0]][0]\n",
    "    snapshot_bids = snapshot[['bids'][0]][0]\n",
    "    \n",
    "    # Convert list (of array of arrays) into dataframe\n",
    "    snapshot_asks_df =pd.DataFrame(snapshot_asks)\n",
    "    snapshot_bids_df =pd.DataFrame(snapshot_bids)\n",
    "    \n",
    "    # Rename columns to snapshot array format:\n",
    "        # snapshot array format: [price, size]\n",
    "            # [side, price, size] format for one-hot encoding\n",
    "        # Ask = sell price, bid = buy price\n",
    "    snapshot_asks_df.rename(columns ={0:'price',1:'size'}, inplace =True)\n",
    "    snapshot_bids_df.rename(columns ={0:'price',1:'size'}, inplace =True)\n",
    "    snapshot_asks_df['side'] = \"sell\"\n",
    "    snapshot_bids_df['side'] = \"buy\"\n",
    "    cols =['side','price','size']\n",
    "    snapshot_asks_df = snapshot_asks_df[cols]\n",
    "    snapshot_bids_df = snapshot_bids_df[cols]\n",
    "    \n",
    "    ### L2 update response load and parse ###\n",
    "    \n",
    "    # Restucture l2update to have [side,price,size] from 'changes' column\n",
    "    l2update_clean = l2update[['changes','time']]\n",
    "          \n",
    "    # Convert changes list of lists -> into array \n",
    "    l2_array = np.ravel(l2update_clean['changes']) \n",
    "    # Flatten the list and remove outer bracket:\n",
    "    flattened = [val for sublist in l2_array for val in sublist]\n",
    "        # Reference: https://stackoverflow.com/questions/11264684/flatten-list-of-lists?\n",
    "    # Convert back to dataframe and combine with timestamps from l2update:\n",
    "    changes_df= pd.DataFrame.from_records(flattened)\n",
    "    # Add time column back to L2 update dataframe\n",
    "    l2update_formatted = pd.concat([changes_df,l2update_clean['time']],1)\n",
    "    # Rename columns for [side, price, size]:\n",
    "    l2update_formatted.rename({0:\"side\",1:\"price\",2:\"size\"}, axis ='columns',inplace=True)\n",
    "    \n",
    "    # Save parsed data to csv (API -> Mongo -> Dataframe -> .csv)\n",
    "    save_csv()\n",
    "    \n",
    "def save_csv():\n",
    "    \n",
    "    # Save data to .csv format in raw_data folder\n",
    "    l2update_formatted.to_csv(\"raw_data/l2update.csv\",header=True,encoding='utf-8',index =False)\n",
    "    snapshot_asks_df.to_csv(\"raw_data/snapshot_asks.csv\",header=True,encoding='utf-8',index =False)\n",
    "    snapshot_bids_df.to_csv(\"raw_data/snapshot_bids.csv\",header=True,encoding='utf-8',index =False)\n",
    "    subscriptions.to_csv(\"raw_data/subscriptions.csv\",header=True,encoding='utf-8',index =False)"
   ]
  },
  {
   "cell_type": "code",
   "execution_count": 7,
   "metadata": {},
   "outputs": [],
   "source": [
    "# Function to read in data from csv into dataframes\n",
    "    # Currently not working due to variable scope assignment for dataframes/reading in data from CSV\n",
    "\n",
    "# Test data\n",
    "#def data_read_test():\n",
    "    \n",
    "    # Read in test data for L2 orderbook state (bids + asks)\n",
    "    # Read in test data for subsquent L2 orderbook update states (L2 updates to bid + asks)\n",
    "    #snapshot_asks_df = pd.read_csv(\"test_data/snapshot_asks.csv\",dtype ={'size':float,'size_delta':float})\n",
    "    #snapshot_bids_df = pd.read_csv(\"test_data/snapshot_bids.csv\",dtype ={'size':float,'size_delta':float})\n",
    "    #l2update_df = pd.read_csv(\"test_data/l2update.csv\", dtype ={'size':float})\n",
    "    #request_log_df= pd.read_csv(\"test_data/request_log.csv\")\n",
    "    \n",
    "\n",
    "    \n",
    "    # Convert size column to float type for l2 updates\n",
    "    #l2update_df['size'] = l2update_df['size'].apply(pd.to_numeric)\n",
    "    #snapshot_bids_df['size_delta'] = snapshot_bids_df['size_delta'].apply(pd.to_numeric)\n",
    "\n",
    "# Raw data\n",
    "#def data_read_raw():\n",
    "    \n",
    "    # Read in test data for L2 orderbook state (bids + asks)\n",
    "    # Read in test data for subsquent L2 orderbook update states (L2 updates to bid + asks)\n",
    "    #snapshot_asks_df = pd.read_csv(\"raw_data/snapshot_asks.csv\",dtype ={'size':float,'size_delta':float})\n",
    "    #snapshot_bids_df = pd.read_csv(\"raw_data/snapshot_bids.csv\",dtype ={'size':float,'size_delta':float})\n",
    "    #l2update_df = pd.read_csv(\"raw_data/l2update.csv\", dtype ={'size':float})\n",
    "    #request_log_df= pd.read_csv(\"raw_data/request_log.csv\")\n",
    "    \n",
    "    # Convert size column to float type for l2 updates\n",
    "    #l2update_df['size'] = l2update_df['size'].apply(pd.to_numeric)\n",
    "    #snapshot_bids_df['size_delta'] = snapshot_bids_df['size_delta'].apply(pd.to_numeric)"
   ]
  },
  {
   "cell_type": "code",
   "execution_count": 8,
   "metadata": {},
   "outputs": [],
   "source": [
    "###########################################################################\n",
    "\n",
    "# Section to read in data from csv (definition scope of functions above not working for assignment:)\n",
    "    # Load in test data for development/debugging\n",
    "\n",
    "snapshot_asks_df = pd.read_csv(\"test_data/snapshot_asks.csv\",dtype ={'size':float,'size_delta':float})\n",
    "snapshot_bids_df = pd.read_csv(\"test_data/snapshot_bids.csv\",dtype ={'size':float,'size_delta':float})\n",
    "l2update_df = pd.read_csv(\"test_data/l2update.csv\", dtype ={'size':float})\n",
    "request_log_df= pd.read_csv(\"test_data/request_log.csv\")\n",
    "\n",
    "###########################################################################"
   ]
  },
  {
   "cell_type": "code",
   "execution_count": 9,
   "metadata": {},
   "outputs": [],
   "source": [
    "##### Request 15minute chart data #####\n",
    "\n",
    "#def chart_15m_request(request_log_df):\n",
    "\n",
    "request_start = request_log_df['iso'][1]\n",
    "request_end = request_log_df['iso'][0]\n",
    "\n",
    "# Request 15 minutes of candlestick (open high low close) data from API\n",
    "    # start time must be in ISO 8601 format for get_product_historic_rates()\n",
    "chart_15m = public_client.get_product_historic_rates('BTC-USD', start =request_start, granularity=60)\n",
    "\n",
    "# Convert chart data response into dataframes\n",
    "chart_15m_df =pd.DataFrame.from_records(chart_15m,columns=[\"time\",\"low\", \"high\",\"open\" ,\"close\", \"volume\"])\n",
    "\n",
    "# Reorder columns according to label order required by matplotlib finance package\n",
    "chart_15m_df = chart_15m_df[[\"time\",\"open\",\"high\",\"low\",\"close\",\"volume\"]]\n",
    "\n",
    "# Reverse/sort timestamp order (without reversal chart labels/axis will be out of order)\n",
    "chart_15m_df.sort_values(by='time',axis=0, inplace =True)\n",
    "\n",
    "#Convert/sort time to datetime object (for matplotlib chart format requirement)\n",
    "chart_15m_df['time'] =pd.to_datetime(chart_15m_df['time'],unit='s')\n",
    "    \n",
    "    "
   ]
  },
  {
   "cell_type": "code",
   "execution_count": 10,
   "metadata": {},
   "outputs": [],
   "source": [
    "# Auto support/resistance adapted into function \n",
    "    # Source: Adapted from https://github.com/nakulnayyar/SupResGenerator\n",
    "    # Takes dataframe object with open/high/low/close values \n",
    "        # Returns list of auto-generated support and resistance levels for price action\n",
    "def autoSR(dataframe):\n",
    "    data = chart_15m_df.as_matrix(columns=['close'])\n",
    "    data2 = data[:len(data)*1]\n",
    "    bandwidth = estimate_bandwidth(data2, quantile=0.1, n_samples=100)\n",
    "    ms = MeanShift(bandwidth=bandwidth, bin_seeding=True)\n",
    "    ms.fit(data2)\n",
    "    ml_results = []\n",
    "    for k in range(len(np.unique(ms.labels_))):\n",
    "            my_members = ms.labels_ == k\n",
    "            values = data[my_members, 0]    \n",
    "            ml_results.append(min(values))\n",
    "            ml_results.append(max(values))\n",
    "            # Remove duplicate S/R level values\n",
    "            # Using sets\n",
    "            ml_set =set(ml_results)\n",
    "            ml_results = list(ml_set)\n",
    "            # Sort values before return output \n",
    "            ml_results.sort()\n",
    "            \n",
    "    return ml_results"
   ]
  },
  {
   "cell_type": "code",
   "execution_count": 11,
   "metadata": {},
   "outputs": [],
   "source": [
    "def generate_chart(dataframe):\n",
    "    \n",
    "    dataframe = chart_15m_df \n",
    "    \n",
    "    # Generate chart of past 15 minutes with autogenerated support and resistance levels:\n",
    "    fig, ax = plt.subplots(figsize=(20, 10)\n",
    "                         )\n",
    "    candlestick2_ohlc(ax,chart_15m_df['open'],chart_15m_df['high'],chart_15m_df['low'],chart_15m_df['close'],width=2,\\\n",
    "                      colorup='k',colordown='r',alpha=.5)\n",
    "    ax.set_xticklabels(chart_15m_df['time'] ,rotation=30)\n",
    "    \n",
    "    ax.xaxis.set_major_locator(ticker.MaxNLocator(17))\n",
    "        # n + 2 for proper labe set at 20,18 chart size\n",
    "        # 15 + 2 =17\n",
    "    plt.yticks(np.arange(int(min(chart_15m_df['low'])-5), max(chart_15m_df['high'])+10, 5))\n",
    "    plt.xlabel('Time')\n",
    "    plt.ylabel('Price (USD)')\n",
    "    #ax.minorticks_on()\n",
    "    ax.set_axisbelow(True)\n",
    "    ax.tick_params(axis='y', pad=10)\n",
    "    ax.grid(which='major', linestyle='--', linewidth='0.1', color='b')\n",
    "    matplotlib.pyplot.title(\"15 Min BTC/USD with Support/Resistance Levels\")\n",
    "    \n",
    "    # Add S/R labels to right side of chart\n",
    "    ml_results = autoSR(chart_15m_df)\n",
    "    for k in ml_results:\n",
    "        plt.axhline(y=k)\n",
    "\n",
    "    #plt.tight_layout()\n",
    "    return plt.show()\n",
    "    #return plt.show(), ml_results"
   ]
  },
  {
   "cell_type": "code",
   "execution_count": 12,
   "metadata": {},
   "outputs": [],
   "source": [
    "# create and set inital/placeholder values for size_delta, position, and sr_prox_value/line input features \n",
    "    # run once upon new scrape only\n",
    "def feature_creation_inital():\n",
    "    #global feature_creation_intital_run\n",
    "    \n",
    "    #if feature_creation_inital_run() == False:\n",
    "        #global feature_creation_intital_run\n",
    "        \n",
    "        \n",
    "        \n",
    "    # Set inital size delta l2 snapshot - use decimal point to force as float\n",
    "    snapshot_asks_df['size_delta'] = 0.0\n",
    "    snapshot_bids_df['size_delta'] = 0.0\n",
    "\n",
    "    # Set inital position for l2 snapshot\n",
    "    snapshot_asks_df['position'] = snapshot_asks_df.index +1\n",
    "    snapshot_bids_df['position'] = snapshot_bids_df.index +1\n",
    "\n",
    "    # Reverse index for sell/asks\n",
    "    # snapshot_asks_df =snapshot_asks_df[::-1]\n",
    "    # Reverse inital position indicator for bids/buy side\n",
    "    rev = snapshot_bids_df['position'].values * -1\n",
    "    snapshot_bids_df['position'] = rev\n",
    "\n",
    "    # Set inital proximity value and inital value for nearest prox line\n",
    "    snapshot_asks_df['sr_prox_value'] = 0\n",
    "    snapshot_asks_df['sr_prox_line'] = 0\n",
    "    snapshot_bids_df['sr_prox_value'] = 0\n",
    "    snapshot_bids_df['sr_prox_line'] = 0\n",
    "\n",
    "    # Set feature_creation_inital_run flag to True once run\n",
    "    feature_creation_inital_run = True\n",
    "        \n",
    "        \n",
    "        \n",
    "    #elif feature_creation_inital_run == True:\n",
    "        #global feature_creation_intital_run\n",
    "        # Required syntax for logical operator/ if-else structure, but does nothing as a result\n",
    "        # i.e., a \"pass\"\n",
    "        \n",
    "        #print(\"pass\")\n",
    "        #pass\n",
    "        "
   ]
  },
  {
   "cell_type": "code",
   "execution_count": 13,
   "metadata": {},
   "outputs": [],
   "source": [
    "# L2 update states applied to snapshot over a defined interval (15m, in sync with chart update)\n",
    "    # Applied to both snapshot_bids_df and snapshot_asks_df\n",
    "    # Must be run before sr_update()\n",
    "def l2_state_update():\n",
    "    \n",
    "    global firstUpdate_bids \n",
    "    global firstUpdate_asks\n",
    "    \n",
    "    for i in range(len(snapshot_bids_df)):\n",
    "\n",
    "        # If size in l2update_df is 0, remove that row/price point from the orderbook state\n",
    "        if l2update_df['size'].values[i] == 0:\n",
    "            #print (snapshot_bids_df['price'].values[i])\n",
    "            snapshot_bids_df.drop(snapshot_bids_df.index[i])\n",
    "\n",
    "        #First update to snapshot, set 'size_delta' to l2update values\n",
    "            # Note: Keep here or move to end of feature_creation_inital depending on execution order\n",
    "        elif l2update_df['size'].values[i] != 0 & firstUpdate_bids == False:\n",
    "            snapshot_bids_df['size_delta'].values[i] = l2update_df['size'].values[i]\n",
    "            firstUpdate_bids = True\n",
    "        #Subsequent size delta calc\n",
    "        elif l2update_df['size'].values[i] != 0:\n",
    "            currentsize =snapshot_bids_df['size'].values[i] \n",
    "            updatesize = l2update_df['size'].values[i]\n",
    "            snapshot_bids_df['size_delta'].values[i] = updatesize-currentsize\n",
    "\n",
    "        # Update positional values for bids snapshot\n",
    "        snapshot_bids_df['position'] = snapshot_bids_df.index + 1\n",
    "        rev = snapshot_bids_df['position'].values * -1\n",
    "        snapshot_bids_df['position'] = rev \n",
    "\n",
    "    for i in range(len(snapshot_asks_df)):\n",
    "\n",
    "        # If size in l2update_df is 0, remove that row/price point from the orderbook state\n",
    "        if l2update_df['size'].values[i] == 0:\n",
    "            #print (snapshot_asks_df['price'].values[i])\n",
    "            snapshot_asks_df.drop(snapshot_asks_df.index[i])\n",
    "\n",
    "        #First update to snapshot, set 'size_delta' to l2update values\n",
    "            # Note: Keep here or move to end of feature_creation_inital depending on execution order\n",
    "        elif l2update_df['size'].values[i] != 0 & firstUpdate_asks == False:\n",
    "            snapshot_asks_df['size_delta'].values[i] = l2update_df['size'].values[i]\n",
    "            firstUpdate_asks = True\n",
    "        #Subsequent size delta calc\n",
    "        elif l2update_df['size'].values[i] != 0:\n",
    "            currentsize =snapshot_asks_df['size'].values[i] \n",
    "            updatesize = l2update_df['size'].values[i]\n",
    "            snapshot_asks_df['size_delta'].values[i] = updatesize-currentsize\n",
    "\n",
    "        # Update positional values for_asks snapshot\n",
    "        snapshot_asks_df['position'] = snapshot_asks_df.index + 1\n",
    "        #rev = snapshot_asks_df['position'].values * -1\n",
    "        #snapshot_asks_df['position'] = rev "
   ]
  },
  {
   "cell_type": "code",
   "execution_count": 14,
   "metadata": {},
   "outputs": [],
   "source": [
    "# Function to update sr_prox_line and sr_prox_value between orderbook states\n",
    "    # Note: l2_state_update applied first, then sr_update(); switch order if linear calls or switch execution block cell\n",
    "    # Must be run before model input in sequence\n",
    "def sr_update():\n",
    "    \n",
    "    # Convert to array for loop value traversal        \n",
    "    ml_results_modified_array = np.array(ml_results_modified)\n",
    "\n",
    "    ### snapshot_asks sr_prox_line,sr_prox_value set ###\n",
    "    for i in range(len(snapshot_asks_df['price'])):\n",
    "        #if snapshot_asks_df['price'].values[i] in ml_results_modified: \n",
    "            priceInt = int(snapshot_asks_df['price'].values[i])\n",
    "            diff =abs(ml_results_modified - priceInt)\n",
    "            diff_array = np.array(diff)\n",
    "            lowest_abs =min(diff)\n",
    "            #print(\"=============================\")\n",
    "            #print(\"Price: \")\n",
    "            #print(snapshot_asks_df['price'].values[i])\n",
    "            #print(\"Diff:\")\n",
    "            #print(diff)\n",
    "            #print(\"lowest_abs value: \")\n",
    "            #print(lowest_abs)\n",
    "            minIndex= list(diff_array).index(lowest_abs)\n",
    "            #print(\"Closest S/R line:\")\n",
    "            #print(ml_results_modified[minIndex])\n",
    "            #print(\"=============================\")\n",
    "\n",
    "            #Set sr_prox_value to distance from closest S/R line\n",
    "            snapshot_asks_df['sr_prox_value'].values[i] = lowest_abs\n",
    "            #Set sr_prox_line value\n",
    "            snapshot_asks_df['sr_prox_line'].values[i] = ml_results_modified[minIndex]\n",
    "\n",
    "    ### snapshot_bids sr_prox_line,sr_prox_value set ###\n",
    "    for i in range(len(snapshot_bids_df['price'])):\n",
    "        #if snapshot_bids_df['price'].values[i] in ml_results_modified: \n",
    "            priceInt = int(snapshot_bids_df['price'].values[i])\n",
    "            diff =abs(ml_results_modified - priceInt)\n",
    "            diff_array = np.array(diff)\n",
    "            lowest_abs =min(diff)\n",
    "            #print(\"=============================\")\n",
    "            #print(\"Price: \")\n",
    "            #print(snapshot_bids_df['price'].values[i])\n",
    "            #print(\"Diff:\")\n",
    "            #print(diff)\n",
    "            #print(\"lowest_abs value: \")\n",
    "            #print(lowest_abs)\n",
    "            minIndex= list(diff_array).index(lowest_abs)\n",
    "            #print(\"Closest S/R line:\")\n",
    "            #print(ml_results_modified[minIndex])\n",
    "            #print(\"=============================\")\n",
    "\n",
    "            #Set sr_prox_value to distance from closest S/R line\n",
    "            snapshot_bids_df['sr_prox_value'].values[i] = lowest_abs\n",
    "            #Set sr_prox_line value\n",
    "            snapshot_bids_df['sr_prox_line'].values[i] = ml_results_modified[minIndex]"
   ]
  },
  {
   "cell_type": "code",
   "execution_count": 15,
   "metadata": {},
   "outputs": [],
   "source": [
    "###########################################################################\n",
    "###########################################################################\n",
    "###########################################################################\n",
    "\n",
    "\n",
    "# Debugging:"
   ]
  },
  {
   "cell_type": "code",
   "execution_count": 16,
   "metadata": {
    "scrolled": true
   },
   "outputs": [
    {
     "data": {
      "text/plain": [
       "[8815.0,\n",
       " 8832.81,\n",
       " 8840.86,\n",
       " 8849.99,\n",
       " 8851.8,\n",
       " 8862.34,\n",
       " 8870.03,\n",
       " 8873.0,\n",
       " 8880.79,\n",
       " 8885.01,\n",
       " 8895.36,\n",
       " 8899.98,\n",
       " 8905.01,\n",
       " 8906.01,\n",
       " 8909.99,\n",
       " 8919.98,\n",
       " 8928.19,\n",
       " 8928.99,\n",
       " 8935.0,\n",
       " 8936.9,\n",
       " 8939.0]"
      ]
     },
     "execution_count": 16,
     "metadata": {},
     "output_type": "execute_result"
    }
   ],
   "source": [
    "# Assignment of ml_results from function:\n",
    "ml_results = autoSR(chart_15m_df)\n",
    "autoSR(chart_15m_df)"
   ]
  },
  {
   "cell_type": "code",
   "execution_count": 17,
   "metadata": {
    "scrolled": true
   },
   "outputs": [
    {
     "data": {
      "image/png": "[encoded data removed]",
      "text/plain": [
       "<matplotlib.figure.Figure at 0x178eac47390>"
      ]
     },
     "metadata": {},
     "output_type": "display_data"
    }
   ],
   "source": [
    "generate_chart(chart_15m_df)"
   ]
  },
  {
   "cell_type": "code",
   "execution_count": null,
   "metadata": {},
   "outputs": [],
   "source": []
  },
  {
   "cell_type": "code",
   "execution_count": 18,
   "metadata": {},
   "outputs": [],
   "source": [
    "# Data structures for scrape/request log and support/resistance (predicted vs actual)\n",
    "    # request start, request end\n",
    "    # current s/r levels: chart 15m data + ml_results (actual)\n",
    "    # predicted s/r levels: ml_results (predicted)\n",
    "    # current s/r levels vs predicted for current timeframe (training vs testing)\n",
    "\n",
    "# Convert ml_results into sorted int array\n",
    "ml_results_modified =np.asarray(ml_results)\n",
    "ml_results_modified =np.trunc(ml_results_modified).astype(int)\n",
    "ml_results_modified = np.sort(ml_results_modified,kind = 'quicksort') "
   ]
  },
  {
   "cell_type": "code",
   "execution_count": 19,
   "metadata": {},
   "outputs": [
    {
     "data": {
      "text/html": [
       "<div>\n",
       "<style scoped>\n",
       "    .dataframe tbody tr th:only-of-type {\n",
       "        vertical-align: middle;\n",
       "    }\n",
       "\n",
       "    .dataframe tbody tr th {\n",
       "        vertical-align: top;\n",
       "    }\n",
       "\n",
       "    .dataframe thead th {\n",
       "        text-align: right;\n",
       "    }\n",
       "</style>\n",
       "<table border=\"1\" class=\"dataframe\">\n",
       "  <thead>\n",
       "    <tr style=\"text-align: right;\">\n",
       "      <th></th>\n",
       "      <th>side</th>\n",
       "      <th>price</th>\n",
       "      <th>size</th>\n",
       "    </tr>\n",
       "  </thead>\n",
       "  <tbody>\n",
       "    <tr>\n",
       "      <th>0</th>\n",
       "      <td>sell</td>\n",
       "      <td>8042.91</td>\n",
       "      <td>10.656147</td>\n",
       "    </tr>\n",
       "    <tr>\n",
       "      <th>1</th>\n",
       "      <td>sell</td>\n",
       "      <td>8042.92</td>\n",
       "      <td>0.001181</td>\n",
       "    </tr>\n",
       "    <tr>\n",
       "      <th>2</th>\n",
       "      <td>sell</td>\n",
       "      <td>8042.93</td>\n",
       "      <td>0.001305</td>\n",
       "    </tr>\n",
       "    <tr>\n",
       "      <th>3</th>\n",
       "      <td>sell</td>\n",
       "      <td>8042.94</td>\n",
       "      <td>0.001181</td>\n",
       "    </tr>\n",
       "    <tr>\n",
       "      <th>4</th>\n",
       "      <td>sell</td>\n",
       "      <td>8042.95</td>\n",
       "      <td>1.265966</td>\n",
       "    </tr>\n",
       "  </tbody>\n",
       "</table>\n",
       "</div>"
      ],
      "text/plain": [
       "   side    price       size\n",
       "0  sell  8042.91  10.656147\n",
       "1  sell  8042.92   0.001181\n",
       "2  sell  8042.93   0.001305\n",
       "3  sell  8042.94   0.001181\n",
       "4  sell  8042.95   1.265966"
      ]
     },
     "execution_count": 19,
     "metadata": {},
     "output_type": "execute_result"
    }
   ],
   "source": [
    "snapshot_asks_df.head()"
   ]
  },
  {
   "cell_type": "code",
   "execution_count": 20,
   "metadata": {
    "scrolled": true
   },
   "outputs": [],
   "source": [
    "feature_creation_inital()"
   ]
  },
  {
   "cell_type": "code",
   "execution_count": 21,
   "metadata": {},
   "outputs": [
    {
     "data": {
      "text/html": [
       "<div>\n",
       "<style scoped>\n",
       "    .dataframe tbody tr th:only-of-type {\n",
       "        vertical-align: middle;\n",
       "    }\n",
       "\n",
       "    .dataframe tbody tr th {\n",
       "        vertical-align: top;\n",
       "    }\n",
       "\n",
       "    .dataframe thead th {\n",
       "        text-align: right;\n",
       "    }\n",
       "</style>\n",
       "<table border=\"1\" class=\"dataframe\">\n",
       "  <thead>\n",
       "    <tr style=\"text-align: right;\">\n",
       "      <th></th>\n",
       "      <th>side</th>\n",
       "      <th>price</th>\n",
       "      <th>size</th>\n",
       "      <th>size_delta</th>\n",
       "      <th>position</th>\n",
       "      <th>sr_prox_value</th>\n",
       "      <th>sr_prox_line</th>\n",
       "    </tr>\n",
       "  </thead>\n",
       "  <tbody>\n",
       "    <tr>\n",
       "      <th>0</th>\n",
       "      <td>sell</td>\n",
       "      <td>8042.91</td>\n",
       "      <td>10.656147</td>\n",
       "      <td>0.0</td>\n",
       "      <td>1</td>\n",
       "      <td>0</td>\n",
       "      <td>0</td>\n",
       "    </tr>\n",
       "    <tr>\n",
       "      <th>1</th>\n",
       "      <td>sell</td>\n",
       "      <td>8042.92</td>\n",
       "      <td>0.001181</td>\n",
       "      <td>0.0</td>\n",
       "      <td>2</td>\n",
       "      <td>0</td>\n",
       "      <td>0</td>\n",
       "    </tr>\n",
       "    <tr>\n",
       "      <th>2</th>\n",
       "      <td>sell</td>\n",
       "      <td>8042.93</td>\n",
       "      <td>0.001305</td>\n",
       "      <td>0.0</td>\n",
       "      <td>3</td>\n",
       "      <td>0</td>\n",
       "      <td>0</td>\n",
       "    </tr>\n",
       "    <tr>\n",
       "      <th>3</th>\n",
       "      <td>sell</td>\n",
       "      <td>8042.94</td>\n",
       "      <td>0.001181</td>\n",
       "      <td>0.0</td>\n",
       "      <td>4</td>\n",
       "      <td>0</td>\n",
       "      <td>0</td>\n",
       "    </tr>\n",
       "    <tr>\n",
       "      <th>4</th>\n",
       "      <td>sell</td>\n",
       "      <td>8042.95</td>\n",
       "      <td>1.265966</td>\n",
       "      <td>0.0</td>\n",
       "      <td>5</td>\n",
       "      <td>0</td>\n",
       "      <td>0</td>\n",
       "    </tr>\n",
       "  </tbody>\n",
       "</table>\n",
       "</div>"
      ],
      "text/plain": [
       "   side    price       size  size_delta  position  sr_prox_value  sr_prox_line\n",
       "0  sell  8042.91  10.656147         0.0         1              0             0\n",
       "1  sell  8042.92   0.001181         0.0         2              0             0\n",
       "2  sell  8042.93   0.001305         0.0         3              0             0\n",
       "3  sell  8042.94   0.001181         0.0         4              0             0\n",
       "4  sell  8042.95   1.265966         0.0         5              0             0"
      ]
     },
     "execution_count": 21,
     "metadata": {},
     "output_type": "execute_result"
    }
   ],
   "source": [
    "snapshot_asks_df.head()"
   ]
  },
  {
   "cell_type": "code",
   "execution_count": 22,
   "metadata": {},
   "outputs": [],
   "source": [
    "l2_state_update()"
   ]
  },
  {
   "cell_type": "code",
   "execution_count": 23,
   "metadata": {},
   "outputs": [
    {
     "data": {
      "text/html": [
       "<div>\n",
       "<style scoped>\n",
       "    .dataframe tbody tr th:only-of-type {\n",
       "        vertical-align: middle;\n",
       "    }\n",
       "\n",
       "    .dataframe tbody tr th {\n",
       "        vertical-align: top;\n",
       "    }\n",
       "\n",
       "    .dataframe thead th {\n",
       "        text-align: right;\n",
       "    }\n",
       "</style>\n",
       "<table border=\"1\" class=\"dataframe\">\n",
       "  <thead>\n",
       "    <tr style=\"text-align: right;\">\n",
       "      <th></th>\n",
       "      <th>side</th>\n",
       "      <th>price</th>\n",
       "      <th>size</th>\n",
       "      <th>size_delta</th>\n",
       "      <th>position</th>\n",
       "      <th>sr_prox_value</th>\n",
       "      <th>sr_prox_line</th>\n",
       "    </tr>\n",
       "  </thead>\n",
       "  <tbody>\n",
       "    <tr>\n",
       "      <th>0</th>\n",
       "      <td>sell</td>\n",
       "      <td>8042.91</td>\n",
       "      <td>10.656147</td>\n",
       "      <td>0.000</td>\n",
       "      <td>1</td>\n",
       "      <td>0</td>\n",
       "      <td>0</td>\n",
       "    </tr>\n",
       "    <tr>\n",
       "      <th>1</th>\n",
       "      <td>sell</td>\n",
       "      <td>8042.92</td>\n",
       "      <td>0.001181</td>\n",
       "      <td>0.020</td>\n",
       "      <td>2</td>\n",
       "      <td>0</td>\n",
       "      <td>0</td>\n",
       "    </tr>\n",
       "    <tr>\n",
       "      <th>2</th>\n",
       "      <td>sell</td>\n",
       "      <td>8042.93</td>\n",
       "      <td>0.001305</td>\n",
       "      <td>0.000</td>\n",
       "      <td>3</td>\n",
       "      <td>0</td>\n",
       "      <td>0</td>\n",
       "    </tr>\n",
       "    <tr>\n",
       "      <th>3</th>\n",
       "      <td>sell</td>\n",
       "      <td>8042.94</td>\n",
       "      <td>0.001181</td>\n",
       "      <td>0.001</td>\n",
       "      <td>4</td>\n",
       "      <td>0</td>\n",
       "      <td>0</td>\n",
       "    </tr>\n",
       "    <tr>\n",
       "      <th>4</th>\n",
       "      <td>sell</td>\n",
       "      <td>8042.95</td>\n",
       "      <td>1.265966</td>\n",
       "      <td>0.000</td>\n",
       "      <td>5</td>\n",
       "      <td>0</td>\n",
       "      <td>0</td>\n",
       "    </tr>\n",
       "  </tbody>\n",
       "</table>\n",
       "</div>"
      ],
      "text/plain": [
       "   side    price       size  size_delta  position  sr_prox_value  sr_prox_line\n",
       "0  sell  8042.91  10.656147       0.000         1              0             0\n",
       "1  sell  8042.92   0.001181       0.020         2              0             0\n",
       "2  sell  8042.93   0.001305       0.000         3              0             0\n",
       "3  sell  8042.94   0.001181       0.001         4              0             0\n",
       "4  sell  8042.95   1.265966       0.000         5              0             0"
      ]
     },
     "execution_count": 23,
     "metadata": {},
     "output_type": "execute_result"
    }
   ],
   "source": [
    "snapshot_asks_df.head()"
   ]
  },
  {
   "cell_type": "code",
   "execution_count": 24,
   "metadata": {},
   "outputs": [],
   "source": [
    "sr_update()"
   ]
  },
  {
   "cell_type": "code",
   "execution_count": 25,
   "metadata": {},
   "outputs": [
    {
     "data": {
      "text/html": [
       "<div>\n",
       "<style scoped>\n",
       "    .dataframe tbody tr th:only-of-type {\n",
       "        vertical-align: middle;\n",
       "    }\n",
       "\n",
       "    .dataframe tbody tr th {\n",
       "        vertical-align: top;\n",
       "    }\n",
       "\n",
       "    .dataframe thead th {\n",
       "        text-align: right;\n",
       "    }\n",
       "</style>\n",
       "<table border=\"1\" class=\"dataframe\">\n",
       "  <thead>\n",
       "    <tr style=\"text-align: right;\">\n",
       "      <th></th>\n",
       "      <th>side</th>\n",
       "      <th>price</th>\n",
       "      <th>size</th>\n",
       "      <th>size_delta</th>\n",
       "      <th>position</th>\n",
       "      <th>sr_prox_value</th>\n",
       "      <th>sr_prox_line</th>\n",
       "    </tr>\n",
       "  </thead>\n",
       "  <tbody>\n",
       "    <tr>\n",
       "      <th>0</th>\n",
       "      <td>sell</td>\n",
       "      <td>8042.91</td>\n",
       "      <td>10.656147</td>\n",
       "      <td>0.000</td>\n",
       "      <td>1</td>\n",
       "      <td>773</td>\n",
       "      <td>8815</td>\n",
       "    </tr>\n",
       "    <tr>\n",
       "      <th>1</th>\n",
       "      <td>sell</td>\n",
       "      <td>8042.92</td>\n",
       "      <td>0.001181</td>\n",
       "      <td>0.020</td>\n",
       "      <td>2</td>\n",
       "      <td>773</td>\n",
       "      <td>8815</td>\n",
       "    </tr>\n",
       "    <tr>\n",
       "      <th>2</th>\n",
       "      <td>sell</td>\n",
       "      <td>8042.93</td>\n",
       "      <td>0.001305</td>\n",
       "      <td>0.000</td>\n",
       "      <td>3</td>\n",
       "      <td>773</td>\n",
       "      <td>8815</td>\n",
       "    </tr>\n",
       "    <tr>\n",
       "      <th>3</th>\n",
       "      <td>sell</td>\n",
       "      <td>8042.94</td>\n",
       "      <td>0.001181</td>\n",
       "      <td>0.001</td>\n",
       "      <td>4</td>\n",
       "      <td>773</td>\n",
       "      <td>8815</td>\n",
       "    </tr>\n",
       "    <tr>\n",
       "      <th>4</th>\n",
       "      <td>sell</td>\n",
       "      <td>8042.95</td>\n",
       "      <td>1.265966</td>\n",
       "      <td>0.000</td>\n",
       "      <td>5</td>\n",
       "      <td>773</td>\n",
       "      <td>8815</td>\n",
       "    </tr>\n",
       "  </tbody>\n",
       "</table>\n",
       "</div>"
      ],
      "text/plain": [
       "   side    price       size  size_delta  position  sr_prox_value  sr_prox_line\n",
       "0  sell  8042.91  10.656147       0.000         1            773          8815\n",
       "1  sell  8042.92   0.001181       0.020         2            773          8815\n",
       "2  sell  8042.93   0.001305       0.000         3            773          8815\n",
       "3  sell  8042.94   0.001181       0.001         4            773          8815\n",
       "4  sell  8042.95   1.265966       0.000         5            773          8815"
      ]
     },
     "execution_count": 25,
     "metadata": {},
     "output_type": "execute_result"
    }
   ],
   "source": [
    "snapshot_asks_df.head()"
   ]
  },
  {
   "cell_type": "code",
   "execution_count": null,
   "metadata": {},
   "outputs": [],
   "source": []
  },
  {
   "cell_type": "code",
   "execution_count": null,
   "metadata": {},
   "outputs": [],
   "source": []
  },
  {
   "cell_type": "code",
   "execution_count": null,
   "metadata": {},
   "outputs": [],
   "source": [
    "###########################################################################\n",
    "\n",
    "# Inital snapshot state ---> First L2 updates + features applied = First complete state to feed into model\n",
    "    # state 0: [price,size,size_delta,position,sr_prox_value,sr_prox_line]\n",
    "        # State 0 = 15 minutes of data as unit\n",
    "    # ml_results_modified is y value"
   ]
  },
  {
   "cell_type": "code",
   "execution_count": 26,
   "metadata": {},
   "outputs": [
    {
     "data": {
      "text/plain": [
       "array([8815, 8832, 8840, 8849, 8851, 8862, 8870, 8873, 8880, 8885, 8895,\n",
       "       8899, 8905, 8906, 8909, 8919, 8928, 8928, 8935, 8936, 8939])"
      ]
     },
     "execution_count": 26,
     "metadata": {},
     "output_type": "execute_result"
    }
   ],
   "source": [
    "# Results for predicted S/R levels may vary in total element/array length\n",
    "    # But will still be array similar in shape to the below\n",
    "ml_results_modified"
   ]
  },
  {
   "cell_type": "code",
   "execution_count": 27,
   "metadata": {},
   "outputs": [
    {
     "data": {
      "text/html": [
       "<div>\n",
       "<style scoped>\n",
       "    .dataframe tbody tr th:only-of-type {\n",
       "        vertical-align: middle;\n",
       "    }\n",
       "\n",
       "    .dataframe tbody tr th {\n",
       "        vertical-align: top;\n",
       "    }\n",
       "\n",
       "    .dataframe thead th {\n",
       "        text-align: right;\n",
       "    }\n",
       "</style>\n",
       "<table border=\"1\" class=\"dataframe\">\n",
       "  <thead>\n",
       "    <tr style=\"text-align: right;\">\n",
       "      <th></th>\n",
       "      <th>side</th>\n",
       "      <th>price</th>\n",
       "      <th>size</th>\n",
       "      <th>size_delta</th>\n",
       "      <th>position</th>\n",
       "      <th>sr_prox_value</th>\n",
       "      <th>sr_prox_line</th>\n",
       "    </tr>\n",
       "  </thead>\n",
       "  <tbody>\n",
       "    <tr>\n",
       "      <th>0</th>\n",
       "      <td>sell</td>\n",
       "      <td>8042.91</td>\n",
       "      <td>10.656147</td>\n",
       "      <td>0.000</td>\n",
       "      <td>1</td>\n",
       "      <td>773</td>\n",
       "      <td>8815</td>\n",
       "    </tr>\n",
       "    <tr>\n",
       "      <th>1</th>\n",
       "      <td>sell</td>\n",
       "      <td>8042.92</td>\n",
       "      <td>0.001181</td>\n",
       "      <td>0.020</td>\n",
       "      <td>2</td>\n",
       "      <td>773</td>\n",
       "      <td>8815</td>\n",
       "    </tr>\n",
       "    <tr>\n",
       "      <th>2</th>\n",
       "      <td>sell</td>\n",
       "      <td>8042.93</td>\n",
       "      <td>0.001305</td>\n",
       "      <td>0.000</td>\n",
       "      <td>3</td>\n",
       "      <td>773</td>\n",
       "      <td>8815</td>\n",
       "    </tr>\n",
       "    <tr>\n",
       "      <th>3</th>\n",
       "      <td>sell</td>\n",
       "      <td>8042.94</td>\n",
       "      <td>0.001181</td>\n",
       "      <td>0.001</td>\n",
       "      <td>4</td>\n",
       "      <td>773</td>\n",
       "      <td>8815</td>\n",
       "    </tr>\n",
       "    <tr>\n",
       "      <th>4</th>\n",
       "      <td>sell</td>\n",
       "      <td>8042.95</td>\n",
       "      <td>1.265966</td>\n",
       "      <td>0.000</td>\n",
       "      <td>5</td>\n",
       "      <td>773</td>\n",
       "      <td>8815</td>\n",
       "    </tr>\n",
       "  </tbody>\n",
       "</table>\n",
       "</div>"
      ],
      "text/plain": [
       "   side    price       size  size_delta  position  sr_prox_value  sr_prox_line\n",
       "0  sell  8042.91  10.656147       0.000         1            773          8815\n",
       "1  sell  8042.92   0.001181       0.020         2            773          8815\n",
       "2  sell  8042.93   0.001305       0.000         3            773          8815\n",
       "3  sell  8042.94   0.001181       0.001         4            773          8815\n",
       "4  sell  8042.95   1.265966       0.000         5            773          8815"
      ]
     },
     "execution_count": 27,
     "metadata": {},
     "output_type": "execute_result"
    }
   ],
   "source": [
    "\n",
    "# Information about snapshot_asks_df for input shape information\n",
    "snapshot_asks_df.head()"
   ]
  },
  {
   "cell_type": "code",
   "execution_count": 61,
   "metadata": {},
   "outputs": [],
   "source": [
    "data = snapshot_asks_df.values\n",
    "X = data[:,1:6]\n",
    "y = data[:,6:7]\n",
    "y = np.ravel(y)\n",
    "label_encoder = LabelEncoder()\n",
    "encoded_y = label_encoder.fit_transform(y)\n",
    "onehot_encoder = OneHotEncoder(sparse=False)\n",
    "#onehot_encoder = OneHotEncoder(sparse=False)\n",
    "encoded_y = encoded_y.reshape(len(encoded_y), 1)\n",
    "onehot_y = onehot_encoder.fit_transform(encoded_y)"
   ]
  },
  {
   "cell_type": "code",
   "execution_count": 62,
   "metadata": {
    "scrolled": false
   },
   "outputs": [
    {
     "data": {
      "text/plain": [
       "array([[8042.91, 10.65614728, 0.0, 1, 773],\n",
       "       [8042.92, 0.00118097, 0.02, 2, 773],\n",
       "       [8042.93, 0.00130538, 0.0, 3, 773],\n",
       "       ...,\n",
       "       [9987654321.0, 0.00104855, 2.0, 16995, 9987645382],\n",
       "       [9999999998.0, 0.013999999999999999, 1.24231, 16996, 9999991059],\n",
       "       [9999999999.0, 0.02839242, 0.00375, 16997, 9999991060]],\n",
       "      dtype=object)"
      ]
     },
     "execution_count": 62,
     "metadata": {},
     "output_type": "execute_result"
    }
   ],
   "source": [
    "X"
   ]
  },
  {
   "cell_type": "code",
   "execution_count": 63,
   "metadata": {},
   "outputs": [
    {
     "data": {
      "text/plain": [
       "array([8815, 8815, 8815, ..., 8939, 8939, 8939], dtype=object)"
      ]
     },
     "execution_count": 63,
     "metadata": {},
     "output_type": "execute_result"
    }
   ],
   "source": [
    "y"
   ]
  },
  {
   "cell_type": "code",
   "execution_count": 64,
   "metadata": {},
   "outputs": [
    {
     "data": {
      "text/plain": [
       "array([[ 0],\n",
       "       [ 0],\n",
       "       [ 0],\n",
       "       ...,\n",
       "       [19],\n",
       "       [19],\n",
       "       [19]], dtype=int64)"
      ]
     },
     "execution_count": 64,
     "metadata": {},
     "output_type": "execute_result"
    }
   ],
   "source": [
    "encoded_y"
   ]
  },
  {
   "cell_type": "code",
   "execution_count": 65,
   "metadata": {
    "scrolled": true
   },
   "outputs": [
    {
     "data": {
      "text/plain": [
       "array([[1., 0., 0., ..., 0., 0., 0.],\n",
       "       [1., 0., 0., ..., 0., 0., 0.],\n",
       "       [1., 0., 0., ..., 0., 0., 0.],\n",
       "       ...,\n",
       "       [0., 0., 0., ..., 0., 0., 1.],\n",
       "       [0., 0., 0., ..., 0., 0., 1.],\n",
       "       [0., 0., 0., ..., 0., 0., 1.]])"
      ]
     },
     "execution_count": 65,
     "metadata": {},
     "output_type": "execute_result"
    }
   ],
   "source": [
    "onehot_y"
   ]
  },
  {
   "cell_type": "code",
   "execution_count": 66,
   "metadata": {
    "scrolled": true
   },
   "outputs": [
    {
     "name": "stdout",
     "output_type": "stream",
     "text": [
      "(16997, 7)\n",
      "Shape without side column :\n",
      "(16997, 5)\n",
      "(16997,)\n",
      "(16997, 20)\n"
     ]
    }
   ],
   "source": [
    "# Shape information for input shaping\n",
    "print(data.shape)\n",
    "print(\"Shape without side column :\")\n",
    "print(X.shape)\n",
    "print(y.shape)\n",
    "print(onehot_y.shape)"
   ]
  },
  {
   "cell_type": "code",
   "execution_count": 166,
   "metadata": {},
   "outputs": [
    {
     "name": "stdout",
     "output_type": "stream",
     "text": [
      "(16997, 5)\n",
      "(16997, 1, 5)\n"
     ]
    }
   ],
   "source": [
    "print(X.shape)\n",
    "Xshapetest = np.reshape(X, (X.shape[0], 1, X.shape[1]))\n",
    "print(Xshapetest.shape)"
   ]
  },
  {
   "cell_type": "code",
   "execution_count": 167,
   "metadata": {},
   "outputs": [
    {
     "name": "stdout",
     "output_type": "stream",
     "text": [
      "(16997, 20)\n"
     ]
    }
   ],
   "source": [
    "print(onehot_y.shape)"
   ]
  },
  {
   "cell_type": "code",
   "execution_count": 168,
   "metadata": {},
   "outputs": [],
   "source": []
  },
  {
   "cell_type": "code",
   "execution_count": null,
   "metadata": {},
   "outputs": [],
   "source": []
  },
  {
   "cell_type": "code",
   "execution_count": 207,
   "metadata": {
    "scrolled": true
   },
   "outputs": [
    {
     "name": "stdout",
     "output_type": "stream",
     "text": [
      "_________________________________________________________________\n",
      "Layer (type)                 Output Shape              Param #   \n",
      "=================================================================\n",
      "lstm_45 (LSTM)               (None, 100)               42400     \n",
      "_________________________________________________________________\n",
      "dense_48 (Dense)             (None, 20)                2020      \n",
      "=================================================================\n",
      "Total params: 44,420\n",
      "Trainable params: 44,420\n",
      "Non-trainable params: 0\n",
      "_________________________________________________________________\n"
     ]
    }
   ],
   "source": [
    "from keras.layers import Embedding\n",
    "# Model construction\n",
    "max_features = 5\n",
    "model = Sequential()\n",
    "#model.add(Embedding(7, 2500))\n",
    "    #https://keras.io/layers/embeddings/\n",
    "model.add(LSTM(100, input_shape=(trainX.shape[1], trainX.shape[2]), dropout=0.1, recurrent_dropout=0.2))\n",
    "    #input_shape(timesteps,features)\n",
    "model.add(Dense(20, activation='relu'))\n",
    "model.compile(loss = 'categorical_crossentropy', optimizer = 'adam', metrics = ['accuracy'])\n",
    "model.summary()    "
   ]
  },
  {
   "cell_type": "code",
   "execution_count": null,
   "metadata": {},
   "outputs": [],
   "source": []
  },
  {
   "cell_type": "code",
   "execution_count": 208,
   "metadata": {
    "scrolled": true
   },
   "outputs": [
    {
     "name": "stdout",
     "output_type": "stream",
     "text": [
      "Epoch 1/100\n",
      " - 2s - loss: 12.1164 - acc: 0.0083\n",
      "Epoch 2/100\n",
      " - 0s - loss: 8.5139 - acc: 0.0341\n",
      "Epoch 3/100\n",
      " - 0s - loss: 4.5257 - acc: 0.0942\n",
      "Epoch 4/100\n",
      " - 0s - loss: 2.7060 - acc: 0.3116\n",
      "Epoch 5/100\n",
      " - 0s - loss: 1.8282 - acc: 0.5146\n",
      "Epoch 6/100\n",
      " - 0s - loss: 1.3551 - acc: 0.6837\n",
      "Epoch 7/100\n",
      " - 0s - loss: 1.0538 - acc: 0.7858\n",
      "Epoch 8/100\n",
      " - 0s - loss: 0.8192 - acc: 0.8086\n",
      "Epoch 9/100\n",
      " - 0s - loss: 0.6967 - acc: 0.8191\n",
      "Epoch 10/100\n",
      " - 0s - loss: 0.6438 - acc: 0.8279\n",
      "Epoch 11/100\n",
      " - 0s - loss: 0.6102 - acc: 0.8353\n",
      "Epoch 12/100\n",
      " - 0s - loss: 0.5826 - acc: 0.8358\n",
      "Epoch 13/100\n",
      " - 0s - loss: 0.5357 - acc: 0.8431\n",
      "Epoch 14/100\n",
      " - 0s - loss: 0.5401 - acc: 0.8502\n",
      "Epoch 15/100\n",
      " - 0s - loss: 0.5149 - acc: 0.8591\n",
      "Epoch 16/100\n",
      " - 0s - loss: 0.5194 - acc: 0.8692\n",
      "Epoch 17/100\n",
      " - 0s - loss: 0.5080 - acc: 0.8834\n",
      "Epoch 18/100\n",
      " - 0s - loss: 0.5063 - acc: 0.8919\n",
      "Epoch 19/100\n",
      " - 0s - loss: 0.4836 - acc: 0.8965\n",
      "Epoch 20/100\n",
      " - 0s - loss: 0.4714 - acc: 0.9057\n",
      "Epoch 21/100\n",
      " - 0s - loss: 0.4634 - acc: 0.9137\n",
      "Epoch 22/100\n",
      " - 0s - loss: 0.4586 - acc: 0.9199\n",
      "Epoch 23/100\n",
      " - 0s - loss: 0.4469 - acc: 0.9229\n",
      "Epoch 24/100\n",
      " - 0s - loss: 0.4567 - acc: 0.9285\n",
      "Epoch 25/100\n",
      " - 0s - loss: 0.4486 - acc: 0.9304\n",
      "Epoch 26/100\n",
      " - 0s - loss: 0.4296 - acc: 0.9342\n",
      "Epoch 27/100\n",
      " - 0s - loss: 0.4164 - acc: 0.9378\n",
      "Epoch 28/100\n",
      " - 0s - loss: 0.4178 - acc: 0.9482\n",
      "Epoch 29/100\n",
      " - 0s - loss: 0.4055 - acc: 0.9552\n",
      "Epoch 30/100\n",
      " - 0s - loss: 0.4067 - acc: 0.9591\n",
      "Epoch 31/100\n",
      " - 0s - loss: 0.3889 - acc: 0.9635\n",
      "Epoch 32/100\n",
      " - 0s - loss: 0.3885 - acc: 0.9612\n",
      "Epoch 33/100\n",
      " - 0s - loss: 0.3829 - acc: 0.9639\n",
      "Epoch 34/100\n",
      " - 0s - loss: 0.3768 - acc: 0.9633\n",
      "Epoch 35/100\n",
      " - 0s - loss: 0.3674 - acc: 0.9661\n",
      "Epoch 36/100\n",
      " - 0s - loss: 0.3590 - acc: 0.9650\n",
      "Epoch 37/100\n",
      " - 0s - loss: 0.3534 - acc: 0.9656\n",
      "Epoch 38/100\n",
      " - 0s - loss: 0.3555 - acc: 0.9661\n",
      "Epoch 39/100\n",
      " - 0s - loss: 0.3525 - acc: 0.9659\n",
      "Epoch 40/100\n",
      " - 0s - loss: 0.3586 - acc: 0.9665\n",
      "Epoch 41/100\n",
      " - 0s - loss: 0.3362 - acc: 0.9686\n",
      "Epoch 42/100\n",
      " - 0s - loss: 0.3364 - acc: 0.9670\n",
      "Epoch 43/100\n",
      " - 0s - loss: 0.3435 - acc: 0.9666\n",
      "Epoch 44/100\n",
      " - 0s - loss: 0.3266 - acc: 0.9655\n",
      "Epoch 45/100\n",
      " - 0s - loss: 0.3244 - acc: 0.9671\n",
      "Epoch 46/100\n",
      " - 0s - loss: 0.3383 - acc: 0.9653\n",
      "Epoch 47/100\n",
      " - 0s - loss: 0.3246 - acc: 0.9679\n",
      "Epoch 48/100\n",
      " - 0s - loss: 0.3203 - acc: 0.9654\n",
      "Epoch 49/100\n",
      " - 0s - loss: 0.3165 - acc: 0.9643\n",
      "Epoch 50/100\n",
      " - 0s - loss: 0.3047 - acc: 0.9640\n",
      "Epoch 51/100\n",
      " - 0s - loss: 0.3066 - acc: 0.9653\n",
      "Epoch 52/100\n",
      " - 0s - loss: 0.3138 - acc: 0.9653\n",
      "Epoch 53/100\n",
      " - 0s - loss: 0.3074 - acc: 0.9672\n",
      "Epoch 54/100\n",
      " - 0s - loss: 0.3029 - acc: 0.9651\n",
      "Epoch 55/100\n",
      " - 0s - loss: 0.3067 - acc: 0.9659\n",
      "Epoch 56/100\n",
      " - 0s - loss: 0.3030 - acc: 0.9659\n",
      "Epoch 57/100\n",
      " - 0s - loss: 0.3077 - acc: 0.9658\n",
      "Epoch 58/100\n",
      " - 0s - loss: 0.3157 - acc: 0.9659\n",
      "Epoch 59/100\n",
      " - 0s - loss: 0.3147 - acc: 0.9669\n",
      "Epoch 60/100\n",
      " - 0s - loss: 0.3087 - acc: 0.9653\n",
      "Epoch 61/100\n",
      " - 0s - loss: 0.3036 - acc: 0.9633\n",
      "Epoch 62/100\n",
      " - 0s - loss: 0.3102 - acc: 0.9625\n",
      "Epoch 63/100\n",
      " - 0s - loss: 0.3130 - acc: 0.9656\n",
      "Epoch 64/100\n",
      " - 0s - loss: 0.3027 - acc: 0.9671\n",
      "Epoch 65/100\n",
      " - 0s - loss: 0.2946 - acc: 0.9671\n",
      "Epoch 66/100\n",
      " - 0s - loss: 0.2975 - acc: 0.9677\n",
      "Epoch 67/100\n",
      " - 0s - loss: 0.2874 - acc: 0.9672\n",
      "Epoch 68/100\n",
      " - 0s - loss: 0.3007 - acc: 0.9677\n",
      "Epoch 69/100\n",
      " - 0s - loss: 0.2929 - acc: 0.9682\n",
      "Epoch 70/100\n",
      " - 0s - loss: 0.2970 - acc: 0.9676\n",
      "Epoch 71/100\n",
      " - 0s - loss: 0.2903 - acc: 0.9668\n",
      "Epoch 72/100\n",
      " - 0s - loss: 0.2925 - acc: 0.9686\n",
      "Epoch 73/100\n",
      " - 0s - loss: 0.2939 - acc: 0.9681\n",
      "Epoch 74/100\n",
      " - 0s - loss: 0.2928 - acc: 0.9695\n",
      "Epoch 75/100\n",
      " - 0s - loss: 0.2896 - acc: 0.9668\n",
      "Epoch 76/100\n",
      " - 0s - loss: 0.2865 - acc: 0.9696\n",
      "Epoch 77/100\n",
      " - 0s - loss: 0.2919 - acc: 0.9690\n",
      "Epoch 78/100\n",
      " - 0s - loss: 0.2860 - acc: 0.9683\n",
      "Epoch 79/100\n",
      " - 0s - loss: 0.2776 - acc: 0.9686\n",
      "Epoch 80/100\n",
      " - 0s - loss: 0.2860 - acc: 0.9692\n",
      "Epoch 81/100\n",
      " - 0s - loss: 0.2863 - acc: 0.9682\n",
      "Epoch 82/100\n",
      " - 0s - loss: 0.2952 - acc: 0.9673\n",
      "Epoch 83/100\n",
      " - 0s - loss: 0.2946 - acc: 0.9674\n",
      "Epoch 84/100\n",
      " - 0s - loss: 0.2845 - acc: 0.9708\n",
      "Epoch 85/100\n",
      " - 0s - loss: 0.2866 - acc: 0.9686\n",
      "Epoch 86/100\n",
      " - 0s - loss: 0.2837 - acc: 0.9690\n",
      "Epoch 87/100\n",
      " - 0s - loss: 0.2917 - acc: 0.9693\n",
      "Epoch 88/100\n",
      " - 0s - loss: 0.2819 - acc: 0.9701\n",
      "Epoch 89/100\n",
      " - 0s - loss: 0.2862 - acc: 0.9707\n",
      "Epoch 90/100\n",
      " - 0s - loss: 0.2933 - acc: 0.9687\n",
      "Epoch 91/100\n",
      " - 0s - loss: 0.2856 - acc: 0.9710\n",
      "Epoch 92/100\n",
      " - 0s - loss: 0.2883 - acc: 0.9702\n",
      "Epoch 93/100\n",
      " - 0s - loss: 0.2896 - acc: 0.9711\n",
      "Epoch 94/100\n",
      " - 0s - loss: 0.2827 - acc: 0.9707\n",
      "Epoch 95/100\n",
      " - 0s - loss: 0.2807 - acc: 0.9761\n",
      "Epoch 96/100\n",
      " - 0s - loss: 0.2946 - acc: 0.9752\n",
      "Epoch 97/100\n",
      " - 0s - loss: 0.2847 - acc: 0.9772\n",
      "Epoch 98/100\n",
      " - 0s - loss: 0.2897 - acc: 0.9767\n",
      "Epoch 99/100\n",
      " - 0s - loss: 0.2826 - acc: 0.9771\n",
      "Epoch 100/100\n",
      " - 0s - loss: 0.2893 - acc: 0.9776\n"
     ]
    },
    {
     "data": {
      "text/plain": [
       "<keras.callbacks.History at 0x17b654e72e8>"
      ]
     },
     "execution_count": 208,
     "metadata": {},
     "output_type": "execute_result"
    }
   ],
   "source": [
    "model.fit(\n",
    "    Xshapetest,\n",
    "    onehot_y, \n",
    "    epochs=100,\n",
    "    shuffle=True,\n",
    "    verbose=2,\n",
    "    batch_size=2500 #validation_data=(X, onehot_y)\n",
    ")"
   ]
  },
  {
   "cell_type": "code",
   "execution_count": 209,
   "metadata": {},
   "outputs": [
    {
     "name": "stdout",
     "output_type": "stream",
     "text": [
      "16997/16997 [==============================] - 2s 128us/step\n",
      " Model - Loss: 0.253322956439215, Accuracy: 0.9842913455315644\n"
     ]
    }
   ],
   "source": [
    "model_loss, model_accuracy=model.evaluate(Xshapetest, onehot_y)\n",
    "print(f\" Model - Loss: {model_loss}, Accuracy: {model_accuracy}\")"
   ]
  },
  {
   "cell_type": "code",
   "execution_count": 210,
   "metadata": {},
   "outputs": [
    {
     "data": {
      "text/plain": [
       "array([[0.20781216, 0.        , 0.        , ..., 0.        , 0.        ,\n",
       "        0.        ],\n",
       "       [0.20781216, 0.        , 0.        , ..., 0.        , 0.        ,\n",
       "        0.        ],\n",
       "       [0.20781216, 0.        , 0.        , ..., 0.        , 0.        ,\n",
       "        0.        ],\n",
       "       ...,\n",
       "       [0.        , 0.        , 0.        , ..., 0.        , 0.        ,\n",
       "        1.4198638 ],\n",
       "       [0.        , 0.        , 0.        , ..., 0.        , 0.        ,\n",
       "        1.4198638 ],\n",
       "       [0.        , 0.        , 0.        , ..., 0.        , 0.        ,\n",
       "        1.4198638 ]], dtype=float32)"
      ]
     },
     "execution_count": 210,
     "metadata": {},
     "output_type": "execute_result"
    }
   ],
   "source": [
    "model.predict(Xshapetest)\n"
   ]
  },
  {
   "cell_type": "code",
   "execution_count": 212,
   "metadata": {},
   "outputs": [
    {
     "data": {
      "text/plain": [
       "array([ 0,  0,  0, ..., 19, 19, 19], dtype=int64)"
      ]
     },
     "execution_count": 212,
     "metadata": {},
     "output_type": "execute_result"
    }
   ],
   "source": [
    "model.predict_classes(Xshapetest)"
   ]
  },
  {
   "cell_type": "code",
   "execution_count": null,
   "metadata": {},
   "outputs": [],
   "source": []
  },
  {
   "cell_type": "code",
   "execution_count": null,
   "metadata": {},
   "outputs": [],
   "source": [
    "# One hot encoding into function \n"
   ]
  },
  {
   "cell_type": "code",
   "execution_count": null,
   "metadata": {},
   "outputs": [],
   "source": [
    "# Function to reshape data into LSTM/GRU input shape \n"
   ]
  }
 ],
 "metadata": {
  "kernelspec": {
   "display_name": "Python 3",
   "language": "python",
   "name": "python3"
  },
  "language_info": {
   "codemirror_mode": {
    "name": "ipython",
    "version": 3
   },
   "file_extension": ".py",
   "mimetype": "text/x-python",
   "name": "python",
   "nbconvert_exporter": "python",
   "pygments_lexer": "ipython3",
   "version": "3.6.4"
  }
 },
 "nbformat": 4,
 "nbformat_minor": 2
}
