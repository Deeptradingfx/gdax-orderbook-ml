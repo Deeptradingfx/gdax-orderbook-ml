{
 "cells": [
  {
   "cell_type": "code",
   "execution_count": null,
   "metadata": {},
   "outputs": [],
   "source": [
    "# Restructure of program into functions \n",
    "    # Data structures for scrape/request log and support/resistance (predicted vs actual)\n",
    "    # L2 update states applied to snapshot over a defined interval (15m, in sync with chart update)\n",
    "        # Timestamp issue for 15m chart  \n",
    "# One hot encoding into function       \n",
    "# Function to reshape data into LSTM/GRU input shape             \n",
    "# Further reshaping of input/test data for LSTM/GRU model "
   ]
  },
  {
   "cell_type": "code",
   "execution_count": 1,
   "metadata": {},
   "outputs": [
    {
     "name": "stderr",
     "output_type": "stream",
     "text": [
      "C:\\ProgramData\\Anaconda3\\lib\\site-packages\\matplotlib\\cbook\\deprecation.py:106: MatplotlibDeprecationWarning: The finance module has been deprecated in mpl 2.0 and will be removed in mpl 2.2. Please use the module mpl_finance instead.\n",
      "  warnings.warn(message, mplDeprecation, stacklevel=1)\n",
      "C:\\ProgramData\\Anaconda3\\lib\\site-packages\\h5py\\__init__.py:36: FutureWarning: Conversion of the second argument of issubdtype from `float` to `np.floating` is deprecated. In future, it will be treated as `np.float64 == np.dtype(float).type`.\n",
      "  from ._conv import register_converters as _register_converters\n",
      "Using TensorFlow backend.\n"
     ]
    }
   ],
   "source": [
    "# Imports\n",
    "import pandas as pd\n",
    "import numpy as np\n",
    "import requests\n",
    "import json\n",
    "from json import loads\n",
    "import datetime \n",
    "import matplotlib.pyplot as plt\n",
    "%matplotlib inline\n",
    "import time\n",
    "\n",
    "# Charting-specific imports\n",
    "import matplotlib.finance\n",
    "import matplotlib.ticker as ticker\n",
    "from matplotlib.finance import candlestick_ohlc,candlestick2_ohlc\n",
    "from matplotlib.finance import volume_overlay,volume_overlay2\n",
    "from matplotlib.dates import  DateFormatter, epoch2num\n",
    "    # https://matplotlib.org/api/finance_api.html#module-matplotlib.finance\n",
    "\n",
    "# API-specific imports (local install)\n",
    "import gdax\n",
    "    # Python setup.py install with environment activaated to install/use\n",
    "    # Do not use default gdax pip install package - that version of the package is currently broken\n",
    "\n",
    "# Pymongo import for connection to local client DB\n",
    "import pymongo\n",
    "from pymongo import MongoClient\n",
    "\n",
    "# Preprocessing Imports\n",
    "from sklearn.model_selection import train_test_split\n",
    "from sklearn.preprocessing import LabelEncoder, StandardScaler, MinMaxScaler, OneHotEncoder\n",
    "from keras.utils import to_categorical \n",
    "\n",
    "# ML Imports \n",
    "import tensorflow as tf\n",
    "import keras\n",
    "from keras.models import Sequential\n",
    "from keras.layers import Dense, Activation, Dropout\n",
    "from keras.layers import LSTM, GRU\n",
    "from keras.models import load_model\n",
    "from keras import backend as K\n",
    "\n",
    "# autoSR() import requirements\n",
    "from sklearn.cluster import MeanShift, estimate_bandwidth\n",
    "from pandas_datareader import data, wb\n",
    "\n",
    "###########################################################################\n",
    "### Force Keras/TF to use CPU backend when GPU present by setting:\n",
    "    # {'CPU' : 1, 'GPU' : 0}\n",
    "    \n",
    "#num_cores = 4\n",
    "#config = tf.ConfigProto(intra_op_parallelism_threads=num_cores,\\\n",
    "        #inter_op_parallelism_threads=num_cores, allow_soft_placement=True,\\\n",
    "        #device_count = {'CPU' : 1, 'GPU' : 1})\n",
    "#session = tf.Session(config=config)\n",
    "#K.set_session(session)\n",
    "###########################################################################\n",
    "\n",
    "# Import to check check for GPU availability for tensorflow backend\n",
    "from tensorflow.python.client import device_lib"
   ]
  },
  {
   "cell_type": "code",
   "execution_count": 2,
   "metadata": {},
   "outputs": [
    {
     "name": "stdout",
     "output_type": "stream",
     "text": [
      "[name: \"/device:CPU:0\"\n",
      "device_type: \"CPU\"\n",
      "memory_limit: 268435456\n",
      "locality {\n",
      "}\n",
      "incarnation: 4090790626317377009\n",
      ", name: \"/device:GPU:0\"\n",
      "device_type: \"GPU\"\n",
      "memory_limit: 9222031934\n",
      "locality {\n",
      "  bus_id: 1\n",
      "  links {\n",
      "  }\n",
      "}\n",
      "incarnation: 13886587048361550544\n",
      "physical_device_desc: \"device: 0, name: GeForce GTX 1080 Ti, pci bus id: 0000:01:00.0, compute capability: 6.1\"\n",
      "]\n",
      "==============================================\n",
      "['/job:localhost/replica:0/task:0/device:GPU:0']\n"
     ]
    }
   ],
   "source": [
    "# Verify GPU availability for tensorflow backend\n",
    "print(device_lib.list_local_devices())\n",
    "print(\"==============================================\")\n",
    "print(K.tensorflow_backend._get_available_gpus())"
   ]
  },
  {
   "cell_type": "code",
   "execution_count": 3,
   "metadata": {
    "scrolled": true
   },
   "outputs": [
    {
     "name": "stdout",
     "output_type": "stream",
     "text": [
      "2018-04-17T00:55:03.354Z\n",
      "2018-04-17T01:05:03.469Z\n"
     ]
    }
   ],
   "source": [
    "# Request log load\n",
    "request_log_df= pd.read_csv(\"test_data/request_log.csv\",dtype ={'epoch':object})\n",
    "request_start = request_log_df['iso'][1]\n",
    "request_end = request_log_df['iso'][0]\n",
    "print(request_start)\n",
    "print(request_end)"
   ]
  },
  {
   "cell_type": "code",
   "execution_count": 4,
   "metadata": {},
   "outputs": [],
   "source": [
    "# Global variables\n",
    "\n",
    "# Boolean to drop existing mongo collection/scrape upon scrape() init\n",
    "dropFlag = False\n",
    "# Boolean to set size_delta to l2update values for first update to snapshot\n",
    "#firstUpdate = False\n",
    "firstUpdate_bids = False\n",
    "firstUpdate_asks = False\n",
    "# Value to track if feature_creation_inital() was run\n",
    "feature_creation_inital_run = False\n"
   ]
  },
  {
   "cell_type": "code",
   "execution_count": 5,
   "metadata": {},
   "outputs": [],
   "source": [
    "# Connection establishment\n",
    "\n",
    "# Establish connection to GDAX public endpoint\n",
    "public_client = gdax.PublicClient()\n",
    "\n",
    "# Mongo database and collection specification:\n",
    "mongo_client = MongoClient('mongodb://localhost:27017/')\n",
    "db = mongo_client.btcusd_db\n",
    "btcusd_collection = db.btcusd_collection"
   ]
  },
  {
   "cell_type": "code",
   "execution_count": 6,
   "metadata": {},
   "outputs": [],
   "source": [
    "# Function to start scrape process from websocket to mongodb instance\n",
    "def scrape_start():\n",
    "    \n",
    "    # Drop existing collection from db if dropFlag == True (on new scrape):\n",
    "    if 'btcusd_db' in mongo_client.database_names() and dropFlag is True:\n",
    "        db['btcusd_db'].drop_collection('btcusd_collection')\n",
    "        #print(mongo_client.database_names())\n",
    "        #print(db.collection_names())\n",
    "        \n",
    "    # Start instance of websocket client for L2 Orderbook + L2 update data request and scrape\n",
    "    wsClient = gdax.WebsocketClient(url=\"wss://ws-feed.gdax.com\", \n",
    "                                products=[\"BTC-USD\"],\\\n",
    "                                message_type=\"subscribe\",\\\n",
    "                                channels =[\"level2\"],\\\n",
    "                                mongo_collection=btcusd_collection,\\\n",
    "                                should_print=False)\n",
    "    \n",
    "    # Save request open time and start websocket\n",
    "    time.sleep(4)\n",
    "    request_time_start=public_client.get_time()\n",
    "    wsClient.start()\n",
    "    \n",
    "    # scrape_time is variable for time between websocket connection start and end\n",
    "        # Defined in seconds\n",
    "        # i.e. 600 seconds = scrape running for 10 minutes\n",
    "    scrape_time = 600\n",
    "\n",
    "    time.sleep(scrape_time)\n",
    "    # Save request close time and close websocket\n",
    "    request_time_end=public_client.get_time()\n",
    "    wsClient.close()\n",
    "    \n",
    "    # Append request times for open/close of websocket stream to dataframe, save to csv\n",
    "    request_log_df = pd.DataFrame.from_dict({'request start':request_time_start,'request end':request_time_end},orient ='index')\n",
    "    request_log_df.to_csv(\"raw_data/request_log.csv\",header=True,encoding='utf-8',index =True)\n",
    "   "
   ]
  },
  {
   "cell_type": "code",
   "execution_count": 7,
   "metadata": {},
   "outputs": [],
   "source": [
    "# Function to load and parse data from Mongo into dataframes\n",
    "def load_parse():\n",
    "    \n",
    "    #Collection specification (in database)\n",
    "    input_data = db.btcusd_collection \n",
    "    \n",
    "    # Create individual dataframes for main response types: snapshot, l2update\n",
    "    snapshot = pd.DataFrame(list(input_data.find({'type':'snapshot'})))\n",
    "    l2update = pd.DataFrame(list(input_data.find({'type':'l2update'})))\n",
    "    \n",
    "    ### snapshot  response load and parse ###\n",
    "    \n",
    "    # Extract asks/bid individual column of array of arrays into lists\n",
    "    snapshot_asks = snapshot[['asks'][0]][0]\n",
    "    snapshot_bids = snapshot[['bids'][0]][0]\n",
    "    \n",
    "    # Convert list (of array of arrays) into dataframe\n",
    "    snapshot_asks_df =pd.DataFrame(snapshot_asks)\n",
    "    snapshot_bids_df =pd.DataFrame(snapshot_bids)\n",
    "    \n",
    "    # Rename columns to snapshot array format:\n",
    "        # snapshot array format: [price, size]\n",
    "            # [side, price, size] format for one-hot encoding\n",
    "        # Ask = sell price, bid = buy price\n",
    "    snapshot_asks_df.rename(columns ={0:'price',1:'size'}, inplace =True)\n",
    "    snapshot_bids_df.rename(columns ={0:'price',1:'size'}, inplace =True)\n",
    "    snapshot_asks_df['side'] = \"sell\"\n",
    "    snapshot_bids_df['side'] = \"buy\"\n",
    "    cols =['side','price','size']\n",
    "    snapshot_asks_df = snapshot_asks_df[cols]\n",
    "    snapshot_bids_df = snapshot_bids_df[cols]\n",
    "    \n",
    "    ### L2 update response load and parse ###\n",
    "    \n",
    "    # Restucture l2update to have [side,price,size] from 'changes' column\n",
    "    l2update_clean = l2update[['changes','time']]\n",
    "          \n",
    "    # Convert changes list of lists -> into array \n",
    "    l2_array = np.ravel(l2update_clean['changes']) \n",
    "    # Flatten the list and remove outer bracket:\n",
    "    flattened = [val for sublist in l2_array for val in sublist]\n",
    "        # Reference: https://stackoverflow.com/questions/11264684/flatten-list-of-lists?\n",
    "    # Convert back to dataframe and combine with timestamps from l2update:\n",
    "    changes_df= pd.DataFrame.from_records(flattened)\n",
    "    # Add time column back to L2 update dataframe\n",
    "    l2update_formatted = pd.concat([changes_df,l2update_clean['time']],1)\n",
    "    # Rename columns for [side, price, size]:\n",
    "    l2update_formatted.rename({0:\"side\",1:\"price\",2:\"size\"}, axis ='columns',inplace=True)\n",
    "    \n",
    "    # Save parsed data to csv (API -> Mongo -> Dataframe -> .csv)\n",
    "    save_csv()\n",
    "    \n",
    "def save_csv():\n",
    "    \n",
    "    # Save data to .csv format in raw_data folder\n",
    "    l2update_formatted.to_csv(\"raw_data/l2update.csv\",header=True,encoding='utf-8',index =False)\n",
    "    snapshot_asks_df.to_csv(\"raw_data/snapshot_asks.csv\",header=True,encoding='utf-8',index =False)\n",
    "    snapshot_bids_df.to_csv(\"raw_data/snapshot_bids.csv\",header=True,encoding='utf-8',index =False)\n",
    "    subscriptions.to_csv(\"raw_data/subscriptions.csv\",header=True,encoding='utf-8',index =False)"
   ]
  },
  {
   "cell_type": "code",
   "execution_count": 8,
   "metadata": {},
   "outputs": [],
   "source": [
    "# Function to read in data from csv into dataframes\n",
    "    # Currently not working due to variable scope assignment for dataframes/reading in data from CSV\n",
    "\n",
    "# Test data\n",
    "#def data_read_test():\n",
    "    \n",
    "    # Read in test data for L2 orderbook state (bids + asks)\n",
    "    # Read in test data for subsquent L2 orderbook update states (L2 updates to bid + asks)\n",
    "    #snapshot_asks_df = pd.read_csv(\"test_data/snapshot_asks.csv\",dtype ={'size':float,'size_delta':float})\n",
    "    #snapshot_bids_df = pd.read_csv(\"test_data/snapshot_bids.csv\",dtype ={'size':float,'size_delta':float})\n",
    "    #l2update_df = pd.read_csv(\"test_data/l2update.csv\", dtype ={'size':float})\n",
    "    #request_log_df= pd.read_csv(\"test_data/request_log.csv\")\n",
    "    \n",
    "\n",
    "    \n",
    "    # Convert size column to float type for l2 updates\n",
    "    #l2update_df['size'] = l2update_df['size'].apply(pd.to_numeric)\n",
    "    #snapshot_bids_df['size_delta'] = snapshot_bids_df['size_delta'].apply(pd.to_numeric)\n",
    "\n",
    "# Raw data\n",
    "#def data_read_raw():\n",
    "    \n",
    "    # Read in test data for L2 orderbook state (bids + asks)\n",
    "    # Read in test data for subsquent L2 orderbook update states (L2 updates to bid + asks)\n",
    "    #snapshot_asks_df = pd.read_csv(\"raw_data/snapshot_asks.csv\",dtype ={'size':float,'size_delta':float})\n",
    "    #snapshot_bids_df = pd.read_csv(\"raw_data/snapshot_bids.csv\",dtype ={'size':float,'size_delta':float})\n",
    "    #l2update_df = pd.read_csv(\"raw_data/l2update.csv\", dtype ={'size':float})\n",
    "    #request_log_df= pd.read_csv(\"raw_data/request_log.csv\")\n",
    "    \n",
    "    # Convert size column to float type for l2 updates\n",
    "    #l2update_df['size'] = l2update_df['size'].apply(pd.to_numeric)\n",
    "    #snapshot_bids_df['size_delta'] = snapshot_bids_df['size_delta'].apply(pd.to_numeric)"
   ]
  },
  {
   "cell_type": "code",
   "execution_count": 9,
   "metadata": {},
   "outputs": [],
   "source": [
    "###########################################################################\n",
    "\n",
    "# Section to read in data from csv (definition scope of functions above not working for assignment:)\n",
    "    # Load in test data for development/debugging\n",
    "\n",
    "snapshot_asks_df = pd.read_csv(\"test_data/snapshot_asks.csv\",dtype ={'size':float,'size_delta':float})\n",
    "snapshot_bids_df = pd.read_csv(\"test_data/snapshot_bids.csv\",dtype ={'size':float,'size_delta':float})\n",
    "l2update_df = pd.read_csv(\"test_data/l2update.csv\", dtype ={'size':float})\n",
    "request_log_df= pd.read_csv(\"test_data/request_log.csv\")\n",
    "\n",
    "###########################################################################"
   ]
  },
  {
   "cell_type": "code",
   "execution_count": 10,
   "metadata": {},
   "outputs": [],
   "source": [
    "##### Request 15minute chart data #####\n",
    "\n",
    "#def chart_15m_request(request_log_df):\n",
    "\n",
    "request_start = request_log_df['iso'][1]\n",
    "request_end = request_log_df['iso'][0]\n",
    "\n",
    "# Request 15 minutes of candlestick (open high low close) data from API\n",
    "    # start time must be in ISO 8601 format for get_product_historic_rates()\n",
    "chart_15m = public_client.get_product_historic_rates('BTC-USD', start =request_start, granularity=60)\n",
    "\n",
    "# Convert chart data response into dataframes\n",
    "chart_15m_df =pd.DataFrame.from_records(chart_15m,columns=[\"time\",\"low\", \"high\",\"open\" ,\"close\", \"volume\"])\n",
    "\n",
    "# Reorder columns according to label order required by matplotlib finance package\n",
    "chart_15m_df = chart_15m_df[[\"time\",\"open\",\"high\",\"low\",\"close\",\"volume\"]]\n",
    "\n",
    "# Reverse/sort timestamp order (without reversal chart labels/axis will be out of order)\n",
    "chart_15m_df.sort_values(by='time',axis=0, inplace =True)\n",
    "\n",
    "#Convert/sort time to datetime object (for matplotlib chart format requirement)\n",
    "chart_15m_df['time'] =pd.to_datetime(chart_15m_df['time'],unit='s')\n",
    "    \n",
    "    "
   ]
  },
  {
   "cell_type": "code",
   "execution_count": 11,
   "metadata": {},
   "outputs": [],
   "source": [
    "# Auto support/resistance adapted into function \n",
    "    # Source: Adapted from https://github.com/nakulnayyar/SupResGenerator\n",
    "    # Takes dataframe object with open/high/low/close values \n",
    "        # Returns list of auto-generated support and resistance levels for price action\n",
    "def autoSR(dataframe):\n",
    "    data = chart_15m_df.as_matrix(columns=['close'])\n",
    "    data2 = data[:len(data)*1]\n",
    "    bandwidth = estimate_bandwidth(data2, quantile=0.1, n_samples=100)\n",
    "    ms = MeanShift(bandwidth=bandwidth, bin_seeding=True)\n",
    "    ms.fit(data2)\n",
    "    ml_results = []\n",
    "    for k in range(len(np.unique(ms.labels_))):\n",
    "            my_members = ms.labels_ == k\n",
    "            values = data[my_members, 0]    \n",
    "            ml_results.append(min(values))\n",
    "            ml_results.append(max(values))\n",
    "            # Remove duplicate S/R level values\n",
    "            # Using sets\n",
    "            ml_set =set(ml_results)\n",
    "            ml_results = list(ml_set)\n",
    "            # Sort values before return output \n",
    "            ml_results.sort()\n",
    "            \n",
    "    return ml_results"
   ]
  },
  {
   "cell_type": "code",
   "execution_count": 12,
   "metadata": {},
   "outputs": [],
   "source": [
    "def generate_chart(dataframe):\n",
    "    \n",
    "    dataframe = chart_15m_df \n",
    "    \n",
    "    # Generate chart of past 15 minutes with autogenerated support and resistance levels:\n",
    "    fig, ax = plt.subplots(figsize=(20, 10)\n",
    "                         )\n",
    "    candlestick2_ohlc(ax,chart_15m_df['open'],chart_15m_df['high'],chart_15m_df['low'],chart_15m_df['close'],width=2,\\\n",
    "                      colorup='k',colordown='r',alpha=.5)\n",
    "    ax.set_xticklabels(chart_15m_df['time'] ,rotation=30)\n",
    "    \n",
    "    ax.xaxis.set_major_locator(ticker.MaxNLocator(17))\n",
    "        # n + 2 for proper labe set at 20,18 chart size\n",
    "        # 15 + 2 =17\n",
    "    plt.yticks(np.arange(int(min(chart_15m_df['low'])-5), max(chart_15m_df['high'])+10, 5))\n",
    "    plt.xlabel('Time')\n",
    "    plt.ylabel('Price (USD)')\n",
    "    #ax.minorticks_on()\n",
    "    ax.set_axisbelow(True)\n",
    "    ax.tick_params(axis='y', pad=10)\n",
    "    ax.grid(which='major', linestyle='--', linewidth='0.1', color='b')\n",
    "    matplotlib.pyplot.title(\"15 Min BTC/USD with Support/Resistance Levels\")\n",
    "    \n",
    "    # Add S/R labels to right side of chart\n",
    "    ml_results = autoSR(chart_15m_df)\n",
    "    for k in ml_results:\n",
    "        plt.axhline(y=k)\n",
    "\n",
    "    #plt.tight_layout()\n",
    "    return plt.show()\n",
    "    #return plt.show(), ml_results"
   ]
  },
  {
   "cell_type": "code",
   "execution_count": 23,
   "metadata": {},
   "outputs": [],
   "source": [
    "# create and set inital/placeholder values for size_delta, position, and sr_prox_value/line input features \n",
    "    # run once upon new scrape only\n",
    "def feature_creation_inital():\n",
    "    global feature_creation_intital_run\n",
    "    \n",
    "    if feature_creation_inital_run == False:\n",
    "    \n",
    "        # Set inital size delta l2 snapshot - use decimal point to force as float\n",
    "        snapshot_asks_df['size_delta'] = 0.0\n",
    "        snapshot_bids_df['size_delta'] = 0.0\n",
    "\n",
    "        # Set inital position for l2 snapshot\n",
    "        snapshot_asks_df['position'] = snapshot_asks_df.index +1\n",
    "        snapshot_bids_df['position'] = snapshot_bids_df.index +1\n",
    "\n",
    "        # Reverse index for sell/asks\n",
    "        # snapshot_asks_df =snapshot_asks_df[::-1]\n",
    "        # Reverse inital position indicator for bids/buy side\n",
    "        rev = snapshot_bids_df['position'].values * -1\n",
    "        snapshot_bids_df['position'] = rev\n",
    "\n",
    "        # Set inital proximity value and inital value for nearest prox line\n",
    "        snapshot_asks_df['sr_prox_value'] = 0\n",
    "        snapshot_asks_df['sr_prox_line'] = 0\n",
    "        snapshot_bids_df['sr_prox_value'] = 0\n",
    "        snapshot_bids_df['sr_prox_line'] = 0\n",
    "\n",
    "        # Set feature_creation_inital_run flag to True once run\n",
    "        feature_creation_inital_run = True\n",
    "        \n",
    "    elif feature_creation_inital_run == True:\n",
    "        # Required syntax for logical operator/ if-else structure, but does nothing as a result\n",
    "        # i.e., a \"pass\"\n",
    "        \n",
    "        print(\"pass\")\n",
    "        pass\n",
    "        "
   ]
  },
  {
   "cell_type": "code",
   "execution_count": 26,
   "metadata": {},
   "outputs": [],
   "source": [
    "# L2 update states applied to snapshot over a defined interval (15m, in sync with chart update)\n",
    "    # Applied to both snapshot_bids_df and snapshot_asks_df\n",
    "    # Must be run before sr_update()\n",
    "def l2_state_update():\n",
    "    \n",
    "    global firstUpdate_bids \n",
    "    global firstUpdate_asks\n",
    "    \n",
    "    for i in range(len(snapshot_bids_df)):\n",
    "\n",
    "        # If size in l2update_df is 0, remove that row/price point from the orderbook state\n",
    "        if l2update_df['size'].values[i] == 0:\n",
    "            #print (snapshot_bids_df['price'].values[i])\n",
    "            snapshot_bids_df.drop(snapshot_bids_df.index[i])\n",
    "\n",
    "        #First update to snapshot, set 'size_delta' to l2update values\n",
    "            # Note: Keep here or move to end of feature_creation_inital depending on execution order\n",
    "        elif l2update_df['size'].values[i] != 0 & firstUpdate_bids == False:\n",
    "            snapshot_bids_df['size_delta'].values[i] = l2update_df['size'].values[i]\n",
    "            firstUpdate_bids = True\n",
    "        #Subsequent size delta calc\n",
    "        elif l2update_df['size'].values[i] != 0:\n",
    "            currentsize =snapshot_bids_df['size'].values[i] \n",
    "            updatesize = l2update_df['size'].values[i]\n",
    "            snapshot_bids_df['size_delta'].values[i] = updatesize-currentsize\n",
    "\n",
    "        # Update positional values for bids snapshot\n",
    "        snapshot_bids_df['position'] = snapshot_bids_df.index + 1\n",
    "        rev = snapshot_bids_df['position'].values * -1\n",
    "        snapshot_bids_df['position'] = rev \n",
    "\n",
    "    for i in range(len(snapshot_asks_df)):\n",
    "\n",
    "        # If size in l2update_df is 0, remove that row/price point from the orderbook state\n",
    "        if l2update_df['size'].values[i] == 0:\n",
    "            #print (snapshot_asks_df['price'].values[i])\n",
    "            snapshot_asks_df.drop(snapshot_asks_df.index[i])\n",
    "\n",
    "        #First update to snapshot, set 'size_delta' to l2update values\n",
    "            # Note: Keep here or move to end of feature_creation_inital depending on execution order\n",
    "        elif l2update_df['size'].values[i] != 0 & firstUpdate_asks == False:\n",
    "            snapshot_asks_df['size_delta'].values[i] = l2update_df['size'].values[i]\n",
    "            firstUpdate_asks = True\n",
    "        #Subsequent size delta calc\n",
    "        elif l2update_df['size'].values[i] != 0:\n",
    "            currentsize =snapshot_asks_df['size'].values[i] \n",
    "            updatesize = l2update_df['size'].values[i]\n",
    "            snapshot_asks_df['size_delta'].values[i] = updatesize-currentsize\n",
    "\n",
    "        # Update positional values for_asks snapshot\n",
    "        snapshot_asks_df['position'] = snapshot_asks_df.index + 1\n",
    "        #rev = snapshot_asks_df['position'].values * -1\n",
    "        #snapshot_asks_df['position'] = rev "
   ]
  },
  {
   "cell_type": "code",
   "execution_count": 15,
   "metadata": {},
   "outputs": [],
   "source": [
    "# Function to update sr_prox_line and sr_prox_value between orderbook states\n",
    "    # Note: l2_state_update applied first, then sr_update(); switch order if linear calls or switch execution block cell\n",
    "    # Must be run before model input in sequence\n",
    "def sr_update():\n",
    "    \n",
    "    # Convert to array for loop value traversal        \n",
    "    ml_results_modified_array = np.array(ml_results_modified)\n",
    "\n",
    "    ### snapshot_asks sr_prox_line,sr_prox_value set ###\n",
    "    for i in range(len(snapshot_asks_df['price'])):\n",
    "        #if snapshot_asks_df['price'].values[i] in ml_results_modified: \n",
    "            priceInt = int(snapshot_asks_df['price'].values[i])\n",
    "            diff =abs(ml_results_modified - priceInt)\n",
    "            diff_array = np.array(diff)\n",
    "            lowest_abs =min(diff)\n",
    "            #print(\"=============================\")\n",
    "            #print(\"Price: \")\n",
    "            #print(snapshot_asks_df['price'].values[i])\n",
    "            #print(\"Diff:\")\n",
    "            #print(diff)\n",
    "            #print(\"lowest_abs value: \")\n",
    "            #print(lowest_abs)\n",
    "            minIndex= list(diff_array).index(lowest_abs)\n",
    "            #print(\"Closest S/R line:\")\n",
    "            #print(ml_results_modified[minIndex])\n",
    "            #print(\"=============================\")\n",
    "\n",
    "            #Set sr_prox_value to distance from closest S/R line\n",
    "            snapshot_asks_df['sr_prox_value'].values[i] = lowest_abs\n",
    "            #Set sr_prox_line value\n",
    "            snapshot_asks_df['sr_prox_line'].values[i] = ml_results_modified[minIndex]\n",
    "\n",
    "    ### snapshot_bids sr_prox_line,sr_prox_value set ###\n",
    "    for i in range(len(snapshot_bids_df['price'])):\n",
    "        #if snapshot_bids_df['price'].values[i] in ml_results_modified: \n",
    "            priceInt = int(snapshot_bids_df['price'].values[i])\n",
    "            diff =abs(ml_results_modified - priceInt)\n",
    "            diff_array = np.array(diff)\n",
    "            lowest_abs =min(diff)\n",
    "            #print(\"=============================\")\n",
    "            #print(\"Price: \")\n",
    "            #print(snapshot_bids_df['price'].values[i])\n",
    "            #print(\"Diff:\")\n",
    "            #print(diff)\n",
    "            #print(\"lowest_abs value: \")\n",
    "            #print(lowest_abs)\n",
    "            minIndex= list(diff_array).index(lowest_abs)\n",
    "            #print(\"Closest S/R line:\")\n",
    "            #print(ml_results_modified[minIndex])\n",
    "            #print(\"=============================\")\n",
    "\n",
    "            #Set sr_prox_value to distance from closest S/R line\n",
    "            snapshot_bids_df['sr_prox_value'].values[i] = lowest_abs\n",
    "            #Set sr_prox_line value\n",
    "            snapshot_bids_df['sr_prox_line'].values[i] = ml_results_modified[minIndex]"
   ]
  },
  {
   "cell_type": "code",
   "execution_count": 16,
   "metadata": {},
   "outputs": [],
   "source": [
    "###########################################################################\n",
    "###########################################################################\n",
    "###########################################################################\n",
    "\n",
    "\n",
    "# Debugging:"
   ]
  },
  {
   "cell_type": "code",
   "execution_count": 17,
   "metadata": {
    "scrolled": true
   },
   "outputs": [
    {
     "data": {
      "text/plain": [
       "[8762.97,\n",
       " 8770.5,\n",
       " 8773.0,\n",
       " 8778.0,\n",
       " 8784.94,\n",
       " 8792.0,\n",
       " 8793.31,\n",
       " 8800.1,\n",
       " 8802.0,\n",
       " 8809.0,\n",
       " 8810.04,\n",
       " 8815.01,\n",
       " 8819.99,\n",
       " 8825.0,\n",
       " 8827.01,\n",
       " 8834.57,\n",
       " 8835.01,\n",
       " 8847.03,\n",
       " 8847.63,\n",
       " 8858.66,\n",
       " 8859.99,\n",
       " 8865.01,\n",
       " 8865.29,\n",
       " 8879.84]"
      ]
     },
     "execution_count": 17,
     "metadata": {},
     "output_type": "execute_result"
    }
   ],
   "source": [
    "# Assignment of ml_results from function:\n",
    "ml_results = autoSR(chart_15m_df)\n",
    "autoSR(chart_15m_df)"
   ]
  },
  {
   "cell_type": "code",
   "execution_count": 18,
   "metadata": {
    "scrolled": true
   },
   "outputs": [
    {
     "data": {
      "image/png": "[encoded data removed]",
      "text/plain": [
       "<matplotlib.figure.Figure at 0x223969bc978>"
      ]
     },
     "metadata": {},
     "output_type": "display_data"
    }
   ],
   "source": [
    "generate_chart(chart_15m_df)"
   ]
  },
  {
   "cell_type": "code",
   "execution_count": null,
   "metadata": {},
   "outputs": [],
   "source": []
  },
  {
   "cell_type": "code",
   "execution_count": 19,
   "metadata": {},
   "outputs": [],
   "source": [
    "# Data structures for scrape/request log and support/resistance (predicted vs actual)\n",
    "    # request start, request end\n",
    "    # current s/r levels: chart 15m data + ml_results (actual)\n",
    "    # predicted s/r levels: ml_results (predicted)\n",
    "    # current s/r levels vs predicted for current timeframe (training vs testing)\n",
    "\n",
    "# Convert ml_results into sorted int array\n",
    "ml_results_modified =np.asarray(ml_results)\n",
    "ml_results_modified =np.trunc(ml_results_modified).astype(int)\n",
    "ml_results_modified = np.sort(ml_results_modified,kind = 'quicksort') "
   ]
  },
  {
   "cell_type": "code",
   "execution_count": 24,
   "metadata": {
    "scrolled": true
   },
   "outputs": [],
   "source": [
    "feature_creation_inital()"
   ]
  },
  {
   "cell_type": "code",
   "execution_count": 27,
   "metadata": {},
   "outputs": [],
   "source": [
    "l2_state_update()"
   ]
  },
  {
   "cell_type": "code",
   "execution_count": 28,
   "metadata": {},
   "outputs": [],
   "source": [
    "sr_update()"
   ]
  },
  {
   "cell_type": "code",
   "execution_count": null,
   "metadata": {},
   "outputs": [],
   "source": []
  },
  {
   "cell_type": "code",
   "execution_count": null,
   "metadata": {},
   "outputs": [],
   "source": []
  },
  {
   "cell_type": "code",
   "execution_count": null,
   "metadata": {},
   "outputs": [],
   "source": []
  },
  {
   "cell_type": "code",
   "execution_count": null,
   "metadata": {
    "scrolled": true
   },
   "outputs": [],
   "source": []
  },
  {
   "cell_type": "code",
   "execution_count": null,
   "metadata": {},
   "outputs": [],
   "source": [
    "#Confirming size and size_delta column datatype is float, not int:\n",
    "#print(snapshot_asks_df.dtypes)\n",
    "#print(snapshot_bids_df.dtypes)"
   ]
  },
  {
   "cell_type": "code",
   "execution_count": null,
   "metadata": {
    "scrolled": false
   },
   "outputs": [],
   "source": [
    "#print(snapshot_bids_df.size_delta.unique())\n",
    "#print(snapshot_asks_df.size_delta.unique())"
   ]
  },
  {
   "cell_type": "code",
   "execution_count": null,
   "metadata": {},
   "outputs": [],
   "source": [
    "# Size delta update check (bids)\n",
    "#for i in range(len(snapshot_bids_df)):\n",
    "    #if snapshot_bids_df['size_delta'].values[i] != 0:\n",
    "        #print(snapshot_bids_df['price'].values[i],snapshot_bids_df['size_delta'].values[i])\n",
    "# Size delta update check (asks)\n",
    "#for i in range(len(snapshot_asks_df)):\n",
    "    #if snapshot_asks_df['size_delta'].values[i] != 0:\n",
    "        #print(snapshot_asks_df['price'].values[i],snapshot_asks_df['size_delta'].values[i])"
   ]
  },
  {
   "cell_type": "code",
   "execution_count": null,
   "metadata": {},
   "outputs": [],
   "source": []
  },
  {
   "cell_type": "code",
   "execution_count": null,
   "metadata": {},
   "outputs": [],
   "source": []
  },
  {
   "cell_type": "code",
   "execution_count": null,
   "metadata": {},
   "outputs": [],
   "source": [
    "\n",
    "    "
   ]
  },
  {
   "cell_type": "code",
   "execution_count": null,
   "metadata": {},
   "outputs": [],
   "source": [
    "# One hot encoding into function \n"
   ]
  },
  {
   "cell_type": "code",
   "execution_count": null,
   "metadata": {},
   "outputs": [],
   "source": [
    "# Function to reshape data into LSTM/GRU input shape \n"
   ]
  }
 ],
 "metadata": {
  "kernelspec": {
   "display_name": "Python 3",
   "language": "python",
   "name": "python3"
  },
  "language_info": {
   "codemirror_mode": {
    "name": "ipython",
    "version": 3
   },
   "file_extension": ".py",
   "mimetype": "text/x-python",
   "name": "python",
   "nbconvert_exporter": "python",
   "pygments_lexer": "ipython3",
   "version": "3.6.4"
  }
 },
 "nbformat": 4,
 "nbformat_minor": 2
}
