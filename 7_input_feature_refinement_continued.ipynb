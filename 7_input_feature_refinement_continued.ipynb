{
 "cells": [
  {
   "cell_type": "code",
   "execution_count": 1,
   "metadata": {
    "collapsed": true
   },
   "outputs": [],
   "source": [
    "# Further restructure of program into functions + refinement of data structure(s) for model\n",
    "    # Classifiction vs regression for new S/R level output (predicted S/R vs actual - needs to be calculated)\n",
    "        # May be able to use multivariate regression for new/predicted S/R output as values instead of classes\n",
    "        # If classification: One hot encoding into function  \n",
    "            # Invert function for reversal of encoding and one-hot\n",
    "        # Function for variable LSTM/GRU reshapeing\n",
    "    # Model load/save to disk\n",
    "        "
   ]
  },
  {
   "cell_type": "code",
   "execution_count": 2,
   "metadata": {},
   "outputs": [
    {
     "name": "stderr",
     "output_type": "stream",
     "text": [
      "C:\\Users\\tyu-dev\\Anaconda3\\envs\\pythondata\\lib\\site-packages\\matplotlib\\cbook\\deprecation.py:106: MatplotlibDeprecationWarning: The finance module has been deprecated in mpl 2.0 and will be removed in mpl 2.2. Please use the module mpl_finance instead.\n",
      "  warnings.warn(message, mplDeprecation, stacklevel=1)\n",
      "C:\\Users\\tyu-dev\\Anaconda3\\envs\\pythondata\\lib\\site-packages\\h5py\\__init__.py:34: FutureWarning: Conversion of the second argument of issubdtype from `float` to `np.floating` is deprecated. In future, it will be treated as `np.float64 == np.dtype(float).type`.\n",
      "  from ._conv import register_converters as _register_converters\n",
      "Using TensorFlow backend.\n"
     ]
    },
    {
     "name": "stdout",
     "output_type": "stream",
     "text": [
      "[name: \"/device:CPU:0\"\n",
      "device_type: \"CPU\"\n",
      "memory_limit: 268435456\n",
      "locality {\n",
      "}\n",
      "incarnation: 16075616223069260480\n",
      "]\n",
      "==============================================\n",
      "[]\n"
     ]
    }
   ],
   "source": [
    "# Imports\n",
    "import pandas as pd\n",
    "import numpy as np\n",
    "import requests\n",
    "import json\n",
    "from json import loads\n",
    "import datetime \n",
    "import matplotlib.pyplot as plt\n",
    "%matplotlib inline\n",
    "import time\n",
    "\n",
    "# Charting-specific imports\n",
    "import matplotlib.finance\n",
    "import matplotlib.ticker as ticker\n",
    "from matplotlib.finance import candlestick_ohlc,candlestick2_ohlc\n",
    "from matplotlib.finance import volume_overlay,volume_overlay2\n",
    "from matplotlib.dates import  DateFormatter, epoch2num\n",
    "    # https://matplotlib.org/api/finance_api.html#module-matplotlib.finance\n",
    "\n",
    "# API-specific imports (local install)\n",
    "import gdax\n",
    "    # Python setup.py install with environment activaated to install/use\n",
    "    # Do not use default gdax pip install package - that version of the package is currently broken\n",
    "\n",
    "# Pymongo import for connection to local client DB\n",
    "import pymongo\n",
    "from pymongo import MongoClient\n",
    "\n",
    "# Preprocessing Imports\n",
    "from sklearn.model_selection import train_test_split\n",
    "from sklearn.preprocessing import LabelEncoder, StandardScaler, MinMaxScaler, OneHotEncoder\n",
    "from keras.utils import to_categorical \n",
    "\n",
    "# ML Imports \n",
    "import tensorflow as tf\n",
    "import keras\n",
    "from keras.models import Sequential\n",
    "from keras.layers import Dense, Activation, Dropout\n",
    "from keras.layers import Embedding, Flatten\n",
    "from keras.layers import LSTM, GRU\n",
    "from keras.models import load_model\n",
    "from keras.models import model_from_json\n",
    "from keras import backend as K\n",
    "\n",
    "# autoSR() import requirements\n",
    "from sklearn.cluster import MeanShift, estimate_bandwidth\n",
    "from pandas_datareader import data, wb\n",
    "\n",
    "###########################################################################\n",
    "### Force Keras/TF to use CPU backend when GPU present by setting:\n",
    "    # {'CPU' : 1, 'GPU' : 0}\n",
    "    \n",
    "#num_cores = 4\n",
    "#config = tf.ConfigProto(intra_op_parallelism_threads=num_cores,\\\n",
    "        #inter_op_parallelism_threads=num_cores, allow_soft_placement=True,\\\n",
    "        #device_count = {'CPU' : 1, 'GPU' : 1})\n",
    "#session = tf.Session(config=config)\n",
    "#K.set_session(session)\n",
    "###########################################################################\n",
    "\n",
    "# Import to check check for GPU availability for tensorflow backend\n",
    "from tensorflow.python.client import device_lib\n",
    "\n",
    "# Verify GPU availability for tensorflow backend\n",
    "print(device_lib.list_local_devices())\n",
    "print(\"==============================================\")\n",
    "print(K.tensorflow_backend._get_available_gpus())"
   ]
  },
  {
   "cell_type": "code",
   "execution_count": 3,
   "metadata": {
    "collapsed": true
   },
   "outputs": [],
   "source": [
    "# Global variables\n",
    "\n",
    "# Boolean to drop existing mongo collection/scrape upon scrape() init\n",
    "dropFlag = False\n",
    "\n",
    "# Boolean to set size_delta to l2update values for first update to snapshot\n",
    "#firstUpdate = False\n",
    "firstUpdate_bids = False\n",
    "firstUpdate_asks = False\n",
    "\n",
    "# Value to track if feature_creation_inital() was run\n",
    "feature_creation_intital_run = False"
   ]
  },
  {
   "cell_type": "code",
   "execution_count": 4,
   "metadata": {
    "collapsed": true
   },
   "outputs": [],
   "source": [
    "# Connection establishment\n",
    "\n",
    "# Establish connection to GDAX public endpoint\n",
    "public_client = gdax.PublicClient()\n",
    "\n",
    "# Mongo database and collection specification:\n",
    "mongo_client = MongoClient('mongodb://localhost:27017/')\n",
    "db = mongo_client.btcusd_db\n",
    "btcusd_collection = db.btcusd_collection"
   ]
  },
  {
   "cell_type": "code",
   "execution_count": 5,
   "metadata": {
    "collapsed": true
   },
   "outputs": [],
   "source": [
    "# Function to start scrape process from websocket to mongodb instance\n",
    "def scrape_start():\n",
    "    \n",
    "    # Drop existing collection from db if dropFlag == True (on new scrape):\n",
    "    if 'btcusd_db' in mongo_client.database_names() and dropFlag is True:\n",
    "        mongo_client['btcusd_db'].drop_collection('btcusd_collection')\n",
    "        #print(mongo_client.database_names())\n",
    "        #print(db.collection_names())\n",
    "        \n",
    "    # Start instance of websocket client for L2 Orderbook + L2 update data request and scrape\n",
    "    wsClient = gdax.WebsocketClient(url=\"wss://ws-feed.gdax.com\", \n",
    "                                products=[\"BTC-USD\"],\\\n",
    "                                message_type=\"subscribe\",\\\n",
    "                                channels =[\"level2\"],\\\n",
    "                                mongo_collection=btcusd_collection,\\\n",
    "                                should_print=False)\n",
    "    \n",
    "    # Save request open time and start websocket\n",
    "    time.sleep(4)\n",
    "    request_time_start=public_client.get_time()\n",
    "    wsClient.start()\n",
    "    \n",
    "    # scrape_time is variable for time between websocket connection start and end\n",
    "        # Defined in seconds\n",
    "        # i.e. 600 seconds = scrape running for 10 minutes\n",
    "    scrape_time = 600\n",
    "\n",
    "    time.sleep(scrape_time)\n",
    "    # Save request close time and close websocket\n",
    "    request_time_end=public_client.get_time()\n",
    "    wsClient.close()\n",
    "    \n",
    "    # Append request times for open/close of websocket stream to dataframe, save to csv\n",
    "    request_log_df = pd.DataFrame.from_dict({'request start':request_time_start,'request end':request_time_end},orient ='index')\n",
    "    request_log_df.to_csv(\"raw_data/request_log.csv\",header=True,encoding='utf-8',index =True)\n",
    "\n",
    "# Function to load and parse data from Mongo into dataframes\n",
    "def load_parse():\n",
    "    \n",
    "    #Collection specification (in database)\n",
    "    input_data = db.btcusd_collection \n",
    "    \n",
    "    # Create individual dataframes for main response types: snapshot, l2update\n",
    "    snapshot = pd.DataFrame(list(input_data.find({'type':'snapshot'})))\n",
    "    l2update = pd.DataFrame(list(input_data.find({'type':'l2update'})))\n",
    "    \n",
    "    ### snapshot  response load and parse ###\n",
    "    \n",
    "    # Extract asks/bid individual column of array of arrays into lists\n",
    "    snapshot_asks = snapshot[['asks'][0]][0]\n",
    "    snapshot_bids = snapshot[['bids'][0]][0]\n",
    "    \n",
    "    # Convert list (of array of arrays) into dataframe\n",
    "    snapshot_asks_df =pd.DataFrame(snapshot_asks)\n",
    "    snapshot_bids_df =pd.DataFrame(snapshot_bids)\n",
    "    \n",
    "    # Rename columns to snapshot array format:\n",
    "        # snapshot array format: [price, size]\n",
    "            # [side, price, size] format for one-hot encoding\n",
    "        # Ask = sell price, bid = buy price\n",
    "    snapshot_asks_df.rename(columns ={0:'price',1:'size'}, inplace =True)\n",
    "    snapshot_bids_df.rename(columns ={0:'price',1:'size'}, inplace =True)\n",
    "    snapshot_asks_df['side'] = \"sell\"\n",
    "    snapshot_bids_df['side'] = \"buy\"\n",
    "    cols =['side','price','size']\n",
    "    snapshot_asks_df = snapshot_asks_df[cols]\n",
    "    snapshot_bids_df = snapshot_bids_df[cols]\n",
    "    \n",
    "    ### L2 update response load and parse ###\n",
    "    \n",
    "    # Restucture l2update to have [side,price,size] from 'changes' column\n",
    "    l2update_clean = l2update[['changes','time']]\n",
    "          \n",
    "    # Convert changes list of lists -> into array \n",
    "    l2_array = np.ravel(l2update_clean['changes']) \n",
    "    # Flatten the list and remove outer bracket:\n",
    "    flattened = [val for sublist in l2_array for val in sublist]\n",
    "        # Reference: https://stackoverflow.com/questions/11264684/flatten-list-of-lists?\n",
    "    # Convert back to dataframe and combine with timestamps from l2update:\n",
    "    changes_df= pd.DataFrame.from_records(flattened)\n",
    "    # Add time column back to L2 update dataframe\n",
    "    l2update_formatted = pd.concat([changes_df,l2update_clean['time']],1)\n",
    "    # Rename columns for [side, price, size]:\n",
    "    l2update_formatted.rename({0:\"side\",1:\"price\",2:\"size\"}, axis ='columns',inplace=True)\n",
    "    \n",
    "    # Save parsed data to csv (API -> Mongo -> Dataframe -> .csv)\n",
    "    #save_csv()\n",
    "    \n",
    "     # Save data to .csv format in raw_data folder\n",
    "    l2update_formatted.to_csv(\"raw_data/l2update.csv\",header=True,encoding='utf-8',index =False)\n",
    "    snapshot_asks_df.to_csv(\"raw_data/snapshot_asks.csv\",header=True,encoding='utf-8',index =False)\n",
    "    snapshot_bids_df.to_csv(\"raw_data/snapshot_bids.csv\",header=True,encoding='utf-8',index =False)"
   ]
  },
  {
   "cell_type": "code",
   "execution_count": 6,
   "metadata": {
    "collapsed": true
   },
   "outputs": [],
   "source": [
    "###########################################################################\n",
    "\n",
    "# Section to read in data from csv (definition scope of functions above not working for assignment:)\n",
    "    # Load in test data for development/debugging\n",
    "    \n",
    "# Read in data from raw_data folder instead of test_data folder\n",
    "    # raw_data folder has 1hr of scraped data (snapshot + l2 response updates)\n",
    "    # test_data folder only has 10 minutes of scraped data \n",
    "    \n",
    "snapshot_asks_df = pd.read_csv(\"raw_data/snapshot_asks.csv\",dtype ={'size':float,'size_delta':float})\n",
    "snapshot_bids_df = pd.read_csv(\"raw_data/snapshot_bids.csv\",dtype ={'size':float,'size_delta':float})\n",
    "l2update_df = pd.read_csv(\"raw_data/l2update.csv\", dtype ={'size':float})\n",
    "request_log_df= pd.read_csv(\"raw_data/request_log.csv\")\n",
    "\n",
    "###########################################################################"
   ]
  },
  {
   "cell_type": "code",
   "execution_count": 7,
   "metadata": {
    "collapsed": true
   },
   "outputs": [],
   "source": [
    "##### Request 15minute chart data #####\n",
    "\n",
    "#def chart_15m_request(request_log_df):\n",
    "\n",
    "request_start = request_log_df['iso'][1]\n",
    "request_end = request_log_df['iso'][0]\n",
    "\n",
    "# Request 15 minutes of candlestick (open high low close) data from API\n",
    "    # start time must be in ISO 8601 format for get_product_historic_rates()\n",
    "chart_15m = public_client.get_product_historic_rates('BTC-USD', start = request_start, granularity=60)\n",
    "\n",
    "# Convert chart data response into dataframes\n",
    "chart_15m_df =pd.DataFrame.from_records(chart_15m,columns=[\"time\",\"low\", \"high\",\"open\" ,\"close\", \"volume\"])\n",
    "\n",
    "# Reorder columns according to label order required by matplotlib finance package\n",
    "chart_15m_df = chart_15m_df[[\"time\",\"open\",\"high\",\"low\",\"close\",\"volume\"]]\n",
    "\n",
    "# Reverse/sort timestamp order (without reversal chart labels/axis will be out of order)\n",
    "chart_15m_df.sort_values(by='time',axis=0, inplace =True)\n",
    "\n",
    "#Convert/sort time to datetime object (for matplotlib chart format requirement)\n",
    "chart_15m_df['time'] =pd.to_datetime(chart_15m_df['time'],unit='s')\n",
    "    \n",
    "    "
   ]
  },
  {
   "cell_type": "code",
   "execution_count": 8,
   "metadata": {},
   "outputs": [],
   "source": [
    "# Auto support/resistance adapted into function \n",
    "    # Using estimate_bandwidth and meanshift() from sklearn.cluster library\n",
    "    # Source: Adapted from https://github.com/nakulnayyar/SupResGenerator\n",
    "    # Takes dataframe object with open/high/low/close values \n",
    "        # Returns list of auto-generated support and resistance levels for price action\n",
    "def autoSR(dataframe):\n",
    "    data = chart_15m_df.as_matrix(columns=['close'])\n",
    "    data2 = data[:len(data)*1]\n",
    "    bandwidth = estimate_bandwidth(data2, quantile=0.1, n_samples=100)\n",
    "    ms = MeanShift(bandwidth=bandwidth, bin_seeding=True)\n",
    "    ms.fit(data2)\n",
    "    ml_results = []\n",
    "    for k in range(len(np.unique(ms.labels_))):\n",
    "            my_members = ms.labels_ == k\n",
    "            values = data[my_members, 0]    \n",
    "            ml_results.append(min(values))\n",
    "            ml_results.append(max(values))\n",
    "            # Remove duplicate S/R level values\n",
    "            # Using sets\n",
    "            ml_set =set(ml_results)\n",
    "            ml_results = list(ml_set)\n",
    "            # Sort values before return output \n",
    "            ml_results.sort()\n",
    "            \n",
    "    return ml_results\n",
    "\n",
    "def generate_chart(dataframe):\n",
    "    \n",
    "    dataframe = chart_15m_df \n",
    "    \n",
    "    # Generate chart of past 15 minutes with autogenerated support and resistance levels:\n",
    "    fig, ax = plt.subplots(figsize=(20, 10)\n",
    "                         )\n",
    "    candlestick2_ohlc(ax,chart_15m_df['open'],chart_15m_df['high'],chart_15m_df['low'],chart_15m_df['close'],width=2,\\\n",
    "                      colorup='k',colordown='r',alpha=.5)\n",
    "    ax.set_xticklabels(chart_15m_df['time'] ,rotation=30)\n",
    "    \n",
    "    ax.xaxis.set_major_locator(ticker.MaxNLocator(17))\n",
    "        # n + 2 for proper labe set at 20,18 chart size\n",
    "        # 15 + 2 =17\n",
    "    plt.yticks(np.arange(int(min(chart_15m_df['low'])-5), max(chart_15m_df['high'])+10, 5))\n",
    "    plt.xlabel('Time')\n",
    "    plt.ylabel('Price (USD)')\n",
    "    #ax.minorticks_on()\n",
    "    ax.set_axisbelow(True)\n",
    "    ax.tick_params(axis='y', pad=10)\n",
    "    ax.grid(which='major', linestyle='--', linewidth='0.1', color='b')\n",
    "    matplotlib.pyplot.title(\"15 Min BTC/USD with Support/Resistance Levels\")\n",
    "    \n",
    "   \n",
    "    ml_results = autoSR(chart_15m_df)\n",
    "    \n",
    "    # Convert ml_results into sorted int array\n",
    "    ml_results_modified =np.asarray(ml_results)\n",
    "    ml_results_modified =np.trunc(ml_results_modified).astype(int)\n",
    "    ml_results_modified = np.sort(ml_results_modified,kind = 'quicksort') \n",
    "    # Remove duplicates from int conversion\n",
    "    ml_results_modified_set=set(ml_results_modified)\n",
    "    ml_results_modified = list(ml_results_modified_set)\n",
    "    ml_results_modified = np.sort(ml_results_modified,kind = 'quicksort')\n",
    "    ml_results_modified\n",
    "    \n",
    "    # Add S/R labels to left side of chart\n",
    "    count = 0.5   \n",
    "    for k in ml_results_modified:\n",
    "        \n",
    "        count = count*1.45\n",
    "        ax.axhline(y=k)\n",
    "        ax.text(y=k,s=k,x=count,color='blue',rotation=45)\n",
    "    #plt.tight_layout()\n",
    "    return plt.show()\n",
    "    #return plt.show(), ml_results"
   ]
  },
  {
   "cell_type": "code",
   "execution_count": null,
   "metadata": {
    "collapsed": true
   },
   "outputs": [],
   "source": []
  },
  {
   "cell_type": "code",
   "execution_count": 9,
   "metadata": {
    "scrolled": true
   },
   "outputs": [],
   "source": [
    "#generate_chart(chart_15m_df)"
   ]
  },
  {
   "cell_type": "code",
   "execution_count": null,
   "metadata": {},
   "outputs": [],
   "source": []
  },
  {
   "cell_type": "code",
   "execution_count": 10,
   "metadata": {
    "collapsed": true
   },
   "outputs": [],
   "source": [
    "# create and set inital/placeholder values for size_delta, position, and sr_prox_value/line input features \n",
    "    # run once upon new scrape only\n",
    "def feature_creation_inital():\n",
    "    #global feature_creation_intital_run\n",
    "    \n",
    "    #if feature_creation_inital_run() == False:\n",
    "        #global feature_creation_intital_run\n",
    "        \n",
    "        \n",
    "        \n",
    "    # Set inital size delta l2 snapshot - use decimal point to force as float\n",
    "    snapshot_asks_df['size_delta'] = 0.0\n",
    "    snapshot_bids_df['size_delta'] = 0.0\n",
    "\n",
    "    # Set inital position for l2 snapshot\n",
    "    snapshot_asks_df['position'] = snapshot_asks_df.index +1\n",
    "    snapshot_bids_df['position'] = snapshot_bids_df.index +1\n",
    "\n",
    "    # Reverse index for sell/asks\n",
    "    # snapshot_asks_df =snapshot_asks_df[::-1]\n",
    "    # Reverse inital position indicator for bids/buy side\n",
    "    rev = snapshot_bids_df['position'].values * -1\n",
    "    snapshot_bids_df['position'] = rev\n",
    "\n",
    "    # Set inital proximity value and inital value for nearest prox line\n",
    "    snapshot_asks_df['sr_prox_value'] = 0\n",
    "    snapshot_asks_df['sr_prox_line'] = 0\n",
    "    snapshot_bids_df['sr_prox_value'] = 0\n",
    "    snapshot_bids_df['sr_prox_line'] = 0\n",
    "\n",
    "    # Set feature_creation_inital_run flag to True once run\n",
    "    feature_creation_inital_run = True\n",
    "        \n",
    "        \n",
    "        \n",
    "    #elif feature_creation_inital_run == True:\n",
    "        #global feature_creation_intital_run\n",
    "        # Required syntax for logical operator/ if-else structure, but does nothing as a result\n",
    "        # i.e., a \"pass\"\n",
    "        \n",
    "        #print(\"pass\")\n",
    "        #pass"
   ]
  },
  {
   "cell_type": "code",
   "execution_count": 11,
   "metadata": {
    "collapsed": true
   },
   "outputs": [],
   "source": [
    "# L2 update states applied to snapshot over a defined interval (15m, in sync with chart update)\n",
    "    # Applied to both snapshot_bids_df and snapshot_asks_df\n",
    "    # Must be run before sr_update()\n",
    "def l2_state_update():\n",
    "    \n",
    "    global firstUpdate_bids \n",
    "    global firstUpdate_asks\n",
    "    \n",
    "    for i in range(len(snapshot_bids_df)):\n",
    "\n",
    "        # If size in l2update_df is 0, remove that row/price point from the orderbook state\n",
    "        if l2update_df['size'].values[i] == 0:\n",
    "            #print (snapshot_bids_df['price'].values[i])\n",
    "            snapshot_bids_df.drop(snapshot_bids_df.index[i])\n",
    "\n",
    "        #First update to snapshot, set 'size_delta' to l2update values\n",
    "            # Note: Keep here or move to end of feature_creation_inital depending on execution order\n",
    "        elif l2update_df['size'].values[i] != 0 & firstUpdate_bids == False:\n",
    "            snapshot_bids_df['size_delta'].values[i] = l2update_df['size'].values[i]\n",
    "            firstUpdate_bids = True\n",
    "        #Subsequent size delta calc\n",
    "        elif l2update_df['size'].values[i] != 0:\n",
    "            currentsize =snapshot_bids_df['size'].values[i] \n",
    "            updatesize = l2update_df['size'].values[i]\n",
    "            snapshot_bids_df['size_delta'].values[i] = updatesize-currentsize\n",
    "\n",
    "        # Update positional values for bids snapshot\n",
    "        snapshot_bids_df['position'] = snapshot_bids_df.index + 1\n",
    "        rev = snapshot_bids_df['position'].values * -1\n",
    "        snapshot_bids_df['position'] = rev \n",
    "\n",
    "    for i in range(len(snapshot_asks_df)):\n",
    "\n",
    "        # If size in l2update_df is 0, remove that row/price point from the orderbook state\n",
    "        if l2update_df['size'].values[i] == 0:\n",
    "            #print (snapshot_asks_df['price'].values[i])\n",
    "            snapshot_asks_df.drop(snapshot_asks_df.index[i])\n",
    "\n",
    "        #First update to snapshot, set 'size_delta' to l2update values\n",
    "            # Note: Keep here or move to end of feature_creation_inital depending on execution order\n",
    "        elif l2update_df['size'].values[i] != 0 & firstUpdate_asks == False:\n",
    "            snapshot_asks_df['size_delta'].values[i] = l2update_df['size'].values[i]\n",
    "            firstUpdate_asks = True\n",
    "        #Subsequent size delta calc\n",
    "        elif l2update_df['size'].values[i] != 0:\n",
    "            currentsize =snapshot_asks_df['size'].values[i] \n",
    "            updatesize = l2update_df['size'].values[i]\n",
    "            snapshot_asks_df['size_delta'].values[i] = updatesize-currentsize\n",
    "\n",
    "        # Update positional values for_asks snapshot\n",
    "        snapshot_asks_df['position'] = snapshot_asks_df.index + 1\n",
    "        #rev = snapshot_asks_df['position'].values * -1\n",
    "        #snapshot_asks_df['position'] = rev "
   ]
  },
  {
   "cell_type": "code",
   "execution_count": 12,
   "metadata": {
    "collapsed": true
   },
   "outputs": [],
   "source": [
    "# Function to update sr_prox_line and sr_prox_value between orderbook states\n",
    "    # Note: l2_state_update applied first, then sr_update(); switch order if linear calls or switch execution block cell\n",
    "    # Must be run before model input in sequence\n",
    "def sr_update():\n",
    "    \n",
    "    # Convert to array for loop value traversal        \n",
    "    ml_results_modified_array = np.array(ml_results_modified)\n",
    "\n",
    "    ### snapshot_asks sr_prox_line,sr_prox_value set ###\n",
    "    for i in range(len(snapshot_asks_df['price'])):\n",
    "        #if snapshot_asks_df['price'].values[i] in ml_results_modified: \n",
    "            priceInt = int(snapshot_asks_df['price'].values[i])\n",
    "            diff =abs(ml_results_modified - priceInt)\n",
    "            diff_array = np.array(diff)\n",
    "            lowest_abs =min(diff)\n",
    "            #print(\"=============================\")\n",
    "            #print(\"Price: \")\n",
    "            #print(snapshot_asks_df['price'].values[i])\n",
    "            #print(\"Diff:\")\n",
    "            #print(diff)\n",
    "            #print(\"lowest_abs value: \")\n",
    "            #print(lowest_abs)\n",
    "            minIndex= list(diff_array).index(lowest_abs)\n",
    "            #print(\"Closest S/R line:\")\n",
    "            #print(ml_results_modified[minIndex])\n",
    "            #print(\"=============================\")\n",
    "\n",
    "            #Set sr_prox_value to distance from closest S/R line\n",
    "            snapshot_asks_df['sr_prox_value'].values[i] = lowest_abs\n",
    "            #Set sr_prox_line value\n",
    "            snapshot_asks_df['sr_prox_line'].values[i] = ml_results_modified[minIndex]\n",
    "\n",
    "    ### snapshot_bids sr_prox_line,sr_prox_value set ###\n",
    "    for i in range(len(snapshot_bids_df['price'])):\n",
    "        #if snapshot_bids_df['price'].values[i] in ml_results_modified: \n",
    "            priceInt = int(snapshot_bids_df['price'].values[i])\n",
    "            diff =abs(ml_results_modified - priceInt)\n",
    "            diff_array = np.array(diff)\n",
    "            lowest_abs =min(diff)\n",
    "            #print(\"=============================\")\n",
    "            #print(\"Price: \")\n",
    "            #print(snapshot_bids_df['price'].values[i])\n",
    "            #print(\"Diff:\")\n",
    "            #print(diff)\n",
    "            #print(\"lowest_abs value: \")\n",
    "            #print(lowest_abs)\n",
    "            minIndex= list(diff_array).index(lowest_abs)\n",
    "            #print(\"Closest S/R line:\")\n",
    "            #print(ml_results_modified[minIndex])\n",
    "            #print(\"=============================\")\n",
    "\n",
    "            #Set sr_prox_value to distance from closest S/R line\n",
    "            snapshot_bids_df['sr_prox_value'].values[i] = lowest_abs\n",
    "            #Set sr_prox_line value\n",
    "            snapshot_bids_df['sr_prox_line'].values[i] = ml_results_modified[minIndex]"
   ]
  },
  {
   "cell_type": "code",
   "execution_count": 13,
   "metadata": {
    "collapsed": true
   },
   "outputs": [],
   "source": [
    "###########################################################################\n",
    "###########################################################################\n",
    "###########################################################################\n",
    "\n",
    "\n",
    "# Debugging:"
   ]
  },
  {
   "cell_type": "code",
   "execution_count": 14,
   "metadata": {},
   "outputs": [
    {
     "data": {
      "text/plain": [
       "[9319.23,\n",
       " 9328.01,\n",
       " 9331.18,\n",
       " 9345.0,\n",
       " 9361.24,\n",
       " 9364.99,\n",
       " 9381.01,\n",
       " 9381.97,\n",
       " 9390.9,\n",
       " 9391.95,\n",
       " 9407.0,\n",
       " 9407.5,\n",
       " 9425.01,\n",
       " 9428.1,\n",
       " 9438.63,\n",
       " 9439.43,\n",
       " 9450.0,\n",
       " 9454.0,\n",
       " 9466.36,\n",
       " 9468.32,\n",
       " 9480.02,\n",
       " 9482.89,\n",
       " 9489.62]"
      ]
     },
     "execution_count": 14,
     "metadata": {},
     "output_type": "execute_result"
    }
   ],
   "source": [
    "# Assignment of ml_results from function:\n",
    "ml_results = autoSR(chart_15m_df)\n",
    "autoSR(chart_15m_df)"
   ]
  },
  {
   "cell_type": "code",
   "execution_count": 15,
   "metadata": {},
   "outputs": [
    {
     "data": {
      "image/png": "[encoded data removed]",
      "text/plain": [
       "<matplotlib.figure.Figure at 0x23cba1ec240>"
      ]
     },
     "metadata": {},
     "output_type": "display_data"
    }
   ],
   "source": [
    "generate_chart(chart_15m_df)"
   ]
  },
  {
   "cell_type": "code",
   "execution_count": null,
   "metadata": {
    "collapsed": true
   },
   "outputs": [],
   "source": []
  },
  {
   "cell_type": "code",
   "execution_count": 16,
   "metadata": {},
   "outputs": [
    {
     "data": {
      "text/plain": [
       "array([9319, 9328, 9331, 9345, 9361, 9364, 9381, 9390, 9391, 9407, 9425,\n",
       "       9428, 9438, 9439, 9450, 9454, 9466, 9468, 9480, 9482, 9489])"
      ]
     },
     "execution_count": 16,
     "metadata": {},
     "output_type": "execute_result"
    }
   ],
   "source": [
    "# Data structures for scrape/request log and support/resistance (predicted vs actual)\n",
    "    # request start, request end\n",
    "    # current s/r levels: chart 15m data + ml_results (actual)\n",
    "    # predicted s/r levels: ml_results (predicted)\n",
    "    # current s/r levels vs predicted for current timeframe (training vs testing)\n",
    "\n",
    "# Convert ml_results into sorted int array\n",
    "ml_results_modified =np.asarray(ml_results)\n",
    "ml_results_modified =np.trunc(ml_results_modified).astype(int)\n",
    "ml_results_modified = np.sort(ml_results_modified,kind = 'quicksort') \n",
    "# Remove duplicates from int conversion\n",
    "ml_results_modified_set=set(ml_results_modified)\n",
    "ml_results_modified = list(ml_results_modified_set)\n",
    "ml_results_modified = np.sort(ml_results_modified,kind = 'quicksort')\n",
    "ml_results_modified"
   ]
  },
  {
   "cell_type": "code",
   "execution_count": null,
   "metadata": {
    "collapsed": true
   },
   "outputs": [],
   "source": []
  },
  {
   "cell_type": "code",
   "execution_count": 17,
   "metadata": {},
   "outputs": [
    {
     "data": {
      "text/html": [
       "<div>\n",
       "<style>\n",
       "    .dataframe thead tr:only-child th {\n",
       "        text-align: right;\n",
       "    }\n",
       "\n",
       "    .dataframe thead th {\n",
       "        text-align: left;\n",
       "    }\n",
       "\n",
       "    .dataframe tbody tr th {\n",
       "        vertical-align: top;\n",
       "    }\n",
       "</style>\n",
       "<table border=\"1\" class=\"dataframe\">\n",
       "  <thead>\n",
       "    <tr style=\"text-align: right;\">\n",
       "      <th></th>\n",
       "      <th>side</th>\n",
       "      <th>price</th>\n",
       "      <th>size</th>\n",
       "      <th>size_delta</th>\n",
       "      <th>position</th>\n",
       "      <th>sr_prox_value</th>\n",
       "      <th>sr_prox_line</th>\n",
       "    </tr>\n",
       "  </thead>\n",
       "  <tbody>\n",
       "    <tr>\n",
       "      <th>0</th>\n",
       "      <td>sell</td>\n",
       "      <td>9192.01</td>\n",
       "      <td>4.660822</td>\n",
       "      <td>0.0100</td>\n",
       "      <td>1</td>\n",
       "      <td>127</td>\n",
       "      <td>9319</td>\n",
       "    </tr>\n",
       "    <tr>\n",
       "      <th>1</th>\n",
       "      <td>sell</td>\n",
       "      <td>9194.95</td>\n",
       "      <td>1.086830</td>\n",
       "      <td>0.0015</td>\n",
       "      <td>2</td>\n",
       "      <td>125</td>\n",
       "      <td>9319</td>\n",
       "    </tr>\n",
       "    <tr>\n",
       "      <th>2</th>\n",
       "      <td>sell</td>\n",
       "      <td>9194.99</td>\n",
       "      <td>0.001500</td>\n",
       "      <td>0.0000</td>\n",
       "      <td>3</td>\n",
       "      <td>125</td>\n",
       "      <td>9319</td>\n",
       "    </tr>\n",
       "    <tr>\n",
       "      <th>3</th>\n",
       "      <td>sell</td>\n",
       "      <td>9195.00</td>\n",
       "      <td>2.061000</td>\n",
       "      <td>0.0000</td>\n",
       "      <td>4</td>\n",
       "      <td>124</td>\n",
       "      <td>9319</td>\n",
       "    </tr>\n",
       "    <tr>\n",
       "      <th>4</th>\n",
       "      <td>sell</td>\n",
       "      <td>9195.01</td>\n",
       "      <td>2.463947</td>\n",
       "      <td>0.0015</td>\n",
       "      <td>5</td>\n",
       "      <td>124</td>\n",
       "      <td>9319</td>\n",
       "    </tr>\n",
       "  </tbody>\n",
       "</table>\n",
       "</div>"
      ],
      "text/plain": [
       "   side    price      size  size_delta  position  sr_prox_value  sr_prox_line\n",
       "0  sell  9192.01  4.660822      0.0100         1            127          9319\n",
       "1  sell  9194.95  1.086830      0.0015         2            125          9319\n",
       "2  sell  9194.99  0.001500      0.0000         3            125          9319\n",
       "3  sell  9195.00  2.061000      0.0000         4            124          9319\n",
       "4  sell  9195.01  2.463947      0.0015         5            124          9319"
      ]
     },
     "execution_count": 17,
     "metadata": {},
     "output_type": "execute_result"
    }
   ],
   "source": [
    "###########################################################################\n",
    "\n",
    "# Create inital features for snapshot_asks_df\n",
    "    # feature_creation_inital()\n",
    "# Apply first L2 state update to snapshot\n",
    "    # l2_state_update()\n",
    "# Update/apply sr_prox_value and sr_prox_line to updated snapshot\n",
    "    # sr_update()\n",
    "    \n",
    "feature_creation_inital()\n",
    "l2_state_update()\n",
    "sr_update()\n",
    "\n",
    "# Information about snapshot_asks_df for:\n",
    "    # input shape information \n",
    "    # and to verify that the above three functions were applied\n",
    "snapshot_asks_df.head()"
   ]
  },
  {
   "cell_type": "code",
   "execution_count": 18,
   "metadata": {},
   "outputs": [
    {
     "data": {
      "text/plain": [
       "array([9319, 9328, 9331, 9345, 9361, 9364, 9381, 9390, 9391, 9407, 9425,\n",
       "       9428, 9438, 9439, 9450, 9454, 9466, 9468, 9480, 9482, 9489])"
      ]
     },
     "execution_count": 18,
     "metadata": {},
     "output_type": "execute_result"
    }
   ],
   "source": [
    "# Results for predicted S/R levels may vary in total element/array length\n",
    "    # But will still be array similar in shape to the below \n",
    "    # Length may vary slightly between 15m intervals\n",
    "ml_results_modified"
   ]
  },
  {
   "cell_type": "code",
   "execution_count": 19,
   "metadata": {},
   "outputs": [
    {
     "data": {
      "text/plain": [
       "21"
      ]
     },
     "execution_count": 19,
     "metadata": {},
     "output_type": "execute_result"
    }
   ],
   "source": [
    "# Length of ml_results_modified (for this specific 15m run/request at this point in time)\n",
    "np.size(ml_results_modified)"
   ]
  },
  {
   "cell_type": "code",
   "execution_count": null,
   "metadata": {
    "collapsed": true
   },
   "outputs": [],
   "source": []
  },
  {
   "cell_type": "code",
   "execution_count": null,
   "metadata": {
    "collapsed": true
   },
   "outputs": [],
   "source": []
  },
  {
   "cell_type": "code",
   "execution_count": 66,
   "metadata": {},
   "outputs": [],
   "source": [
    "###### One-hot encoding if using classification/classes for target variable (y)\n",
    "\n",
    "# Cat+ One hot encoding if using sr_prox_line column as target classes\n",
    "data = snapshot_asks_df.values\n",
    "X = data[:,2:6]\n",
    "y = data[:,6:7]\n",
    "y = np.ravel(y)\n",
    "label_encoder = LabelEncoder()\n",
    "encoded_y = label_encoder.fit_transform(y)\n",
    "onehot_encoder = OneHotEncoder(sparse=False)\n",
    "encoded_y = encoded_y.reshape(len(encoded_y), 1)\n",
    "onehot_y = onehot_encoder.fit_transform(encoded_y)"
   ]
  },
  {
   "cell_type": "code",
   "execution_count": 67,
   "metadata": {},
   "outputs": [
    {
     "name": "stdout",
     "output_type": "stream",
     "text": [
      "(14078, 7)\n",
      "Shape without side column :\n",
      "(14078, 4)\n",
      "(14078,)\n",
      "(14078, 21)\n"
     ]
    }
   ],
   "source": [
    "# Shape information for input shaping\n",
    "print(data.shape)\n",
    "print(\"Shape without side column :\")\n",
    "print(X.shape)\n",
    "print(y.shape)\n",
    "print(onehot_y.shape)"
   ]
  },
  {
   "cell_type": "code",
   "execution_count": 68,
   "metadata": {},
   "outputs": [
    {
     "name": "stdout",
     "output_type": "stream",
     "text": [
      "(14078, 4)\n",
      "(14078, 1, 4)\n"
     ]
    }
   ],
   "source": [
    "# Reshape X into format required for LSTM/GRU input:\n",
    "\n",
    "print(X.shape)\n",
    "Xshapetest = np.reshape(X, (X.shape[0], 1, X.shape[1]))\n",
    "print(Xshapetest.shape)"
   ]
  },
  {
   "cell_type": "code",
   "execution_count": 69,
   "metadata": {},
   "outputs": [
    {
     "data": {
      "text/plain": [
       "14078"
      ]
     },
     "execution_count": 69,
     "metadata": {},
     "output_type": "execute_result"
    }
   ],
   "source": [
    "Xshapetest.shape[0]"
   ]
  },
  {
   "cell_type": "code",
   "execution_count": 70,
   "metadata": {},
   "outputs": [
    {
     "name": "stdout",
     "output_type": "stream",
     "text": [
      "(14078, 21)\n"
     ]
    }
   ],
   "source": [
    "print(onehot_y.shape)"
   ]
  },
  {
   "cell_type": "code",
   "execution_count": 74,
   "metadata": {
    "collapsed": true
   },
   "outputs": [],
   "source": [
    "# Command to reset state of each LSTM layer\n",
    "model.reset_states()"
   ]
  },
  {
   "cell_type": "code",
   "execution_count": 71,
   "metadata": {
    "scrolled": true
   },
   "outputs": [
    {
     "name": "stdout",
     "output_type": "stream",
     "text": [
      "_________________________________________________________________\n",
      "Layer (type)                 Output Shape              Param #   \n",
      "=================================================================\n",
      "lstm_23 (LSTM)               (14078, 1, 50)            11000     \n",
      "_________________________________________________________________\n",
      "lstm_24 (LSTM)               (14078, 1, 25)            7600      \n",
      "_________________________________________________________________\n",
      "lstm_25 (LSTM)               (14078, 10)               1440      \n",
      "_________________________________________________________________\n",
      "dense_8 (Dense)              (14078, 21)               231       \n",
      "=================================================================\n",
      "Total params: 20,271\n",
      "Trainable params: 20,271\n",
      "Non-trainable params: 0\n",
      "_________________________________________________________________\n"
     ]
    }
   ],
   "source": [
    "### Model construction ###\n",
    "\n",
    "data_dim = Xshapetest.shape[2]\n",
    "    # Features\n",
    "timesteps = Xshapetest.shape[1]\n",
    "    # Timesteps\n",
    "batch_size = Xshapetest.shape[0]\n",
    "    # required parameter for LSTM if stateful = True\n",
    "    # Size of entire batch or batch sizes\n",
    "    \n",
    "#1024,512,256 --> when using GPU\n",
    "#50, 25, 10 --> when using CPU-only \n",
    "\n",
    "model = Sequential()\n",
    "model.add(LSTM(50, return_sequences=True, stateful=True,\n",
    "               batch_input_shape=(batch_size , timesteps, data_dim )))\n",
    "                                                #input_shape(batch_size, timesteps,features)\n",
    "                                                #input_shape(timesteps,features)\n",
    "model.add(LSTM(25, return_sequences=True,stateful=True ))\n",
    "model.add(LSTM(10, return_sequences=False,stateful=True ))\n",
    "#model.add(Dropout(dropout),0.2)\n",
    "#model.add(LSTM(128, return_sequences=True,stateful=True ))\n",
    "#model.add(LSTM(64, return_sequences=False,stateful=True ))\n",
    "#model.add(LSTM(64, return_sequences=False,stateful=True ))\n",
    "model.add(Dense(onehot_y.shape[1], activation='relu'))\n",
    "#model.add(Dense(1, activation='relu'))\n",
    "model.compile(loss = \"categorical_crossentropy\", optimizer = 'rmsprop', metrics = ['accuracy'])\n",
    "#model.compile(loss = \"logcosh\", optimizer = 'adam', metrics = ['accuracy'])\n",
    "model.summary() "
   ]
  },
  {
   "cell_type": "code",
   "execution_count": null,
   "metadata": {
    "collapsed": true
   },
   "outputs": [],
   "source": []
  },
  {
   "cell_type": "code",
   "execution_count": 75,
   "metadata": {},
   "outputs": [
    {
     "name": "stdout",
     "output_type": "stream",
     "text": [
      "Epoch 1/10\n",
      " - 0s - loss: 2.7545 - acc: 0.8224\n",
      "Epoch 2/10\n",
      " - 0s - loss: 3.1061 - acc: 0.8045\n",
      "Epoch 3/10\n",
      " - 0s - loss: 3.1765 - acc: 0.8052\n",
      "Epoch 4/10\n",
      " - 0s - loss: 3.1934 - acc: 0.8047\n",
      "Epoch 5/10\n",
      " - 0s - loss: 3.2278 - acc: 0.8047\n",
      "Epoch 6/10\n",
      " - 0s - loss: 3.2407 - acc: 0.8047\n",
      "Epoch 7/10\n",
      " - 0s - loss: 3.2336 - acc: 0.8048\n",
      "Epoch 8/10\n",
      " - 0s - loss: 3.2202 - acc: 0.8049\n",
      "Epoch 9/10\n",
      " - 0s - loss: 3.1944 - acc: 0.8026\n",
      "Epoch 10/10\n",
      " - 0s - loss: 3.1611 - acc: 0.8027\n"
     ]
    },
    {
     "data": {
      "text/plain": [
       "<keras.callbacks.History at 0x23c82ef9f60>"
      ]
     },
     "execution_count": 75,
     "metadata": {},
     "output_type": "execute_result"
    }
   ],
   "source": [
    "model.fit(\n",
    "    Xshapetest,\n",
    "    onehot_y, \n",
    "    epochs=10,\n",
    "    shuffle=False, #Set shuffle to false when stateful = True in model definition above\n",
    "    verbose=2,\n",
    "    batch_size=batch_size  #validation_data=(X, onehot_y)\n",
    ")"
   ]
  },
  {
   "cell_type": "code",
   "execution_count": 28,
   "metadata": {},
   "outputs": [],
   "source": [
    "\n"
   ]
  },
  {
   "cell_type": "code",
   "execution_count": null,
   "metadata": {
    "collapsed": true
   },
   "outputs": [],
   "source": []
  },
  {
   "cell_type": "code",
   "execution_count": null,
   "metadata": {
    "collapsed": true
   },
   "outputs": [],
   "source": []
  },
  {
   "cell_type": "code",
   "execution_count": 29,
   "metadata": {},
   "outputs": [],
   "source": []
  },
  {
   "cell_type": "code",
   "execution_count": 116,
   "metadata": {},
   "outputs": [
    {
     "name": "stdout",
     "output_type": "stream",
     "text": [
      "[ 0  1  2  6  7  9 20]\n"
     ]
    }
   ],
   "source": [
    "# Examination of predicted classes if using one-hot encoding\n",
    "\n",
    "model.predict_classes(Xshapetest,batch_size=batch_size)\n",
    "b = model.predict_classes(Xshapetest,batch_size=batch_size)\n",
    "print(np.unique(b))"
   ]
  },
  {
   "cell_type": "code",
   "execution_count": 117,
   "metadata": {
    "scrolled": false
   },
   "outputs": [
    {
     "data": {
      "text/html": [
       "<div>\n",
       "<style>\n",
       "    .dataframe thead tr:only-child th {\n",
       "        text-align: right;\n",
       "    }\n",
       "\n",
       "    .dataframe thead th {\n",
       "        text-align: left;\n",
       "    }\n",
       "\n",
       "    .dataframe tbody tr th {\n",
       "        vertical-align: top;\n",
       "    }\n",
       "</style>\n",
       "<table border=\"1\" class=\"dataframe\">\n",
       "  <thead>\n",
       "    <tr style=\"text-align: right;\">\n",
       "      <th></th>\n",
       "      <th>0</th>\n",
       "      <th>1</th>\n",
       "      <th>2</th>\n",
       "      <th>3</th>\n",
       "      <th>4</th>\n",
       "      <th>5</th>\n",
       "      <th>6</th>\n",
       "      <th>7</th>\n",
       "      <th>8</th>\n",
       "      <th>9</th>\n",
       "      <th>...</th>\n",
       "      <th>11</th>\n",
       "      <th>12</th>\n",
       "      <th>13</th>\n",
       "      <th>14</th>\n",
       "      <th>15</th>\n",
       "      <th>16</th>\n",
       "      <th>17</th>\n",
       "      <th>18</th>\n",
       "      <th>19</th>\n",
       "      <th>20</th>\n",
       "    </tr>\n",
       "  </thead>\n",
       "  <tbody>\n",
       "    <tr>\n",
       "      <th>0</th>\n",
       "      <td>0.179491</td>\n",
       "      <td>0.003421</td>\n",
       "      <td>0.0</td>\n",
       "      <td>0.036583</td>\n",
       "      <td>0.0</td>\n",
       "      <td>0.0</td>\n",
       "      <td>0.113668</td>\n",
       "      <td>0.176030</td>\n",
       "      <td>0.0</td>\n",
       "      <td>0.0</td>\n",
       "      <td>...</td>\n",
       "      <td>0.204596</td>\n",
       "      <td>0.0</td>\n",
       "      <td>0.102238</td>\n",
       "      <td>0.0</td>\n",
       "      <td>0.0</td>\n",
       "      <td>0.0</td>\n",
       "      <td>0.124751</td>\n",
       "      <td>0.084623</td>\n",
       "      <td>0.0</td>\n",
       "      <td>0.294073</td>\n",
       "    </tr>\n",
       "    <tr>\n",
       "      <th>1</th>\n",
       "      <td>0.175935</td>\n",
       "      <td>0.003276</td>\n",
       "      <td>0.0</td>\n",
       "      <td>0.032565</td>\n",
       "      <td>0.0</td>\n",
       "      <td>0.0</td>\n",
       "      <td>0.098013</td>\n",
       "      <td>0.182636</td>\n",
       "      <td>0.0</td>\n",
       "      <td>0.0</td>\n",
       "      <td>...</td>\n",
       "      <td>0.216790</td>\n",
       "      <td>0.0</td>\n",
       "      <td>0.107065</td>\n",
       "      <td>0.0</td>\n",
       "      <td>0.0</td>\n",
       "      <td>0.0</td>\n",
       "      <td>0.138698</td>\n",
       "      <td>0.076115</td>\n",
       "      <td>0.0</td>\n",
       "      <td>0.306917</td>\n",
       "    </tr>\n",
       "    <tr>\n",
       "      <th>2</th>\n",
       "      <td>0.174308</td>\n",
       "      <td>0.004939</td>\n",
       "      <td>0.0</td>\n",
       "      <td>0.029948</td>\n",
       "      <td>0.0</td>\n",
       "      <td>0.0</td>\n",
       "      <td>0.089879</td>\n",
       "      <td>0.184668</td>\n",
       "      <td>0.0</td>\n",
       "      <td>0.0</td>\n",
       "      <td>...</td>\n",
       "      <td>0.220630</td>\n",
       "      <td>0.0</td>\n",
       "      <td>0.109540</td>\n",
       "      <td>0.0</td>\n",
       "      <td>0.0</td>\n",
       "      <td>0.0</td>\n",
       "      <td>0.143869</td>\n",
       "      <td>0.071366</td>\n",
       "      <td>0.0</td>\n",
       "      <td>0.310320</td>\n",
       "    </tr>\n",
       "    <tr>\n",
       "      <th>3</th>\n",
       "      <td>0.173934</td>\n",
       "      <td>0.006946</td>\n",
       "      <td>0.0</td>\n",
       "      <td>0.029963</td>\n",
       "      <td>0.0</td>\n",
       "      <td>0.0</td>\n",
       "      <td>0.088067</td>\n",
       "      <td>0.181593</td>\n",
       "      <td>0.0</td>\n",
       "      <td>0.0</td>\n",
       "      <td>...</td>\n",
       "      <td>0.217607</td>\n",
       "      <td>0.0</td>\n",
       "      <td>0.109055</td>\n",
       "      <td>0.0</td>\n",
       "      <td>0.0</td>\n",
       "      <td>0.0</td>\n",
       "      <td>0.141636</td>\n",
       "      <td>0.070183</td>\n",
       "      <td>0.0</td>\n",
       "      <td>0.305450</td>\n",
       "    </tr>\n",
       "    <tr>\n",
       "      <th>4</th>\n",
       "      <td>0.172817</td>\n",
       "      <td>0.008806</td>\n",
       "      <td>0.0</td>\n",
       "      <td>0.028711</td>\n",
       "      <td>0.0</td>\n",
       "      <td>0.0</td>\n",
       "      <td>0.083006</td>\n",
       "      <td>0.181090</td>\n",
       "      <td>0.0</td>\n",
       "      <td>0.0</td>\n",
       "      <td>...</td>\n",
       "      <td>0.217771</td>\n",
       "      <td>0.0</td>\n",
       "      <td>0.109911</td>\n",
       "      <td>0.0</td>\n",
       "      <td>0.0</td>\n",
       "      <td>0.0</td>\n",
       "      <td>0.143011</td>\n",
       "      <td>0.067002</td>\n",
       "      <td>0.0</td>\n",
       "      <td>0.304695</td>\n",
       "    </tr>\n",
       "    <tr>\n",
       "      <th>5</th>\n",
       "      <td>0.182242</td>\n",
       "      <td>0.005990</td>\n",
       "      <td>0.0</td>\n",
       "      <td>0.030355</td>\n",
       "      <td>0.0</td>\n",
       "      <td>0.0</td>\n",
       "      <td>0.069715</td>\n",
       "      <td>0.202152</td>\n",
       "      <td>0.0</td>\n",
       "      <td>0.0</td>\n",
       "      <td>...</td>\n",
       "      <td>0.220106</td>\n",
       "      <td>0.0</td>\n",
       "      <td>0.126432</td>\n",
       "      <td>0.0</td>\n",
       "      <td>0.0</td>\n",
       "      <td>0.0</td>\n",
       "      <td>0.156926</td>\n",
       "      <td>0.068986</td>\n",
       "      <td>0.0</td>\n",
       "      <td>0.331034</td>\n",
       "    </tr>\n",
       "    <tr>\n",
       "      <th>6</th>\n",
       "      <td>0.172403</td>\n",
       "      <td>0.012350</td>\n",
       "      <td>0.0</td>\n",
       "      <td>0.026090</td>\n",
       "      <td>0.0</td>\n",
       "      <td>0.0</td>\n",
       "      <td>0.076712</td>\n",
       "      <td>0.182471</td>\n",
       "      <td>0.0</td>\n",
       "      <td>0.0</td>\n",
       "      <td>...</td>\n",
       "      <td>0.217354</td>\n",
       "      <td>0.0</td>\n",
       "      <td>0.112565</td>\n",
       "      <td>0.0</td>\n",
       "      <td>0.0</td>\n",
       "      <td>0.0</td>\n",
       "      <td>0.143570</td>\n",
       "      <td>0.062655</td>\n",
       "      <td>0.0</td>\n",
       "      <td>0.302893</td>\n",
       "    </tr>\n",
       "    <tr>\n",
       "      <th>7</th>\n",
       "      <td>0.173049</td>\n",
       "      <td>0.015140</td>\n",
       "      <td>0.0</td>\n",
       "      <td>0.029303</td>\n",
       "      <td>0.0</td>\n",
       "      <td>0.0</td>\n",
       "      <td>0.074315</td>\n",
       "      <td>0.183715</td>\n",
       "      <td>0.0</td>\n",
       "      <td>0.0</td>\n",
       "      <td>...</td>\n",
       "      <td>0.208532</td>\n",
       "      <td>0.0</td>\n",
       "      <td>0.111918</td>\n",
       "      <td>0.0</td>\n",
       "      <td>0.0</td>\n",
       "      <td>0.0</td>\n",
       "      <td>0.137483</td>\n",
       "      <td>0.057951</td>\n",
       "      <td>0.0</td>\n",
       "      <td>0.297369</td>\n",
       "    </tr>\n",
       "    <tr>\n",
       "      <th>8</th>\n",
       "      <td>0.173687</td>\n",
       "      <td>0.017408</td>\n",
       "      <td>0.0</td>\n",
       "      <td>0.029500</td>\n",
       "      <td>0.0</td>\n",
       "      <td>0.0</td>\n",
       "      <td>0.074787</td>\n",
       "      <td>0.183837</td>\n",
       "      <td>0.0</td>\n",
       "      <td>0.0</td>\n",
       "      <td>...</td>\n",
       "      <td>0.202280</td>\n",
       "      <td>0.0</td>\n",
       "      <td>0.111803</td>\n",
       "      <td>0.0</td>\n",
       "      <td>0.0</td>\n",
       "      <td>0.0</td>\n",
       "      <td>0.132251</td>\n",
       "      <td>0.056920</td>\n",
       "      <td>0.0</td>\n",
       "      <td>0.291844</td>\n",
       "    </tr>\n",
       "    <tr>\n",
       "      <th>9</th>\n",
       "      <td>0.174294</td>\n",
       "      <td>0.019638</td>\n",
       "      <td>0.0</td>\n",
       "      <td>0.030005</td>\n",
       "      <td>0.0</td>\n",
       "      <td>0.0</td>\n",
       "      <td>0.075882</td>\n",
       "      <td>0.183768</td>\n",
       "      <td>0.0</td>\n",
       "      <td>0.0</td>\n",
       "      <td>...</td>\n",
       "      <td>0.194668</td>\n",
       "      <td>0.0</td>\n",
       "      <td>0.111246</td>\n",
       "      <td>0.0</td>\n",
       "      <td>0.0</td>\n",
       "      <td>0.0</td>\n",
       "      <td>0.125880</td>\n",
       "      <td>0.056071</td>\n",
       "      <td>0.0</td>\n",
       "      <td>0.285324</td>\n",
       "    </tr>\n",
       "    <tr>\n",
       "      <th>10</th>\n",
       "      <td>0.174193</td>\n",
       "      <td>0.021424</td>\n",
       "      <td>0.0</td>\n",
       "      <td>0.029463</td>\n",
       "      <td>0.0</td>\n",
       "      <td>0.0</td>\n",
       "      <td>0.075655</td>\n",
       "      <td>0.183839</td>\n",
       "      <td>0.0</td>\n",
       "      <td>0.0</td>\n",
       "      <td>...</td>\n",
       "      <td>0.190033</td>\n",
       "      <td>0.0</td>\n",
       "      <td>0.111080</td>\n",
       "      <td>0.0</td>\n",
       "      <td>0.0</td>\n",
       "      <td>0.0</td>\n",
       "      <td>0.122074</td>\n",
       "      <td>0.054975</td>\n",
       "      <td>0.0</td>\n",
       "      <td>0.280978</td>\n",
       "    </tr>\n",
       "    <tr>\n",
       "      <th>11</th>\n",
       "      <td>0.179181</td>\n",
       "      <td>0.009874</td>\n",
       "      <td>0.0</td>\n",
       "      <td>0.018019</td>\n",
       "      <td>0.0</td>\n",
       "      <td>0.0</td>\n",
       "      <td>0.049376</td>\n",
       "      <td>0.216474</td>\n",
       "      <td>0.0</td>\n",
       "      <td>0.0</td>\n",
       "      <td>...</td>\n",
       "      <td>0.236940</td>\n",
       "      <td>0.0</td>\n",
       "      <td>0.137888</td>\n",
       "      <td>0.0</td>\n",
       "      <td>0.0</td>\n",
       "      <td>0.0</td>\n",
       "      <td>0.174809</td>\n",
       "      <td>0.058435</td>\n",
       "      <td>0.0</td>\n",
       "      <td>0.348847</td>\n",
       "    </tr>\n",
       "    <tr>\n",
       "      <th>12</th>\n",
       "      <td>0.174335</td>\n",
       "      <td>0.025073</td>\n",
       "      <td>0.0</td>\n",
       "      <td>0.031616</td>\n",
       "      <td>0.0</td>\n",
       "      <td>0.0</td>\n",
       "      <td>0.078469</td>\n",
       "      <td>0.183223</td>\n",
       "      <td>0.0</td>\n",
       "      <td>0.0</td>\n",
       "      <td>...</td>\n",
       "      <td>0.171213</td>\n",
       "      <td>0.0</td>\n",
       "      <td>0.108176</td>\n",
       "      <td>0.0</td>\n",
       "      <td>0.0</td>\n",
       "      <td>0.0</td>\n",
       "      <td>0.106857</td>\n",
       "      <td>0.052803</td>\n",
       "      <td>0.0</td>\n",
       "      <td>0.265893</td>\n",
       "    </tr>\n",
       "    <tr>\n",
       "      <th>13</th>\n",
       "      <td>0.172348</td>\n",
       "      <td>0.026300</td>\n",
       "      <td>0.0</td>\n",
       "      <td>0.027259</td>\n",
       "      <td>0.0</td>\n",
       "      <td>0.0</td>\n",
       "      <td>0.073180</td>\n",
       "      <td>0.184223</td>\n",
       "      <td>0.0</td>\n",
       "      <td>0.0</td>\n",
       "      <td>...</td>\n",
       "      <td>0.177427</td>\n",
       "      <td>0.0</td>\n",
       "      <td>0.109951</td>\n",
       "      <td>0.0</td>\n",
       "      <td>0.0</td>\n",
       "      <td>0.0</td>\n",
       "      <td>0.112154</td>\n",
       "      <td>0.050375</td>\n",
       "      <td>0.0</td>\n",
       "      <td>0.269360</td>\n",
       "    </tr>\n",
       "    <tr>\n",
       "      <th>14</th>\n",
       "      <td>0.176121</td>\n",
       "      <td>0.022198</td>\n",
       "      <td>0.0</td>\n",
       "      <td>0.023892</td>\n",
       "      <td>0.0</td>\n",
       "      <td>0.0</td>\n",
       "      <td>0.058616</td>\n",
       "      <td>0.200660</td>\n",
       "      <td>0.0</td>\n",
       "      <td>0.0</td>\n",
       "      <td>...</td>\n",
       "      <td>0.202966</td>\n",
       "      <td>0.0</td>\n",
       "      <td>0.123306</td>\n",
       "      <td>0.0</td>\n",
       "      <td>0.0</td>\n",
       "      <td>0.0</td>\n",
       "      <td>0.139067</td>\n",
       "      <td>0.049894</td>\n",
       "      <td>0.0</td>\n",
       "      <td>0.303411</td>\n",
       "    </tr>\n",
       "  </tbody>\n",
       "</table>\n",
       "<p>15 rows × 21 columns</p>\n",
       "</div>"
      ],
      "text/plain": [
       "          0         1    2         3    4    5         6         7    8    9   \\\n",
       "0   0.179491  0.003421  0.0  0.036583  0.0  0.0  0.113668  0.176030  0.0  0.0   \n",
       "1   0.175935  0.003276  0.0  0.032565  0.0  0.0  0.098013  0.182636  0.0  0.0   \n",
       "2   0.174308  0.004939  0.0  0.029948  0.0  0.0  0.089879  0.184668  0.0  0.0   \n",
       "3   0.173934  0.006946  0.0  0.029963  0.0  0.0  0.088067  0.181593  0.0  0.0   \n",
       "4   0.172817  0.008806  0.0  0.028711  0.0  0.0  0.083006  0.181090  0.0  0.0   \n",
       "5   0.182242  0.005990  0.0  0.030355  0.0  0.0  0.069715  0.202152  0.0  0.0   \n",
       "6   0.172403  0.012350  0.0  0.026090  0.0  0.0  0.076712  0.182471  0.0  0.0   \n",
       "7   0.173049  0.015140  0.0  0.029303  0.0  0.0  0.074315  0.183715  0.0  0.0   \n",
       "8   0.173687  0.017408  0.0  0.029500  0.0  0.0  0.074787  0.183837  0.0  0.0   \n",
       "9   0.174294  0.019638  0.0  0.030005  0.0  0.0  0.075882  0.183768  0.0  0.0   \n",
       "10  0.174193  0.021424  0.0  0.029463  0.0  0.0  0.075655  0.183839  0.0  0.0   \n",
       "11  0.179181  0.009874  0.0  0.018019  0.0  0.0  0.049376  0.216474  0.0  0.0   \n",
       "12  0.174335  0.025073  0.0  0.031616  0.0  0.0  0.078469  0.183223  0.0  0.0   \n",
       "13  0.172348  0.026300  0.0  0.027259  0.0  0.0  0.073180  0.184223  0.0  0.0   \n",
       "14  0.176121  0.022198  0.0  0.023892  0.0  0.0  0.058616  0.200660  0.0  0.0   \n",
       "\n",
       "      ...           11   12        13   14   15   16        17        18   19  \\\n",
       "0     ...     0.204596  0.0  0.102238  0.0  0.0  0.0  0.124751  0.084623  0.0   \n",
       "1     ...     0.216790  0.0  0.107065  0.0  0.0  0.0  0.138698  0.076115  0.0   \n",
       "2     ...     0.220630  0.0  0.109540  0.0  0.0  0.0  0.143869  0.071366  0.0   \n",
       "3     ...     0.217607  0.0  0.109055  0.0  0.0  0.0  0.141636  0.070183  0.0   \n",
       "4     ...     0.217771  0.0  0.109911  0.0  0.0  0.0  0.143011  0.067002  0.0   \n",
       "5     ...     0.220106  0.0  0.126432  0.0  0.0  0.0  0.156926  0.068986  0.0   \n",
       "6     ...     0.217354  0.0  0.112565  0.0  0.0  0.0  0.143570  0.062655  0.0   \n",
       "7     ...     0.208532  0.0  0.111918  0.0  0.0  0.0  0.137483  0.057951  0.0   \n",
       "8     ...     0.202280  0.0  0.111803  0.0  0.0  0.0  0.132251  0.056920  0.0   \n",
       "9     ...     0.194668  0.0  0.111246  0.0  0.0  0.0  0.125880  0.056071  0.0   \n",
       "10    ...     0.190033  0.0  0.111080  0.0  0.0  0.0  0.122074  0.054975  0.0   \n",
       "11    ...     0.236940  0.0  0.137888  0.0  0.0  0.0  0.174809  0.058435  0.0   \n",
       "12    ...     0.171213  0.0  0.108176  0.0  0.0  0.0  0.106857  0.052803  0.0   \n",
       "13    ...     0.177427  0.0  0.109951  0.0  0.0  0.0  0.112154  0.050375  0.0   \n",
       "14    ...     0.202966  0.0  0.123306  0.0  0.0  0.0  0.139067  0.049894  0.0   \n",
       "\n",
       "          20  \n",
       "0   0.294073  \n",
       "1   0.306917  \n",
       "2   0.310320  \n",
       "3   0.305450  \n",
       "4   0.304695  \n",
       "5   0.331034  \n",
       "6   0.302893  \n",
       "7   0.297369  \n",
       "8   0.291844  \n",
       "9   0.285324  \n",
       "10  0.280978  \n",
       "11  0.348847  \n",
       "12  0.265893  \n",
       "13  0.269360  \n",
       "14  0.303411  \n",
       "\n",
       "[15 rows x 21 columns]"
      ]
     },
     "execution_count": 117,
     "metadata": {},
     "output_type": "execute_result"
    }
   ],
   "source": [
    "# Breakout of model.predict results into dataframe for examination:\n",
    "#pd.set_option('display.expand_frame_repr', True\n",
    "\n",
    "pd.options.display.width = None\n",
    "a =model.predict(Xshapetest,batch_size=batch_size)\n",
    "a_df = pd.DataFrame(a)\n",
    "a_df.head(15)"
   ]
  },
  {
   "cell_type": "code",
   "execution_count": 109,
   "metadata": {},
   "outputs": [
    {
     "data": {
      "text/plain": [
       "0     0.324159\n",
       "1     0.123111\n",
       "2     0.296437\n",
       "3     0.142974\n",
       "4     0.110163\n",
       "5     0.052120\n",
       "6     0.351320\n",
       "7     0.507633\n",
       "8     0.078324\n",
       "9     0.290883\n",
       "10    0.137164\n",
       "11    0.340133\n",
       "12    0.156799\n",
       "13    0.293506\n",
       "14    0.184290\n",
       "15    0.172465\n",
       "16    0.231253\n",
       "17    0.281083\n",
       "18    0.155534\n",
       "19    0.084338\n",
       "20    0.584642\n",
       "dtype: float32"
      ]
     },
     "execution_count": 109,
     "metadata": {},
     "output_type": "execute_result"
    }
   ],
   "source": [
    "# axis : {index (0), columns (1)}\n",
    "a_df.max(axis=0)"
   ]
  },
  {
   "cell_type": "code",
   "execution_count": 110,
   "metadata": {},
   "outputs": [
    {
     "data": {
      "text/plain": [
       "0        0.294268\n",
       "1        0.307363\n",
       "2        0.310876\n",
       "3        0.306057\n",
       "4        0.305381\n",
       "5        0.332394\n",
       "6        0.303749\n",
       "7        0.297997\n",
       "8        0.292436\n",
       "9        0.285872\n",
       "10       0.281542\n",
       "11       0.350350\n",
       "12       0.266335\n",
       "13       0.269995\n",
       "14       0.304331\n",
       "15       0.251484\n",
       "16       0.247916\n",
       "17       0.268683\n",
       "18       0.247751\n",
       "19       0.248770\n",
       "20       0.251734\n",
       "21       0.253294\n",
       "22       0.256769\n",
       "23       0.261249\n",
       "24       0.265928\n",
       "25       0.271859\n",
       "26       0.278786\n",
       "27       0.301574\n",
       "28       0.277435\n",
       "29       0.316195\n",
       "           ...   \n",
       "14048    0.264251\n",
       "14049    0.264251\n",
       "14050    0.264251\n",
       "14051    0.264251\n",
       "14052    0.264251\n",
       "14053    0.264251\n",
       "14054    0.264251\n",
       "14055    0.264251\n",
       "14056    0.264251\n",
       "14057    0.264251\n",
       "14058    0.264251\n",
       "14059    0.264251\n",
       "14060    0.264251\n",
       "14061    0.264251\n",
       "14062    0.264251\n",
       "14063    0.264251\n",
       "14064    0.264251\n",
       "14065    0.264251\n",
       "14066    0.264251\n",
       "14067    0.264251\n",
       "14068    0.264251\n",
       "14069    0.264251\n",
       "14070    0.264251\n",
       "14071    0.264251\n",
       "14072    0.264251\n",
       "14073    0.264251\n",
       "14074    0.264251\n",
       "14075    0.264251\n",
       "14076    0.264251\n",
       "14077    0.264251\n",
       "Length: 14078, dtype: float32"
      ]
     },
     "execution_count": 110,
     "metadata": {},
     "output_type": "execute_result"
    }
   ],
   "source": [
    "a_df.max(axis=1)"
   ]
  },
  {
   "cell_type": "code",
   "execution_count": 48,
   "metadata": {},
   "outputs": [
    {
     "name": "stdout",
     "output_type": "stream",
     "text": [
      "[ 0  4 20]\n"
     ]
    }
   ],
   "source": [
    "print(np.unique(a))"
   ]
  },
  {
   "cell_type": "code",
   "execution_count": 111,
   "metadata": {},
   "outputs": [
    {
     "data": {
      "text/plain": [
       "0        1.319268\n",
       "1        1.338225\n",
       "2        1.339847\n",
       "3        1.324867\n",
       "4        1.317357\n",
       "5        1.395046\n",
       "6        1.309647\n",
       "7        1.289185\n",
       "8        1.274568\n",
       "9        1.256799\n",
       "10       1.243615\n",
       "11       1.431292\n",
       "12       1.196851\n",
       "13       1.202160\n",
       "14       1.300367\n",
       "15       1.135725\n",
       "16       1.115382\n",
       "17       1.177951\n",
       "18       1.096777\n",
       "19       1.089097\n",
       "20       1.095348\n",
       "21       1.086859\n",
       "22       1.085206\n",
       "23       1.093570\n",
       "24       1.101331\n",
       "25       1.115954\n",
       "26       1.134927\n",
       "27       1.238149\n",
       "28       1.120851\n",
       "29       1.313284\n",
       "           ...   \n",
       "14048    1.219309\n",
       "14049    1.219309\n",
       "14050    1.219309\n",
       "14051    1.219309\n",
       "14052    1.219309\n",
       "14053    1.219309\n",
       "14054    1.219309\n",
       "14055    1.219309\n",
       "14056    1.219309\n",
       "14057    1.219309\n",
       "14058    1.219309\n",
       "14059    1.219309\n",
       "14060    1.219309\n",
       "14061    1.219309\n",
       "14062    1.219309\n",
       "14063    1.219309\n",
       "14064    1.219309\n",
       "14065    1.219309\n",
       "14066    1.219309\n",
       "14067    1.219309\n",
       "14068    1.219309\n",
       "14069    1.219309\n",
       "14070    1.219309\n",
       "14071    1.219309\n",
       "14072    1.219309\n",
       "14073    1.219309\n",
       "14074    1.219309\n",
       "14075    1.219309\n",
       "14076    1.219309\n",
       "14077    1.219309\n",
       "Length: 14078, dtype: float32"
      ]
     },
     "execution_count": 111,
     "metadata": {},
     "output_type": "execute_result"
    }
   ],
   "source": [
    "a_df.sum(axis=1)"
   ]
  },
  {
   "cell_type": "code",
   "execution_count": 112,
   "metadata": {},
   "outputs": [
    {
     "data": {
      "text/plain": [
       "0     2177.9...\n",
       "1     384.46...\n",
       "2     1000.0...\n",
       "3     482.03...\n",
       "4     175.96...\n",
       "5      0.705352\n",
       "6     881.35...\n",
       "7     3295.6...\n",
       "8     258.71...\n",
       "9     853.76...\n",
       "10    256.88...\n",
       "11    1732.5...\n",
       "12    337.12...\n",
       "13    1857.6...\n",
       "14    360.67...\n",
       "15    200.10...\n",
       "16    863.55...\n",
       "17    2009.3...\n",
       "18    245.60...\n",
       "19    155.30...\n",
       "20    4570.8...\n",
       "dtype: float32"
      ]
     },
     "execution_count": 112,
     "metadata": {},
     "output_type": "execute_result"
    }
   ],
   "source": [
    "a_df.sum(axis=0)"
   ]
  },
  {
   "cell_type": "code",
   "execution_count": 129,
   "metadata": {},
   "outputs": [
    {
     "data": {
      "text/plain": [
       "array([9319, 9319, 9319, ..., 9489, 9489, 9489], dtype=object)"
      ]
     },
     "execution_count": 129,
     "metadata": {},
     "output_type": "execute_result"
    }
   ],
   "source": [
    "inverted"
   ]
  },
  {
   "cell_type": "code",
   "execution_count": 128,
   "metadata": {},
   "outputs": [
    {
     "data": {
      "text/plain": [
       "array([9319, 9328, 9331, 9345, 9361, 9364, 9381, 9390, 9391, 9407, 9425,\n",
       "       9428, 9438, 9439, 9450, 9454, 9466, 9468, 9480, 9482, 9489])"
      ]
     },
     "execution_count": 128,
     "metadata": {},
     "output_type": "execute_result"
    }
   ],
   "source": [
    "# Remove duplicate price points from inverted list\n",
    "inverted_set=set(inverted)\n",
    "inverted_list = list(inverted_set)\n",
    "inverted_modified = np.sort(inverted_list,kind = 'quicksort')\n",
    "inverted_modified"
   ]
  },
  {
   "cell_type": "code",
   "execution_count": 131,
   "metadata": {},
   "outputs": [
    {
     "name": "stdout",
     "output_type": "stream",
     "text": [
      "21\n"
     ]
    }
   ],
   "source": [
    "# Check size/length\n",
    "print(np.size(inverted_modified))"
   ]
  },
  {
   "cell_type": "code",
   "execution_count": null,
   "metadata": {
    "collapsed": true
   },
   "outputs": [],
   "source": []
  },
  {
   "cell_type": "code",
   "execution_count": null,
   "metadata": {
    "collapsed": true
   },
   "outputs": [],
   "source": []
  },
  {
   "cell_type": "code",
   "execution_count": 120,
   "metadata": {},
   "outputs": [
    {
     "name": "stderr",
     "output_type": "stream",
     "text": [
      "C:\\Users\\tyu-dev\\Anaconda3\\envs\\pythondata\\lib\\site-packages\\sklearn\\preprocessing\\label.py:171: DeprecationWarning: The truth value of an empty array is ambiguous. Returning False, but in future this will result in an error. Use `array.size > 0` to check that an array is not empty.\n",
      "  if diff:\n"
     ]
    },
    {
     "data": {
      "text/plain": [
       "array([9319, 9319, 9319, ..., 9489, 9489, 9489], dtype=object)"
      ]
     },
     "execution_count": 120,
     "metadata": {},
     "output_type": "execute_result"
    }
   ],
   "source": [
    "# Reversal of categoricial and onehot encoding (if needed)\n",
    "\n",
    "decoded = onehot_y.dot(onehot_encoder.active_features_).astype(int)\n",
    "#print(decoded)\n",
    "inverted = label_encoder.inverse_transform(decoded)\n",
    "inverted"
   ]
  },
  {
   "cell_type": "code",
   "execution_count": null,
   "metadata": {
    "collapsed": true
   },
   "outputs": [],
   "source": []
  },
  {
   "cell_type": "code",
   "execution_count": 37,
   "metadata": {},
   "outputs": [
    {
     "data": {
      "text/html": [
       "<div>\n",
       "<style>\n",
       "    .dataframe thead tr:only-child th {\n",
       "        text-align: right;\n",
       "    }\n",
       "\n",
       "    .dataframe thead th {\n",
       "        text-align: left;\n",
       "    }\n",
       "\n",
       "    .dataframe tbody tr th {\n",
       "        vertical-align: top;\n",
       "    }\n",
       "</style>\n",
       "<table border=\"1\" class=\"dataframe\">\n",
       "  <thead>\n",
       "    <tr style=\"text-align: right;\">\n",
       "      <th></th>\n",
       "      <th>side</th>\n",
       "      <th>price</th>\n",
       "      <th>size</th>\n",
       "      <th>size_delta</th>\n",
       "      <th>position</th>\n",
       "      <th>sr_prox_value</th>\n",
       "      <th>sr_prox_line</th>\n",
       "    </tr>\n",
       "  </thead>\n",
       "  <tbody>\n",
       "    <tr>\n",
       "      <th>0</th>\n",
       "      <td>sell</td>\n",
       "      <td>9192.01</td>\n",
       "      <td>4.660822</td>\n",
       "      <td>0.0100</td>\n",
       "      <td>1</td>\n",
       "      <td>127</td>\n",
       "      <td>9319</td>\n",
       "    </tr>\n",
       "    <tr>\n",
       "      <th>1</th>\n",
       "      <td>sell</td>\n",
       "      <td>9194.95</td>\n",
       "      <td>1.086830</td>\n",
       "      <td>0.0015</td>\n",
       "      <td>2</td>\n",
       "      <td>125</td>\n",
       "      <td>9319</td>\n",
       "    </tr>\n",
       "    <tr>\n",
       "      <th>2</th>\n",
       "      <td>sell</td>\n",
       "      <td>9194.99</td>\n",
       "      <td>0.001500</td>\n",
       "      <td>0.0000</td>\n",
       "      <td>3</td>\n",
       "      <td>125</td>\n",
       "      <td>9319</td>\n",
       "    </tr>\n",
       "    <tr>\n",
       "      <th>3</th>\n",
       "      <td>sell</td>\n",
       "      <td>9195.00</td>\n",
       "      <td>2.061000</td>\n",
       "      <td>0.0000</td>\n",
       "      <td>4</td>\n",
       "      <td>124</td>\n",
       "      <td>9319</td>\n",
       "    </tr>\n",
       "    <tr>\n",
       "      <th>4</th>\n",
       "      <td>sell</td>\n",
       "      <td>9195.01</td>\n",
       "      <td>2.463947</td>\n",
       "      <td>0.0015</td>\n",
       "      <td>5</td>\n",
       "      <td>124</td>\n",
       "      <td>9319</td>\n",
       "    </tr>\n",
       "  </tbody>\n",
       "</table>\n",
       "</div>"
      ],
      "text/plain": [
       "   side    price      size  size_delta  position  sr_prox_value  sr_prox_line\n",
       "0  sell  9192.01  4.660822      0.0100         1            127          9319\n",
       "1  sell  9194.95  1.086830      0.0015         2            125          9319\n",
       "2  sell  9194.99  0.001500      0.0000         3            125          9319\n",
       "3  sell  9195.00  2.061000      0.0000         4            124          9319\n",
       "4  sell  9195.01  2.463947      0.0015         5            124          9319"
      ]
     },
     "execution_count": 37,
     "metadata": {},
     "output_type": "execute_result"
    }
   ],
   "source": [
    "snapshot_asks_df.head()"
   ]
  },
  {
   "cell_type": "code",
   "execution_count": null,
   "metadata": {
    "collapsed": true
   },
   "outputs": [],
   "source": []
  },
  {
   "cell_type": "code",
   "execution_count": 33,
   "metadata": {
    "collapsed": true
   },
   "outputs": [],
   "source": [
    "# Shaping/encoding for non-categorical encoding (multivariate regression)"
   ]
  },
  {
   "cell_type": "code",
   "execution_count": null,
   "metadata": {
    "collapsed": true
   },
   "outputs": [],
   "source": []
  },
  {
   "cell_type": "code",
   "execution_count": null,
   "metadata": {
    "collapsed": true
   },
   "outputs": [],
   "source": []
  },
  {
   "cell_type": "code",
   "execution_count": null,
   "metadata": {
    "collapsed": true
   },
   "outputs": [],
   "source": []
  },
  {
   "cell_type": "code",
   "execution_count": null,
   "metadata": {
    "collapsed": true
   },
   "outputs": [],
   "source": []
  },
  {
   "cell_type": "code",
   "execution_count": null,
   "metadata": {
    "collapsed": true
   },
   "outputs": [],
   "source": []
  },
  {
   "cell_type": "code",
   "execution_count": null,
   "metadata": {
    "collapsed": true
   },
   "outputs": [],
   "source": []
  },
  {
   "cell_type": "code",
   "execution_count": 34,
   "metadata": {
    "collapsed": true
   },
   "outputs": [],
   "source": [
    "### Model load and save ###\n",
    "# Save compiled model and model layer weights to disk\n",
    "\n",
    "#model_json = model.to_json()\n",
    "#with open(\"model.json\", \"w\") as json_file:\n",
    "#json_file.write(model_json)\n",
    "#model.save_weights(\"model.h5\")"
   ]
  },
  {
   "cell_type": "code",
   "execution_count": 38,
   "metadata": {},
   "outputs": [],
   "source": [
    "# Load model from disk and model layer weights\n",
    "\n",
    "#json_file = open('model/model.json', 'r')\n",
    "#loaded_model_json = json_file.read()\n",
    "#json_file.close()\n",
    "#loaded_model = model_from_json(loaded_model_json)\n",
    "\n",
    "# load weights into new model\n",
    "#loaded_model.load_weights(\"model/model.h5\")\n",
    "#print(\"Loaded model from disk\")"
   ]
  },
  {
   "cell_type": "code",
   "execution_count": null,
   "metadata": {
    "collapsed": true
   },
   "outputs": [],
   "source": [
    "#loaded_model.compile(loss = \"categorical_crossentropy\", optimizer = 'rmsprop', metrics = ['accuracy'])\n",
    "#loaded_model.predict(Xshapetest,batch_size=batch_size)\n",
    "#loaded_model.summary() "
   ]
  }
 ],
 "metadata": {
  "kernelspec": {
   "display_name": "Python 3",
   "language": "python",
   "name": "python3"
  },
  "language_info": {
   "codemirror_mode": {
    "name": "ipython",
    "version": 3
   },
   "file_extension": ".py",
   "mimetype": "text/x-python",
   "name": "python",
   "nbconvert_exporter": "python",
   "pygments_lexer": "ipython3",
   "version": "3.6.1"
  }
 },
 "nbformat": 4,
 "nbformat_minor": 2
}
