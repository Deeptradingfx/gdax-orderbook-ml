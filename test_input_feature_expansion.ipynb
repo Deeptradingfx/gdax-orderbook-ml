{
 "cells": [
  {
   "cell_type": "code",
   "execution_count": 414,
   "metadata": {},
   "outputs": [],
   "source": [
    "# Current test dataset scrape and load works, but not to build a sufficient model \n",
    "\n",
    "    # select and narrow down input features for model\n",
    "        # features from live dataset:\n",
    "            # [1] order size\n",
    "            # [2] time (may not be used or extremely difficult to factor in)\n",
    "        # potential calcuated features to be added alongside input:\n",
    "            # [3] order position from execution point/\"spread\"\n",
    "            # [4] order size delta from last update\n",
    "        # potential features from additional API input:    \n",
    "            # [5] extract candlestick data for the last hour or 15 minutes\n",
    "                # calc overall slope/trend for that hour\n",
    "                # factor in support and resistance points for candles with long wicks for that hour\n",
    "                    # establish those zones as potential breakpoints\n",
    "                    # as current price approaches those breakpoints, weight size more in model     \n",
    "                # Use TA-lib wrapper to auto establish support and resistance zones for the 15 minute/1 hour chart\n",
    "                    # (https://github.com/mrjbq7/ta-lib)\n",
    "            # [6] severe hashrate changes  (\"https://blockchain.info/q/hashrate\")\n",
    "                # if hashrate for total network has sharp change down, buy walls likely to encouter less resistance\n",
    "                # assumed negative correlation\n",
    "                # put in range to prevent small changes from overinfluencing model\n",
    "            # [7] severe unconfirmed tx (\"https://blockchain.info/q/unconfirmedcount\")\n",
    "                # similar to [6], except that with sharp increase up, sell walls likely to encouter less resistance\n",
    "                # assumed positive correlation\n",
    "                # put in range to prevent small changes from overinfluencing model\n",
    "\n",
    "        # Calculate orderbook states from L2 updates\n",
    "            # pick interval between applying l2update to last updated snapshot\n",
    "            # 5 minutes, 15 minutes\n",
    "            \n",
    "    # Model selection\n",
    "        # Supervised = feature[x1,x2,x3....], target[y]\n",
    "            # features[x] --> variables with predictive power\n",
    "\n",
    "            # Supervised (output value or label is known)\n",
    "                # 1D CNN/2D (position and size of orderbook)\n",
    "                # LSTM/GRU\n",
    "                    # regression vs classification example difference : \n",
    "                        #predicting price as value over time vs. price direction over time\n",
    "                         \n",
    "        # Reinforcement learning ---> categorial cross entropy of likelyhood that this \"wall\" is STRONG or WEAK\n",
    "            # i.e. supported or not suppported; don't know exactly outcome [y]\n",
    "                # but still able to predict an assumed categorical class class []\n",
    "                    \n",
    "###########################\n",
    "        \n",
    "        # UPDATE CYCLE: EVERY 15 MINUTES \n",
    "            # [position,size,size delta]\n",
    "                #features= [position,size,size delta]\n",
    "                    # algorithm sets y variable labels based upon prexisting historical data \n",
    "                    # logistic classification: [strong, weak, fake, real]\n",
    "                        # \"known relationship\" -> identify class that the data belongs \n",
    "                        # Technically pseudo-labeling/semi-supervised learning approach ##\n",
    "            # set [y] variable to true or scale from 0-1 for all orders near key S/R areas for past 15 min\n",
    "                # TA-lib library + numpy + pandas = should be able to do this\n",
    "         \n",
    "        # pull websocket l2/snapshot data + candlesticks for past 15 minutes\n",
    "            # apply scale or label to l2 \n",
    "                # scale updated upon position change or next l2 update (15 minute sync)\n",
    "                \n",
    "                \n",
    "###########################\n",
    "\n",
    "###Model design\n",
    "        # model = Sequential()\n",
    "    ###INPUT LAYER\n",
    "                                    ## [samples,timesteps,features] ##\n",
    "                                    # samples = data rows\n",
    "                                    # timesteps\n",
    "                                        # How long in time each sample is; \n",
    "                                            # if feeding in 15 minutes, then 15 ticks?\n",
    "                                            # 5 minutes may be more practical\n",
    "                                    # features = features\n",
    "            \n",
    "        # model.add(LSTM(2))\n",
    "        # model.add(Dense(1))\n",
    "    ###OUTPUT LAYER\n",
    "        # Softmax activation \n",
    "        # One node per class value if one hot encodedinput         \n",
    "            \n",
    "            "
   ]
  },
  {
   "cell_type": "code",
   "execution_count": 464,
   "metadata": {},
   "outputs": [],
   "source": [
    "# Imports\n",
    "import pandas as pd\n",
    "import numpy as np\n",
    "import json\n",
    "import datetime \n",
    "import matplotlib.pyplot as plt\n",
    "%matplotlib inline\n",
    "\n",
    "# Charting-specific imports\n",
    "import matplotlib.finance\n",
    "import matplotlib.ticker as mticker\n",
    "from matplotlib.finance import candlestick_ohlc\n",
    "from matplotlib.finance import volume_overlay,volume_overlay2\n",
    "from matplotlib.dates import  DateFormatter, epoch2num\n",
    "# https://matplotlib.org/api/finance_api.html#module-matplotlib.finance\n",
    "\n",
    "import requests\n",
    "import gdax\n",
    "\n",
    "# Pymongo import for connection to local client DB\n",
    "import pymongo\n",
    "from pymongo import MongoClient\n",
    "\n",
    "# Preprocessing Imports\n",
    "from sklearn.model_selection import train_test_split\n",
    "from sklearn.preprocessing import LabelEncoder, StandardScaler, MinMaxScaler,OneHotEncoder\n",
    "from keras.utils import to_categorical \n",
    "\n",
    "# ML Imports \n",
    "import tensorflow as tf\n",
    "import keras\n",
    "from keras.models import Sequential\n",
    "from keras.layers import Dense, Activation,Dropout\n",
    "from keras.layers import LSTM, GRU\n",
    "from keras.models import load_model\n",
    "from keras import backend as K\n",
    "\n",
    "#num_cores = 4\n",
    "#config = tf.ConfigProto(intra_op_parallelism_threads=num_cores,\\\n",
    "        #inter_op_parallelism_threads=num_cores, allow_soft_placement=True,\\\n",
    "        #device_count = {'CPU' : 1, 'GPU' : 1})\n",
    "#session = tf.Session(config=config)\n",
    "#K.set_session(session)\n",
    "\n",
    "\n",
    "# Import to check check for GPU availability for tensorflow backend\n",
    "from tensorflow.python.client import device_lib\n"
   ]
  },
  {
   "cell_type": "code",
   "execution_count": 416,
   "metadata": {},
   "outputs": [],
   "source": [
    "# Historic rates 15 minute basis example\n",
    "# Build 15 minute chart from this data - time series olhc&vol data\n",
    "\n",
    "public_client = gdax.PublicClient()\n",
    "chart_1hr =public_client.get_product_historic_rates('BTC-USD', granularity=3600) \n",
    "chart_15m =public_client.get_product_historic_rates('BTC-USD', granularity=900)\n",
    "    # 900 seconds = 15 minutes,  # 3600 seconds = 1 hour\n",
    "    # Potentially compare to 6h/1d as overall reference for uptrend/downtrend short term\n",
    "    # Structure of response: \n",
    "        # [ time, low, high, open, close, volume ]\n",
    "        \n",
    "    # Pass start and end date/time as unix timestamp for past hour\n",
    "    # Dates in unix/ISO_8601 format: https://en.wikipedia.org/wiki/ISO_8601"
   ]
  },
  {
   "cell_type": "code",
   "execution_count": 417,
   "metadata": {},
   "outputs": [],
   "source": [
    "# Convert chart data response into dataframes\n",
    "chart_1hr_df =pd.DataFrame.from_records(chart_1hr,columns=[\"time\",\"low\", \"high\",\"open\" ,  \"close\", \"volume\"])\n",
    "chart_15m_df =pd.DataFrame.from_records(chart_15m,columns=[\"time\",\"low\", \"high\",\"open\" ,  \"close\", \"volume\"])"
   ]
  },
  {
   "cell_type": "code",
   "execution_count": 418,
   "metadata": {},
   "outputs": [
    {
     "name": "stdout",
     "output_type": "stream",
     "text": [
      "30345703041\n",
      "2429\n"
     ]
    }
   ],
   "source": [
    "# Current hashrate and unconfirmed TX from blockchain.info\n",
    "    # limit quests to a maximum of 1 every 10 seconds.\n",
    "# Estimated hashrate in gigahash\n",
    "response = requests.get(\"https://blockchain.info/q/hashrate\")\n",
    "print(response.json())\n",
    "# Number of pending unconfirmed transactions\n",
    "response2 = requests.get(\"https://blockchain.info/q/unconfirmedcount\")\n",
    "print(response2.json())"
   ]
  },
  {
   "cell_type": "code",
   "execution_count": null,
   "metadata": {},
   "outputs": [],
   "source": []
  },
  {
   "cell_type": "code",
   "execution_count": 419,
   "metadata": {},
   "outputs": [
    {
     "name": "stdout",
     "output_type": "stream",
     "text": [
      "      Unnamed: 0                       iso         epoch\n",
      "0    request end  2018-04-17T01:05:03.469Z  1.523927e+09\n",
      "1  request start  2018-04-17T00:55:03.354Z  1.523927e+09\n"
     ]
    }
   ],
   "source": [
    "# start/end time from request log\n",
    "request_log_df= pd.read_csv(\"test_data/request_log.csv\")\n",
    "print(request_log_df.head())"
   ]
  },
  {
   "cell_type": "code",
   "execution_count": 420,
   "metadata": {},
   "outputs": [
    {
     "data": {
      "text/html": [
       "<div>\n",
       "<style scoped>\n",
       "    .dataframe tbody tr th:only-of-type {\n",
       "        vertical-align: middle;\n",
       "    }\n",
       "\n",
       "    .dataframe tbody tr th {\n",
       "        vertical-align: top;\n",
       "    }\n",
       "\n",
       "    .dataframe thead th {\n",
       "        text-align: right;\n",
       "    }\n",
       "</style>\n",
       "<table border=\"1\" class=\"dataframe\">\n",
       "  <thead>\n",
       "    <tr style=\"text-align: right;\">\n",
       "      <th></th>\n",
       "      <th>time</th>\n",
       "      <th>low</th>\n",
       "      <th>high</th>\n",
       "      <th>open</th>\n",
       "      <th>close</th>\n",
       "      <th>volume</th>\n",
       "    </tr>\n",
       "  </thead>\n",
       "  <tbody>\n",
       "    <tr>\n",
       "      <th>0</th>\n",
       "      <td>1524087480</td>\n",
       "      <td>8187.48</td>\n",
       "      <td>8187.48</td>\n",
       "      <td>8187.48</td>\n",
       "      <td>8187.48</td>\n",
       "      <td>0.269797</td>\n",
       "    </tr>\n",
       "    <tr>\n",
       "      <th>1</th>\n",
       "      <td>1524087420</td>\n",
       "      <td>8187.48</td>\n",
       "      <td>8187.49</td>\n",
       "      <td>8187.49</td>\n",
       "      <td>8187.49</td>\n",
       "      <td>9.063333</td>\n",
       "    </tr>\n",
       "    <tr>\n",
       "      <th>2</th>\n",
       "      <td>1524087360</td>\n",
       "      <td>8187.48</td>\n",
       "      <td>8187.49</td>\n",
       "      <td>8187.49</td>\n",
       "      <td>8187.48</td>\n",
       "      <td>7.419944</td>\n",
       "    </tr>\n",
       "    <tr>\n",
       "      <th>3</th>\n",
       "      <td>1524087300</td>\n",
       "      <td>8185.99</td>\n",
       "      <td>8187.49</td>\n",
       "      <td>8185.99</td>\n",
       "      <td>8187.48</td>\n",
       "      <td>1.762627</td>\n",
       "    </tr>\n",
       "    <tr>\n",
       "      <th>4</th>\n",
       "      <td>1524087240</td>\n",
       "      <td>8184.99</td>\n",
       "      <td>8186.00</td>\n",
       "      <td>8184.99</td>\n",
       "      <td>8186.00</td>\n",
       "      <td>8.712934</td>\n",
       "    </tr>\n",
       "  </tbody>\n",
       "</table>\n",
       "</div>"
      ],
      "text/plain": [
       "         time      low     high     open    close    volume\n",
       "0  1524087480  8187.48  8187.48  8187.48  8187.48  0.269797\n",
       "1  1524087420  8187.48  8187.49  8187.49  8187.49  9.063333\n",
       "2  1524087360  8187.48  8187.49  8187.49  8187.48  7.419944\n",
       "3  1524087300  8185.99  8187.49  8185.99  8187.48  1.762627\n",
       "4  1524087240  8184.99  8186.00  8184.99  8186.00  8.712934"
      ]
     },
     "execution_count": 420,
     "metadata": {},
     "output_type": "execute_result"
    }
   ],
   "source": [
    "chart_15m_df.head()"
   ]
  },
  {
   "cell_type": "code",
   "execution_count": 421,
   "metadata": {},
   "outputs": [
    {
     "data": {
      "text/html": [
       "<div>\n",
       "<style scoped>\n",
       "    .dataframe tbody tr th:only-of-type {\n",
       "        vertical-align: middle;\n",
       "    }\n",
       "\n",
       "    .dataframe tbody tr th {\n",
       "        vertical-align: top;\n",
       "    }\n",
       "\n",
       "    .dataframe thead th {\n",
       "        text-align: right;\n",
       "    }\n",
       "</style>\n",
       "<table border=\"1\" class=\"dataframe\">\n",
       "  <thead>\n",
       "    <tr style=\"text-align: right;\">\n",
       "      <th></th>\n",
       "      <th>time</th>\n",
       "      <th>open</th>\n",
       "      <th>high</th>\n",
       "      <th>low</th>\n",
       "      <th>close</th>\n",
       "      <th>volume</th>\n",
       "    </tr>\n",
       "  </thead>\n",
       "  <tbody>\n",
       "    <tr>\n",
       "      <th>0</th>\n",
       "      <td>1524087480</td>\n",
       "      <td>8187.48</td>\n",
       "      <td>8187.48</td>\n",
       "      <td>8187.48</td>\n",
       "      <td>8187.48</td>\n",
       "      <td>0.269797</td>\n",
       "    </tr>\n",
       "    <tr>\n",
       "      <th>1</th>\n",
       "      <td>1524087420</td>\n",
       "      <td>8187.49</td>\n",
       "      <td>8187.49</td>\n",
       "      <td>8187.48</td>\n",
       "      <td>8187.49</td>\n",
       "      <td>9.063333</td>\n",
       "    </tr>\n",
       "    <tr>\n",
       "      <th>2</th>\n",
       "      <td>1524087360</td>\n",
       "      <td>8187.49</td>\n",
       "      <td>8187.49</td>\n",
       "      <td>8187.48</td>\n",
       "      <td>8187.48</td>\n",
       "      <td>7.419944</td>\n",
       "    </tr>\n",
       "    <tr>\n",
       "      <th>3</th>\n",
       "      <td>1524087300</td>\n",
       "      <td>8185.99</td>\n",
       "      <td>8187.49</td>\n",
       "      <td>8185.99</td>\n",
       "      <td>8187.48</td>\n",
       "      <td>1.762627</td>\n",
       "    </tr>\n",
       "    <tr>\n",
       "      <th>4</th>\n",
       "      <td>1524087240</td>\n",
       "      <td>8184.99</td>\n",
       "      <td>8186.00</td>\n",
       "      <td>8184.99</td>\n",
       "      <td>8186.00</td>\n",
       "      <td>8.712934</td>\n",
       "    </tr>\n",
       "  </tbody>\n",
       "</table>\n",
       "</div>"
      ],
      "text/plain": [
       "         time     open     high      low    close    volume\n",
       "0  1524087480  8187.48  8187.48  8187.48  8187.48  0.269797\n",
       "1  1524087420  8187.49  8187.49  8187.48  8187.49  9.063333\n",
       "2  1524087360  8187.49  8187.49  8187.48  8187.48  7.419944\n",
       "3  1524087300  8185.99  8187.49  8185.99  8187.48  1.762627\n",
       "4  1524087240  8184.99  8186.00  8184.99  8186.00  8.712934"
      ]
     },
     "execution_count": 421,
     "metadata": {},
     "output_type": "execute_result"
    }
   ],
   "source": [
    "chart_15m_df = chart_15m_df[[\"time\",\"open\",\"high\",\"low\",\"close\",\"volume\"]]\n",
    "chart_15m_df.head()"
   ]
  },
  {
   "cell_type": "code",
   "execution_count": 422,
   "metadata": {},
   "outputs": [],
   "source": []
  },
  {
   "cell_type": "code",
   "execution_count": 423,
   "metadata": {
    "scrolled": false
   },
   "outputs": [
    {
     "data": {
      "text/html": [
       "<div>\n",
       "<style scoped>\n",
       "    .dataframe tbody tr th:only-of-type {\n",
       "        vertical-align: middle;\n",
       "    }\n",
       "\n",
       "    .dataframe tbody tr th {\n",
       "        vertical-align: top;\n",
       "    }\n",
       "\n",
       "    .dataframe thead th {\n",
       "        text-align: right;\n",
       "    }\n",
       "</style>\n",
       "<table border=\"1\" class=\"dataframe\">\n",
       "  <thead>\n",
       "    <tr style=\"text-align: right;\">\n",
       "      <th></th>\n",
       "      <th>time</th>\n",
       "      <th>open</th>\n",
       "      <th>high</th>\n",
       "      <th>low</th>\n",
       "      <th>close</th>\n",
       "      <th>volume</th>\n",
       "    </tr>\n",
       "  </thead>\n",
       "  <tbody>\n",
       "    <tr>\n",
       "      <th>0</th>\n",
       "      <td>2018-04-18 21:38:00</td>\n",
       "      <td>8187.48</td>\n",
       "      <td>8187.48</td>\n",
       "      <td>8187.48</td>\n",
       "      <td>8187.48</td>\n",
       "      <td>0.269797</td>\n",
       "    </tr>\n",
       "    <tr>\n",
       "      <th>1</th>\n",
       "      <td>2018-04-18 21:37:00</td>\n",
       "      <td>8187.49</td>\n",
       "      <td>8187.49</td>\n",
       "      <td>8187.48</td>\n",
       "      <td>8187.49</td>\n",
       "      <td>9.063333</td>\n",
       "    </tr>\n",
       "    <tr>\n",
       "      <th>2</th>\n",
       "      <td>2018-04-18 21:36:00</td>\n",
       "      <td>8187.49</td>\n",
       "      <td>8187.49</td>\n",
       "      <td>8187.48</td>\n",
       "      <td>8187.48</td>\n",
       "      <td>7.419944</td>\n",
       "    </tr>\n",
       "    <tr>\n",
       "      <th>3</th>\n",
       "      <td>2018-04-18 21:35:00</td>\n",
       "      <td>8185.99</td>\n",
       "      <td>8187.49</td>\n",
       "      <td>8185.99</td>\n",
       "      <td>8187.48</td>\n",
       "      <td>1.762627</td>\n",
       "    </tr>\n",
       "    <tr>\n",
       "      <th>4</th>\n",
       "      <td>2018-04-18 21:34:00</td>\n",
       "      <td>8184.99</td>\n",
       "      <td>8186.00</td>\n",
       "      <td>8184.99</td>\n",
       "      <td>8186.00</td>\n",
       "      <td>8.712934</td>\n",
       "    </tr>\n",
       "  </tbody>\n",
       "</table>\n",
       "</div>"
      ],
      "text/plain": [
       "                 time     open     high      low    close    volume\n",
       "0 2018-04-18 21:38:00  8187.48  8187.48  8187.48  8187.48  0.269797\n",
       "1 2018-04-18 21:37:00  8187.49  8187.49  8187.48  8187.49  9.063333\n",
       "2 2018-04-18 21:36:00  8187.49  8187.49  8187.48  8187.48  7.419944\n",
       "3 2018-04-18 21:35:00  8185.99  8187.49  8185.99  8187.48  1.762627\n",
       "4 2018-04-18 21:34:00  8184.99  8186.00  8184.99  8186.00  8.712934"
      ]
     },
     "execution_count": 423,
     "metadata": {},
     "output_type": "execute_result"
    }
   ],
   "source": [
    "chart_15m_df['time'] =pd.to_datetime(chart_15m_df['time'],unit='s')\n",
    "chart_15m_df.head()"
   ]
  },
  {
   "cell_type": "code",
   "execution_count": null,
   "metadata": {},
   "outputs": [],
   "source": [
    "# Auto support/resistance adapted into function\n",
    "    # Source: Adapted from https://github.com/nakulnayyar/SupResGenerator\n",
    "from pandas_datareader import data, wb\n",
    "from sklearn.cluster import MeanShift, estimate_bandwidth\n",
    "\n",
    "def autoSR(dataframe):\n",
    "    data = chart_15m_df.as_matrix(columns=['close'])\n",
    "    data2 = data[:len(data)*1]\n",
    "    bandwidth = estimate_bandwidth(data2, quantile=0.1, n_samples=100)\n",
    "    ms = MeanShift(bandwidth=bandwidth, bin_seeding=True)\n",
    "    ms.fit(data2)\n",
    "    ml_results = []\n",
    "    for k in range(len(np.unique(ms.labels_))):\n",
    "            my_members = ms.labels_ == k\n",
    "            values = data[my_members, 0]    \n",
    "            ml_results.append(min(values))\n",
    "            ml_results.append(max(values))\n",
    "    return ml_results"
   ]
  },
  {
   "cell_type": "code",
   "execution_count": 503,
   "metadata": {
    "scrolled": true
   },
   "outputs": [
    {
     "data": {
      "image/png": "[encoded data removed]",
      "text/plain": [
       "<matplotlib.figure.Figure at 0x278423f76d8>"
      ]
     },
     "metadata": {},
     "output_type": "display_data"
    }
   ],
   "source": [
    "# Generate chart of past 15 minutes with autogenerated support and resistance levels:\n",
    "fig, ax = plt.subplots(figsize=(16, 8)\n",
    "                     )\n",
    "candlestick2_ohlc(ax,chart_15m_df['open'],chart_15m_df['high'],chart_15m_df['low'],chart_15m_df['close'],width=2,\\\n",
    "                  colorup='k',colordown='r',alpha=.5)\n",
    "ax.set_xticklabels(chart_15m_df['time'] ,rotation=30)\n",
    "plt.yticks(np.arange(min(chart_15m_df['low']), max(chart_15m_df['high'])+20, 10))\n",
    "#ax.minorticks_on()\n",
    "ax.set_axisbelow(True)\n",
    "ax.grid(which='major', linestyle='--', linewidth='0.1', color='b')\n",
    "matplotlib.pyplot.title(\"15 Min BTC/USD with Support/Resistance Levels\")\n",
    "#volume_overlay2(chart_15m_df['close'],chart_15m_df['volume'],width=1,colorup='k',colordown='r',alpha=1)\n",
    "autoSR(chart_15m_df)\n",
    "for k in ml_results:\n",
    "    plt.axhline(y=k)\n",
    "plt.tight_layout()\n",
    "plt.show()"
   ]
  },
  {
   "cell_type": "code",
   "execution_count": 502,
   "metadata": {},
   "outputs": [
    {
     "name": "stdout",
     "output_type": "stream",
     "text": [
      "Auto generated support and resistance levels for past 15 minutes:\n",
      "[8106.91, 8125.1, 8097.99, 8106.41, 8172.13, 8188.95, 8189.95, 8204.18, 8090.62, 8097.83, 8016.01, 8016.01, 8221.02, 8221.02, 8129.99, 8143.93, 8084.39, 8084.39]\n"
     ]
    }
   ],
   "source": [
    "print(\"Auto generated support and resistance levels for past 15 minutes:\")\n",
    "print(ml_results)"
   ]
  },
  {
   "cell_type": "code",
   "execution_count": 498,
   "metadata": {},
   "outputs": [],
   "source": [
    "\n"
   ]
  },
  {
   "cell_type": "code",
   "execution_count": null,
   "metadata": {},
   "outputs": [],
   "source": [
    "\n"
   ]
  },
  {
   "cell_type": "code",
   "execution_count": null,
   "metadata": {},
   "outputs": [],
   "source": []
  },
  {
   "cell_type": "code",
   "execution_count": null,
   "metadata": {},
   "outputs": [],
   "source": []
  }
 ],
 "metadata": {
  "kernelspec": {
   "display_name": "Python 3",
   "language": "python",
   "name": "python3"
  },
  "language_info": {
   "codemirror_mode": {
    "name": "ipython",
    "version": 3
   },
   "file_extension": ".py",
   "mimetype": "text/x-python",
   "name": "python",
   "nbconvert_exporter": "python",
   "pygments_lexer": "ipython3",
   "version": "3.6.4"
  }
 },
 "nbformat": 4,
 "nbformat_minor": 2
}
